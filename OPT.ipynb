{
 "cells": [
  {
   "cell_type": "markdown",
   "metadata": {},
   "source": [
    "### Imports"
   ]
  },
  {
   "cell_type": "code",
   "execution_count": 2,
   "metadata": {},
   "outputs": [],
   "source": [
    "import gym\n",
    "import gym.spaces\n",
    "import numpy as np\n",
    "import cv2 as cv\n",
    "import matplotlib.pyplot as plt\n",
    "from collections import deque, namedtuple\n",
    "from tqdm import tqdm\n",
    "import datetime\n",
    "import random\n",
    "import pickle\n",
    "from pathlib import Path\n",
    "\n",
    "import torch\n",
    "import torch.nn as nn\n",
    "import torch.optim as optim\n",
    "from torch.utils.tensorboard import SummaryWriter\n",
    "%load_ext tensorboard"
   ]
  },
  {
   "cell_type": "code",
   "execution_count": 3,
   "metadata": {},
   "outputs": [],
   "source": [
    "device = 'cuda' if torch.cuda.is_available() else 'cpu'"
   ]
  },
  {
   "cell_type": "code",
   "execution_count": 4,
   "metadata": {},
   "outputs": [],
   "source": [
    "def set_seed(seed, env):\n",
    "    env.seed(seed)\n",
    "    torch.manual_seed(seed)\n",
    "    random.seed(seed)\n",
    "    np.random.seed(seed)"
   ]
  },
  {
   "cell_type": "markdown",
   "metadata": {},
   "source": [
    "### Wrappers"
   ]
  },
  {
   "cell_type": "code",
   "execution_count": 5,
   "metadata": {},
   "outputs": [],
   "source": [
    "class NoopResetEnv(gym.Wrapper):\n",
    "    def __init__(self, env, noop_max=30):\n",
    "        gym.Wrapper.__init__(self, env)\n",
    "        self.noop_max = noop_max\n",
    "        self.noop_action = 0\n",
    "        assert self.env.unwrapped.get_action_meanings()[0] == 'NOOP'\n",
    "\n",
    "    def reset(self):\n",
    "        self.env.reset()\n",
    "        noops = self.env.unwrapped.np_random.integers(1, self.noop_max+1)\n",
    "        assert noops > 0\n",
    "        obs = None\n",
    "        for _ in range(noops):\n",
    "            obs, _, done, _, _ = self.env.step(self.noop_action)\n",
    "            if done:\n",
    "                obs = self.env.reset()\n",
    "        return obs"
   ]
  },
  {
   "cell_type": "code",
   "execution_count": 6,
   "metadata": {},
   "outputs": [],
   "source": [
    "class MaxAndSkipEnv(gym.Wrapper):\n",
    "    def __init__(self, env, skip=4):\n",
    "        gym.Wrapper.__init__(self, env)\n",
    "        self._skip = skip\n",
    "        self._obs_buffer = np.zeros((2,) + self.env.observation_space.shape, dtype=np.uint8)\n",
    "\n",
    "    def step(self, action):\n",
    "        total_reward = 0.0\n",
    "        done = None\n",
    "        for i in range(self._skip):\n",
    "            obs, reward, done, _, info = self.env.step(action)\n",
    "            if i == 0: self._obs_buffer[0] = obs\n",
    "            if i == self._skip - 1: self._obs_buffer[1] = obs            \n",
    "            total_reward += reward\n",
    "            if done:\n",
    "                break\n",
    "        max_frame = self._obs_buffer.max(axis=0)\n",
    "        return max_frame, total_reward, done, info\n",
    "\n",
    "    def reset(self):\n",
    "        obs = self.env.reset()\n",
    "        return obs"
   ]
  },
  {
   "cell_type": "code",
   "execution_count": 7,
   "metadata": {},
   "outputs": [],
   "source": [
    "class TimeLimit(gym.Wrapper):\n",
    "    def __init__(self, env, max_episode_steps=None):\n",
    "        super(TimeLimit, self).__init__(env)\n",
    "        self._max_episode_steps = max_episode_steps\n",
    "        self._elapsed_steps = 0\n",
    "\n",
    "    def step(self, action):\n",
    "        obs, reward, done, info = self.env.step(action)\n",
    "        self._elapsed_steps += 1\n",
    "        if self._elapsed_steps >= self._max_episode_steps:\n",
    "            done = True\n",
    "            info['TimeLimit.truncated'] = True\n",
    "        return obs, reward, done, info\n",
    "\n",
    "    def reset(self):\n",
    "        self._elapsed_steps = 0\n",
    "        obs = self.env.reset()\n",
    "        return obs"
   ]
  },
  {
   "cell_type": "code",
   "execution_count": 8,
   "metadata": {},
   "outputs": [],
   "source": [
    "class FireResetEnv(gym.Wrapper):\n",
    "    def __init__(self, env):\n",
    "        gym.Wrapper.__init__(self, env)\n",
    "        self.lives = self.env.ale.lives()\n",
    "        assert self.env.unwrapped.get_action_meanings()[1] == 'FIRE'\n",
    "        assert len(self.env.unwrapped.get_action_meanings()) >= 3\n",
    "\n",
    "    def reset(self):\n",
    "        self.env.reset()\n",
    "        obs, _, done, _ = self.env.step(1)\n",
    "        if done:\n",
    "            self.env.reset()\n",
    "        obs, _, done, _ = self.env.step(2)\n",
    "        if done:\n",
    "            self.env.reset()\n",
    "        return obs\n",
    "\n",
    "    def step(self, action):\n",
    "        if self.lives > self.env.ale.lives():\n",
    "            self.lives = self.env.ale.lives()\n",
    "            action = 1\n",
    "        obs, reward, done, info = self.env.step(action)\n",
    "        return obs, reward, done, info"
   ]
  },
  {
   "cell_type": "code",
   "execution_count": 9,
   "metadata": {},
   "outputs": [],
   "source": [
    "class ClipReward(gym.RewardWrapper):\n",
    "    def __init__(self, env, min_r=-1, max_r=1):\n",
    "        super().__init__(env)\n",
    "        self.min_r = min_r\n",
    "        self.max_r = max_r\n",
    "\n",
    "    def reward(self, reward):\n",
    "        if reward < 0:\n",
    "            return self.min_r\n",
    "        elif reward > 0:\n",
    "            return self.max_r\n",
    "        else:\n",
    "            return 0\n",
    "\n",
    "    def step(self, action):\n",
    "        obs, rew, done, info = self.env.step(action)\n",
    "        return obs, self.reward(rew), done, info"
   ]
  },
  {
   "cell_type": "markdown",
   "metadata": {},
   "source": [
    "-----------NOT SURE ABOUT WARPFRAME----------"
   ]
  },
  {
   "cell_type": "code",
   "execution_count": 10,
   "metadata": {},
   "outputs": [],
   "source": [
    "class WarpFrame(gym.ObservationWrapper):\n",
    "    def __init__(self, env, width=84, height=84):\n",
    "        super().__init__(env)\n",
    "        self._width = width\n",
    "        self._height = height\n",
    "        num_channels = 3\n",
    "\n",
    "        new_space = gym.spaces.Box(\n",
    "            low = 0,\n",
    "            high = 255,\n",
    "            shape = (self._height, self._width, num_channels),\n",
    "            dtype = np.uint8\n",
    "        )\n",
    "        original_space = self.observation_space\n",
    "        self.observation_space = new_space\n",
    "        assert original_space.dtype == np.uint8 and len(original_space.shape) == 3\n",
    "\n",
    "    def observation(self, obs):\n",
    "       return  cv.resize(\n",
    "            obs, (self._width, self._height), interpolation=cv.INTER_AREA\n",
    "        )\n",
    "\n",
    "    def step(self, action):\n",
    "        obs, reward, done, info = self.env.step(action)\n",
    "        return self.observation(obs), reward, done, info\n",
    "\n",
    "    def reset(self):\n",
    "        obs = self.env.reset()\n",
    "        return self.observation(obs)"
   ]
  },
  {
   "cell_type": "code",
   "execution_count": 11,
   "metadata": {},
   "outputs": [],
   "source": [
    "class FrameStack(gym.Wrapper):\n",
    "    def __init__(self, env, k=2):\n",
    "        gym.Wrapper.__init__(self, env)\n",
    "        self.k = k\n",
    "        self.frames = deque([], maxlen=k)\n",
    "        self.observation_space = gym.spaces.Box(\n",
    "            low = 0,\n",
    "            high = 255,\n",
    "            shape = (2,84,84,3),\n",
    "            dtype = env.observation_space.dtype\n",
    "        )\n",
    "        \n",
    "    def reset(self):\n",
    "        obs = self.env.reset()\n",
    "        for _ in range(self.k):\n",
    "            self.frames.append(obs)\n",
    "        return self._get_obs()\n",
    "\n",
    "    def step(self, action):\n",
    "        obs, reward, done, info = self.env.step(action)\n",
    "        self.frames.append(obs)\n",
    "        return self._get_obs(), reward, done, info\n",
    "\n",
    "    def _get_obs(self):\n",
    "        assert len(self.frames) == self.k\n",
    "        return self.frames"
   ]
  },
  {
   "cell_type": "code",
   "execution_count": 12,
   "metadata": {},
   "outputs": [],
   "source": [
    "class OpticalFlowCV(gym.ObservationWrapper):\n",
    "    def __init__(self, env):\n",
    "        super().__init__(env)\n",
    "        self.observation_space = gym.spaces.Box(\n",
    "            low = 0,\n",
    "            high = 255,\n",
    "            shape = env.observation_space.shape,\n",
    "            dtype = np.float32\n",
    "        )\n",
    "\n",
    "    def observation(self, obs):\n",
    "        assert np.array(obs).shape == (2, 84, 84, 3)\n",
    "        frames = obs\n",
    "\n",
    "        first_frame = frames[0].astype('uint8')\n",
    "        prev_gray = cv.cvtColor(first_frame, cv.COLOR_RGB2GRAY)\n",
    "\n",
    "        mask = np.zeros_like(first_frame)\n",
    "        mask[..., 1] = 255\n",
    "\n",
    "        frame = frames[1].astype('uint8')\n",
    "        gray = cv.cvtColor(frame, cv.COLOR_RGB2GRAY)\n",
    "\n",
    "        flow = cv.calcOpticalFlowFarneback(prev_gray, gray,\n",
    "                                        None, \n",
    "                                        0.5, 5, 5, 5, 7, 1.5, 0)\n",
    "\n",
    "        magnitude, angle = cv.cartToPolar(flow[..., 0], flow[..., 1])\n",
    "        mask[..., 0] = angle * 180 / np.pi / 2\n",
    "        mask[..., 2] = cv.normalize(magnitude, None, 0, 255, cv.NORM_MINMAX)\n",
    "\n",
    "        flow = cv.cvtColor(mask, cv.COLOR_HSV2RGB)\n",
    "        obs[0] = flow\n",
    "        obs[1] = frames[1]\n",
    "        assert np.array(obs).shape == (2, 84, 84, 3)\n",
    "        return obs\n",
    "\n",
    "    def step(self, action):\n",
    "        obs, reward, done, info = self.env.step(action)\n",
    "        return self.observation(obs), reward, done, info\n",
    "\n",
    "    def reset(self):\n",
    "        obs = self.env.reset()\n",
    "        return obs"
   ]
  },
  {
   "cell_type": "code",
   "execution_count": 13,
   "metadata": {},
   "outputs": [],
   "source": [
    "class ScaledFloatFrame(gym.ObservationWrapper):\n",
    "    def __init__(self, env):\n",
    "        gym.ObservationWrapper.__init__(self, env)\n",
    "        self.observation_space = gym.spaces.Box(\n",
    "            low = 0,\n",
    "            high = 255,\n",
    "            shape = (6,84,84),\n",
    "            dtype = np.float32\n",
    "        )\n",
    "\n",
    "    def observation(self, obs):\n",
    "        assert np.array(obs).shape == (2, 84, 84, 3)\n",
    "        obs = np.array(obs).astype(np.float32)\n",
    "        obs[1] = obs[1] / 255.0\n",
    "        obs = obs.reshape(6,84,84)\n",
    "        return obs\n",
    "\n",
    "    def step(self, action):\n",
    "        obs, reward, done, info = self.env.step(action)\n",
    "        return self.observation(obs), reward, done, info\n",
    "\n",
    "    def reset(self):\n",
    "        obs = self.env.reset()\n",
    "        return self.observation(obs)"
   ]
  },
  {
   "cell_type": "code",
   "execution_count": null,
   "metadata": {},
   "outputs": [],
   "source": []
  },
  {
   "cell_type": "code",
   "execution_count": null,
   "metadata": {},
   "outputs": [],
   "source": [
    "class EpisodicLifeEnv(gym.Wrapper):\n",
    "    \"\"\"\n",
    "    Termina el episodio cuando se pierde una vida, pero solo reinicia si\n",
    "    se pierden todas.\n",
    "    \"\"\"\n",
    "    def __init__(self, env):\n",
    "        gym.Wrapper.__init__(self, env)\n",
    "        self.lives = 0\n",
    "        self.is_done = True\n",
    "        \n",
    "    def step(self, action):\n",
    "        obs, reward, done, info = self.env.step(action)\n",
    "        self.is_done = done\n",
    "        lives = self.env.unwrapped.ale.lives()\n",
    "        if lives < self.lives and lives > 0:\n",
    "            done = True\n",
    "        self.lives = lives\n",
    "        return obs, reward, done, info\n",
    "    \n",
    "    def reset(self):\n",
    "        if self.is_done:\n",
    "            obs = self.env.reset()\n",
    "        else:\n",
    "            obs, _, _, _ = self.env.step(0)\n",
    "        self.lives = self.env.unwrapped.ale.lives()\n",
    "        return obs"
   ]
  },
  {
   "cell_type": "code",
   "execution_count": 14,
   "metadata": {},
   "outputs": [],
   "source": [
    "def make_atari(env_id, max_episode_steps=None, noop_max=30, skip=4):\n",
    "    env = gym.make(env_id, render_mode=None)\n",
    "    assert 'NoFrameskip' in env.spec.id\n",
    "    env = NoopResetEnv(env, noop_max)\n",
    "    env = MaxAndSkipEnv(env, skip)\n",
    "    if max_episode_steps is not None:\n",
    "        env = TimeLimit(env, max_episode_steps=max_episode_steps)\n",
    "    if 'FIRE' in env.unwrapped.get_action_meanings():\n",
    "        env = FireResetEnv(env)\n",
    "    env = WarpFrame(env)\n",
    "    env = FrameStack(env)\n",
    "    env = OpticalFlowCV(env)\n",
    "    env = ScaledFloatFrame(env)\n",
    "    env = EpisodicLifeEnv(env)\n",
    "    return env\n"
   ]
  },
  {
   "cell_type": "markdown",
   "metadata": {},
   "source": [
    "#### TEST"
   ]
  },
  {
   "cell_type": "code",
   "execution_count": 15,
   "metadata": {},
   "outputs": [],
   "source": [
    "GAME = 'MsPacmanNoFrameskip-v4'"
   ]
  },
  {
   "cell_type": "code",
   "execution_count": 16,
   "metadata": {},
   "outputs": [],
   "source": [
    "env = make_atari(GAME)"
   ]
  },
  {
   "cell_type": "code",
   "execution_count": 17,
   "metadata": {},
   "outputs": [],
   "source": [
    "start = env.reset().reshape(2,84,84,3)"
   ]
  },
  {
   "cell_type": "code",
   "execution_count": 18,
   "metadata": {},
   "outputs": [
    {
     "data": {
      "text/plain": [
       "(2, 84, 84, 3)"
      ]
     },
     "execution_count": 18,
     "metadata": {},
     "output_type": "execute_result"
    }
   ],
   "source": [
    "start.shape"
   ]
  },
  {
   "cell_type": "code",
   "execution_count": 19,
   "metadata": {},
   "outputs": [
    {
     "name": "stderr",
     "output_type": "stream",
     "text": [
      "WARNING:matplotlib.image:Clipping input data to the valid range for imshow with RGB data ([0..1] for floats or [0..255] for integers).\n"
     ]
    },
    {
     "data": {
      "image/png": "[encoded data removed]",
      "text/plain": [
       "<Figure size 640x480 with 1 Axes>"
      ]
     },
     "metadata": {},
     "output_type": "display_data"
    }
   ],
   "source": [
    "plt.imshow(start[0])\n",
    "plt.show()"
   ]
  },
  {
   "cell_type": "code",
   "execution_count": 20,
   "metadata": {},
   "outputs": [
    {
     "data": {
      "image/png": "[encoded data removed]",
      "text/plain": [
       "<Figure size 640x480 with 1 Axes>"
      ]
     },
     "metadata": {},
     "output_type": "display_data"
    }
   ],
   "source": [
    "plt.imshow(start[1])\n",
    "plt.show()"
   ]
  },
  {
   "cell_type": "code",
   "execution_count": 21,
   "metadata": {},
   "outputs": [],
   "source": [
    "step, _, _, _ = env.step(2)"
   ]
  },
  {
   "cell_type": "code",
   "execution_count": 22,
   "metadata": {},
   "outputs": [],
   "source": [
    "step = step.reshape(2,84,84,3)"
   ]
  },
  {
   "cell_type": "code",
   "execution_count": 23,
   "metadata": {},
   "outputs": [
    {
     "name": "stderr",
     "output_type": "stream",
     "text": [
      "WARNING:matplotlib.image:Clipping input data to the valid range for imshow with RGB data ([0..1] for floats or [0..255] for integers).\n"
     ]
    },
    {
     "data": {
      "image/png": "[encoded data removed]",
      "text/plain": [
       "<Figure size 640x480 with 1 Axes>"
      ]
     },
     "metadata": {},
     "output_type": "display_data"
    }
   ],
   "source": [
    "plt.imshow(step[0])\n",
    "plt.show()"
   ]
  },
  {
   "cell_type": "code",
   "execution_count": 24,
   "metadata": {},
   "outputs": [
    {
     "data": {
      "image/png": "[encoded data removed]",
      "text/plain": [
       "<Figure size 640x480 with 1 Axes>"
      ]
     },
     "metadata": {},
     "output_type": "display_data"
    }
   ],
   "source": [
    "plt.imshow(step[1])\n",
    "plt.show()"
   ]
  },
  {
   "cell_type": "markdown",
   "metadata": {},
   "source": [
    "### DQN"
   ]
  },
  {
   "cell_type": "code",
   "execution_count": 25,
   "metadata": {},
   "outputs": [],
   "source": [
    "class DQN(nn.Module):\n",
    "    def __init__(self, input_shape, n_actions):\n",
    "        super(DQN, self).__init__()\n",
    "        \n",
    "        self.conv = nn.Sequential(\n",
    "            nn.Conv2d(input_shape[0], 32, kernel_size=8, stride=4),\n",
    "            nn.ReLU(),\n",
    "            nn.Conv2d(32, 64, kernel_size=4, stride=2),\n",
    "            nn.ReLU(),\n",
    "            nn.Conv2d(64, 64, kernel_size=3, stride=1),\n",
    "            nn.ReLU()\n",
    "        )\n",
    "\n",
    "        conv_out_size = self._get_conv_out(input_shape)\n",
    "        self.fc = nn.Sequential(\n",
    "            nn.Linear(conv_out_size, 512),\n",
    "            nn.ReLU(),\n",
    "            nn.Linear(512, n_actions)\n",
    "        )\n",
    "\n",
    "    def _get_conv_out(self, shape):\n",
    "        o = self.conv(torch.zeros(1, *shape))\n",
    "        return int(np.prod(o.size()))\n",
    "\n",
    "    def forward(self, x):\n",
    "        conv_out = self.conv(x).view(x.size()[0], -1)\n",
    "        return self.fc(conv_out)"
   ]
  },
  {
   "cell_type": "code",
   "execution_count": 26,
   "metadata": {},
   "outputs": [
    {
     "data": {
      "text/plain": [
       "DQN(\n",
       "  (conv): Sequential(\n",
       "    (0): Conv2d(6, 32, kernel_size=(8, 8), stride=(4, 4))\n",
       "    (1): ReLU()\n",
       "    (2): Conv2d(32, 64, kernel_size=(4, 4), stride=(2, 2))\n",
       "    (3): ReLU()\n",
       "    (4): Conv2d(64, 64, kernel_size=(3, 3), stride=(1, 1))\n",
       "    (5): ReLU()\n",
       "  )\n",
       "  (fc): Sequential(\n",
       "    (0): Linear(in_features=3136, out_features=512, bias=True)\n",
       "    (1): ReLU()\n",
       "    (2): Linear(in_features=512, out_features=9, bias=True)\n",
       "  )\n",
       ")"
      ]
     },
     "execution_count": 26,
     "metadata": {},
     "output_type": "execute_result"
    }
   ],
   "source": [
    "net = DQN(env.observation_space.shape, env.action_space.n).to(device)\n",
    "net"
   ]
  },
  {
   "cell_type": "markdown",
   "metadata": {},
   "source": [
    "### Experience Replay"
   ]
  },
  {
   "cell_type": "code",
   "execution_count": 27,
   "metadata": {},
   "outputs": [],
   "source": [
    "Experience = namedtuple('Experience', field_names=['state','action','reward','done','next_state'])\n",
    "\n",
    "class ExperienceReplay:\n",
    "    def __init__(self, capacity):\n",
    "        self.buffer = deque(maxlen=capacity)\n",
    "\n",
    "    def __len__(self):\n",
    "        return len(self.buffer)\n",
    "\n",
    "    def append(self, *args):\n",
    "        self.buffer.append(Experience(*args))\n",
    "\n",
    "    def sample(self, batch_size):\n",
    "        return random.sample(self.buffer, batch_size)"
   ]
  },
  {
   "cell_type": "markdown",
   "metadata": {},
   "source": [
    "### Agent"
   ]
  },
  {
   "cell_type": "code",
   "execution_count": 36,
   "metadata": {},
   "outputs": [],
   "source": [
    "class Agent:\n",
    "    def __init__(self, env, exp_buffer):\n",
    "        self.env = env\n",
    "        self.exp_buffer = exp_buffer\n",
    "        self._reset()\n",
    "\n",
    "    def _reset(self):\n",
    "        self.state = self.env.reset()\n",
    "        self.total_reward = 0.0\n",
    "\n",
    "    def play_step(self, net, epsilon=0.0, device='cuda'):\n",
    "        done_reward = None\n",
    "\n",
    "        if np.random.random() < epsilon:\n",
    "            action = self.env.action_space.sample()\n",
    "        else:\n",
    "            state_a = np.array([self.state], copy=False)\n",
    "            state_v = torch.tensor(state_a).to(device)\n",
    "            q_vals_v = net(state_v)\n",
    "            _, act_v = torch.max(q_vals_v, dim=1)\n",
    "            action = int(act_v.item())\n",
    "\n",
    "        new_state, reward, done, _ = self.env.step(action)\n",
    "        self.total_reward += reward\n",
    "\n",
    "        self.exp_buffer.append(self.state, action, reward, done, new_state)\n",
    "        self.state = new_state\n",
    "\n",
    "        if done:\n",
    "            done_reward = self.total_reward\n",
    "            self._reset()\n",
    "\n",
    "        return done_reward\n"
   ]
  },
  {
   "cell_type": "markdown",
   "metadata": {},
   "source": [
    "### Función de entrenamiento"
   ]
  },
  {
   "cell_type": "code",
   "execution_count": 37,
   "metadata": {},
   "outputs": [],
   "source": [
    "def training(env_name, replay_memory_size=1_000_000, max_frames=50_000_000, gamma=0.99, batch_size=32,  \\\n",
    "             learning_rate=0.00025, momentum=0.95, min_gradient=0.1, sync_target_frames=10_000, \\\n",
    "             replay_start_size=50_000, eps_start=1, eps_min=0.1, seed=2109, device='cuda', verbose=True):\n",
    "    \"\"\"\n",
    "    Función de entrenamiento.\n",
    "    \"\"\"\n",
    "    path = \"dictsOpt/\" + env_name + \"_opt\"\n",
    "    Path(path).mkdir(parents=True, exist_ok=True)\n",
    "    \n",
    "    env = make_atari(env_name)\n",
    "    buffer = ExperienceReplay(replay_memory_size)\n",
    "    agent = Agent(env, buffer)\n",
    "    set_seed(seed=seed, env=env)\n",
    "    \n",
    "    net        = DQN(env.observation_space.shape, env.action_space.n).to(device)\n",
    "    target_net = DQN(env.observation_space.shape, env.action_space.n).to(device)\n",
    "    writer = SummaryWriter(comment='-' + env_name + \"_opt\")\n",
    "    \n",
    "    epsilon = eps_start\n",
    "    eps_decay = (eps_start - eps_min) / replay_memory_size\n",
    "    \n",
    "    optimizer = optim.RMSprop(net.parameters(), lr=learning_rate, momentum=momentum, eps=min_gradient)\n",
    "    total_rewards = []\n",
    "    \n",
    "    best_mean_reward = None\n",
    "    start_time = datetime.datetime.now()\n",
    "    \n",
    "    for frame in tqdm(range(1, max_frames+1)):\n",
    "        epsilon = max(epsilon-eps_decay, eps_min)\n",
    "        \n",
    "        reward = agent.play_step(net, epsilon, device=device)\n",
    "        if reward is not None:\n",
    "            total_rewards.append(reward)\n",
    "            mean_reward = np.mean(total_rewards[-100:])\n",
    "            \n",
    "            time_passed = datetime.datetime.now() - start_time\n",
    "            \n",
    "            #writer.add_scalar(\"epsilon\", epsilon, frame)\n",
    "            writer.add_scalar(\"reward_100\", mean_reward, frame)\n",
    "            writer.add_scalar(\"reward\", reward, frame)\n",
    "            \n",
    "            if best_mean_reward is None or best_mean_reward < mean_reward:\n",
    "                torch.save(net.state_dict(), path + \"/\" + env_name + \"_opt_best.dat\")\n",
    "                best_mean_reward = mean_reward\n",
    "                \n",
    "        if len(buffer) < replay_start_size:\n",
    "            continue\n",
    "            \n",
    "        sardn = buffer.sample(batch_size)\n",
    "        batch = Experience(*zip(*sardn))\n",
    "        \n",
    "        states_v = torch.tensor(np.array(batch.state)).to(device)\n",
    "        next_states_v = torch.tensor(np.array(batch.next_state)).to(device)\n",
    "        actions_v = torch.tensor(batch.action).to(device)\n",
    "        rewards_v = torch.tensor(batch.reward).to(device)\n",
    "        done_mask = torch.BoolTensor(batch.done).to(device)\n",
    "        \n",
    "        state_action_values = net(states_v).gather(1, actions_v.unsqueeze(-1)).squeeze(-1)\n",
    "        next_state_values = target_net(next_states_v).max(1)[0]\n",
    "        next_state_values[done_mask] = 0.0\n",
    "        next_state_values = next_state_values.detach()\n",
    "        expected_state_action_values = next_state_values*gamma + rewards_v\n",
    "        \n",
    "        loss_t = nn.MSELoss()(state_action_values, expected_state_action_values) # MSELoss()(input,target)\n",
    "        \n",
    "        optimizer.zero_grad()\n",
    "        loss_t.backward()\n",
    "        optimizer.step()\n",
    "        \n",
    "        if (frame + 1) % sync_target_frames == 0:\n",
    "            target_net.load_state_dict(net.state_dict())\n",
    "\n",
    "        if (frame + 1) % (max_frames / 50) == 0:\n",
    "            if verbose:\n",
    "                print(\"{}:  {} games, best result {:.3f}, mean reward {:.3f}, eps {:.2f}, time {}\".format(\n",
    "                    frame + 1, len(total_rewards), max(total_rewards), mean_reward, epsilon, time_passed))\n",
    "        if (frame+1) % (max_frames/10) == 0:\n",
    "            torch.save(net.state_dict(), path + \"/\" + env_name + \"_opt_\" + str(int((frame+1)/(max_frames/10))) + \".dat\")\n",
    "\n",
    "    print(\"Training finished\")\n",
    "    print(\"{}:  {} games, mean reward {:.3f}, eps {:.2f}, time {}\".format(\n",
    "            frame + 1, len(total_rewards), mean_reward, epsilon, time_passed))\n",
    "         \n",
    "    writer.close()\n",
    "    pkl_file = \"dicts/\" + env_name + \"/\" + env_name + \"_opt.pkl\"\n",
    "    with open(pkl_file, 'wb+') as f:\n",
    "        pickle.dump(total_rewards, f)\n",
    "    return total_rewards"
   ]
  },
  {
   "cell_type": "markdown",
   "metadata": {},
   "source": [
    "### Training"
   ]
  },
  {
   "cell_type": "code",
   "execution_count": 38,
   "metadata": {},
   "outputs": [],
   "source": [
    "GAME_NAME = \"MsPacmanNoFrameskip-v4\""
   ]
  },
  {
   "cell_type": "code",
   "execution_count": null,
   "metadata": {},
   "outputs": [],
   "source": [
    "pacman = training(env_name=GAME_NAME, max_frames=10)"
   ]
  },
  {
   "cell_type": "code",
   "execution_count": null,
   "metadata": {},
   "outputs": [],
   "source": []
  }
 ],
 "metadata": {
  "kernelspec": {
   "display_name": "Python 3.10.6 ('Tesis')",
   "language": "python",
   "name": "python3"
  },
  "language_info": {
   "codemirror_mode": {
    "name": "ipython",
    "version": 3
   },
   "file_extension": ".py",
   "mimetype": "text/x-python",
   "name": "python",
   "nbconvert_exporter": "python",
   "pygments_lexer": "ipython3",
   "version": "3.10.6"
  },
  "orig_nbformat": 4,
  "vscode": {
   "interpreter": {
    "hash": "b146aed827ae60627449d0b4f94a6ab6601c47c8b1f6db15b54f9173aed15dda"
   }
  }
 },
 "nbformat": 4,
 "nbformat_minor": 2
}
