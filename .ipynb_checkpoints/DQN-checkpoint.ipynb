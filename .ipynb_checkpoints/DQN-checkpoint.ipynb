{
 "cells": [
  {
   "cell_type": "markdown",
   "id": "478e353e-4f18-4413-9baa-9db9ff11f0d5",
   "metadata": {},
   "source": [
    "### Imports"
   ]
  },
  {
   "cell_type": "code",
   "execution_count": 118,
   "id": "59ec3ece-a29f-4731-882b-77ba78953117",
   "metadata": {},
   "outputs": [],
   "source": [
    "import gym\n",
    "import gym.spaces \n",
    "import numpy as np\n",
    "import cv2 as cv\n",
    "import matplotlib.pyplot as plt\n",
    "from collections import deque\n",
    "from tqdm import tqdm\n",
    "  \n",
    "import torch\n",
    "import torch.nn as nn\n",
    "import torch.optim as optim\n",
    "\n",
    "device = 'cuda' if torch.cuda.is_available() else 'cpu'"
   ]
  },
  {
   "cell_type": "markdown",
   "id": "ffe36eae-4c9c-488f-9f18-eca737cad1bc",
   "metadata": {
    "tags": []
   },
   "source": [
    "### Wrappers"
   ]
  },
  {
   "cell_type": "code",
   "execution_count": 2,
   "id": "0f42e0b9-c15f-4dcc-9ffa-213a2ec276c2",
   "metadata": {},
   "outputs": [],
   "source": [
    "class NoopResetEnv(gym.Wrapper):\n",
    "    \"\"\"\n",
    "    Realiza un número random de \"NOOP\" al invocar reset().\n",
    "    \"\"\"\n",
    "    def __init__(self, env, noop_max=30):\n",
    "        gym.Wrapper.__init__(self, env)\n",
    "        self.noop_max = noop_max\n",
    "        self.noop_action = 0\n",
    "        assert env.unwrapped.get_action_meanings()[0] == 'NOOP'\n",
    "        \n",
    "    def reset(self):\n",
    "        self.env.reset()\n",
    "        noops = self.env.unwrapped.np_random.integers(1, self.noop_max+1)\n",
    "        assert noops > 0\n",
    "        obs = None\n",
    "        for _ in range(noops):\n",
    "            obs, _, done, _, _ = self.env.step(self.noop_action)\n",
    "            if done:\n",
    "                obs = self.env.reset()\n",
    "        return obs"
   ]
  },
  {
   "cell_type": "code",
   "execution_count": 3,
   "id": "de89a3e9-c4fa-469c-9174-86317231886a",
   "metadata": {},
   "outputs": [],
   "source": [
    "class MaxAndSkipEnv(gym.Wrapper):\n",
    "    \"\"\"\n",
    "    Salta un número de frames y regresa el valor promedio de cada pixel.\n",
    "    \"\"\"\n",
    "    def __init__(self, env, skip=4):\n",
    "        gym.Wrapper.__init__(self, env)\n",
    "        self._skip = skip\n",
    "        self._obs_buffer = np.zeros((self._skip,) + env.observation_space.shape, dtype=np.uint8)\n",
    "        \n",
    "    def step(self, action):\n",
    "        total_reward = 0.0\n",
    "        done = None\n",
    "        for i in range(self._skip):\n",
    "            obs, reward, done, _, info = self.env.step(action)\n",
    "            self._obs_buffer[i] = obs\n",
    "            total_reward += reward\n",
    "            if done:\n",
    "                break\n",
    "        max_frame = self._obs_buffer.max(axis=0)\n",
    "        return max_frame, total_reward, done, info\n",
    "    \n",
    "    def reset(self):\n",
    "        obs = self.env.reset()\n",
    "        return obs"
   ]
  },
  {
   "cell_type": "code",
   "execution_count": 4,
   "id": "711908e6-322f-4e6b-ad73-51dc2b377b8d",
   "metadata": {},
   "outputs": [],
   "source": [
    "class TimeLimit(gym.Wrapper):\n",
    "    \"\"\"\n",
    "    Termina el episodio después de un número de pasos.\n",
    "    Evita que los ambientes entren en un loop o sin moverse.\n",
    "    \"\"\"\n",
    "    def __init__(self, env, max_episode_steps=None):\n",
    "        super(TimeLimit, self).__init__(env)\n",
    "        self._max_episode_steps = max_episode_steps\n",
    "        self._elapsed_steps = 0\n",
    "        \n",
    "    def step(self, action):\n",
    "        obs, reward, done, _, info = self.env.step(action)\n",
    "        self._elapsed_steps += 1\n",
    "        if self._elapsed_steps >= self._max_episode_steps:\n",
    "            done = True\n",
    "            info['TimeLimit.truncated'] = True\n",
    "        return obs, reward, done, info\n",
    "\n",
    "    def reset(self):\n",
    "        self._elapsed_steps = 0\n",
    "        obs = self.env.reset()\n",
    "        return obs\n",
    "        "
   ]
  },
  {
   "cell_type": "code",
   "execution_count": 5,
   "id": "be8bb6b5-9df3-472a-bf81-ec108e9c2633",
   "metadata": {},
   "outputs": [],
   "source": [
    "class FireResetEnv(gym.Wrapper):\n",
    "    \"\"\"\n",
    "    Realiza la acción \"FIRE\" para iniciar los juegos que lo requieran.\n",
    "    \"\"\"\n",
    "    def __init__(self, env):\n",
    "        gym.Wrapper.__init__(self, env)\n",
    "        self.lives = env.ale.lives()\n",
    "        assert env.unwrapped.get_action_meanings()[1] == 'FIRE'\n",
    "        #assert len(env.unwrapped.get_action_meanings()) >= 3\n",
    "    \n",
    "    def reset(self):\n",
    "        self.env.reset()\n",
    "        obs, _, done, _, _ = self.env.step(1)\n",
    "        if done:\n",
    "            self.env.reset()\n",
    "        obs, _, done, _, _ = self.env.step(2)\n",
    "        if done:\n",
    "            self.env.reset()\n",
    "        return obs\n",
    "    \n",
    "    def step(self, action):\n",
    "        if self.lives > env.ale.lives():\n",
    "            self.lives = env.ale.lives()\n",
    "            action = 1\n",
    "        obs, reward, done, _, info = self.env.step(action)\n",
    "        return obs, reward, done, info"
   ]
  },
  {
   "cell_type": "code",
   "execution_count": 86,
   "id": "32ec89ce-9828-47f9-93ed-8547d7b5f465",
   "metadata": {},
   "outputs": [],
   "source": [
    "class WarpFrame(gym.ObservationWrapper):\n",
    "    \"\"\"\n",
    "    Reescala las imágenes a 84x84 y las pasa de RGB a gris.\n",
    "    \"\"\"\n",
    "    def __init__(self, env, width=84, height=84):\n",
    "        super().__init__(env)\n",
    "        self._width = width\n",
    "        self._height = height\n",
    "        \n",
    "        new_space = gym.spaces.Box(\n",
    "            low = 0,\n",
    "            high = 255,\n",
    "            shape = (self._height, self._width, 1),\n",
    "            dtype = np.uint8,\n",
    "        )\n",
    "        original_space = self.observation_space\n",
    "        self.observation_space = new_space\n",
    "        assert original_space.dtype == np.uint8 and len(original_space.shape) == 3\n",
    "        \n",
    "    def observation(self, obs):\n",
    "        frame = obs\n",
    "        frame = cv.cvtColor(frame, cv.COLOR_RGB2GRAY)\n",
    "        frame = cv.resize(\n",
    "            frame, (self._width, self._height), interpolation=cv.INTER_AREA\n",
    "        )\n",
    "        obs = frame\n",
    "        return obs\n",
    "    \n",
    "    def reset(self):\n",
    "        obs = self.env.reset()\n",
    "        return self.observation(obs)"
   ]
  },
  {
   "cell_type": "code",
   "execution_count": 93,
   "id": "ce847a53-2766-462e-8f79-85de2194a8fd",
   "metadata": {},
   "outputs": [],
   "source": [
    "class ScaledFloatFrame(gym.ObservationWrapper):\n",
    "    \"\"\"\n",
    "    Reescala de 0-255 a 0-1.\n",
    "    \"\"\"\n",
    "    def __init__(self, env):\n",
    "        gym.ObservationWrapper.__init__(self, env)\n",
    "        self.observation_space = gym.spaces.Box(\n",
    "            low = 0,\n",
    "            high = 255,\n",
    "            shape = env.observation_space.shape,\n",
    "            dtype = np.float32,\n",
    "        )\n",
    "    \n",
    "    def observation(self, observation):\n",
    "        return np.array(observation).astype(np.float32) / 255.0\n",
    "    \n",
    "    def reset(self):\n",
    "        obs = self.env.reset()\n",
    "        return self.observation(obs)"
   ]
  },
  {
   "cell_type": "code",
   "execution_count": 108,
   "id": "89e9eb3e-984b-4714-b2c6-789d62ef07e2",
   "metadata": {},
   "outputs": [],
   "source": [
    "class FrameStack(gym.Wrapper):\n",
    "    \"\"\"\n",
    "    Apila los últimos k frames.\n",
    "    \"\"\"\n",
    "    def __init__(self, env, k=4):\n",
    "        gym.Wrapper.__init__(self, env)\n",
    "        self.k = k\n",
    "        self.frames = deque([], maxlen=k)\n",
    "        self.observation_space = gym.spaces.Box(\n",
    "            low = 0,\n",
    "            high = 255,\n",
    "            shape = (4,84,84),\n",
    "            dtype = env.observation_space.dtype,\n",
    "        )\n",
    "    \n",
    "    def reset(self):\n",
    "        obs = self.env.reset()\n",
    "        for _ in range(self.k):\n",
    "            self.frames.append(obs)\n",
    "        return self._get_obs()\n",
    "    \n",
    "    def step(self, action):\n",
    "        obs, reward, done, _, info = env.step(action)\n",
    "        self.frames.append(obs)\n",
    "        return self._get_obs(), reward, done, info\n",
    "    \n",
    "    def _get_obs(self):\n",
    "        return self.frames"
   ]
  },
  {
   "cell_type": "markdown",
   "id": "67b33409-b0d0-439f-9bc2-35db801475d8",
   "metadata": {},
   "source": [
    "### Funciones de creación del ambiente"
   ]
  },
  {
   "cell_type": "code",
   "execution_count": 114,
   "id": "d70da62c-f3df-4943-8b3b-42b361268712",
   "metadata": {},
   "outputs": [],
   "source": [
    "def make_atari(env_id, frames=4, max_episode_steps=None, noop_max=30, skip=4):\n",
    "    \"\"\"\n",
    "    Crea el ambiente especificado, pasándolo por los Wrappers especificados.\n",
    "    \"\"\"\n",
    "    env = gym.make(env_id)\n",
    "    assert 'NoFrameskip' in env.spec.id\n",
    "    env = NoopResetEnv(env, noop_max)\n",
    "    env = MaxAndSkipEnv(env, skip)\n",
    "    if max_episode_steps is not None:\n",
    "        env = TimeLimit(env, max_episode_steps=max_episode_steps)\n",
    "    if 'FIRE' in env.unwrapped.get_action_meanings():\n",
    "        env = FireResetEnv(env)\n",
    "    env = WarpFrame(env)\n",
    "    env = ScaledFloatFrame(env)\n",
    "    env = FrameStack(env, frames)\n",
    "    return env"
   ]
  },
  {
   "cell_type": "markdown",
   "id": "20c25944-8d3a-4f0e-a183-a0b581b79deb",
   "metadata": {
    "jp-MarkdownHeadingCollapsed": true,
    "tags": []
   },
   "source": [
    "##### TEST"
   ]
  },
  {
   "cell_type": "code",
   "execution_count": 115,
   "id": "f4ef79bb-b348-43c8-9c18-f65a534a0941",
   "metadata": {},
   "outputs": [],
   "source": [
    "GAME = 'MsPacmanNoFrameskip-v4'\n",
    "env = gym.make(GAME)\n",
    "envA = make_atari(GAME)"
   ]
  },
  {
   "cell_type": "code",
   "execution_count": 38,
   "id": "a65c3be1-3de2-4fdb-b860-d38612092247",
   "metadata": {},
   "outputs": [],
   "source": [
    "envg = WarpFrame(env)"
   ]
  },
  {
   "cell_type": "code",
   "execution_count": 39,
   "id": "e5daa3e0-fb58-4414-a9a4-4acd079f7821",
   "metadata": {},
   "outputs": [
    {
     "data": {
      "image/png": "[encoded data removed]",
      "text/plain": [
       "<Figure size 640x480 with 1 Axes>"
      ]
     },
     "metadata": {},
     "output_type": "display_data"
    }
   ],
   "source": [
    "start = envg.reset()[0]\n",
    "plt.imshow(start)\n",
    "plt.show()"
   ]
  },
  {
   "cell_type": "code",
   "execution_count": 9,
   "id": "fb54e16a-309b-4621-bbb2-e1e08816e264",
   "metadata": {},
   "outputs": [],
   "source": [
    "envs = ScaledFloatFrame(envg)"
   ]
  },
  {
   "cell_type": "code",
   "execution_count": 10,
   "id": "2874fdb9-cb17-41a9-ab7b-e475589842d7",
   "metadata": {},
   "outputs": [
    {
     "data": {
      "image/png": "[encoded data removed]",
      "text/plain": [
       "<Figure size 640x480 with 1 Axes>"
      ]
     },
     "metadata": {},
     "output_type": "display_data"
    }
   ],
   "source": [
    "start = envs.reset()[0]\n",
    "plt.imshow(start)\n",
    "plt.show()"
   ]
  },
  {
   "cell_type": "code",
   "execution_count": 11,
   "id": "ad73c1c2-dfbe-4305-9b99-e564710396e7",
   "metadata": {},
   "outputs": [],
   "source": [
    "envf = FrameStack(envs)"
   ]
  },
  {
   "cell_type": "code",
   "execution_count": 12,
   "id": "897b590c-3c46-4971-b501-f8a9c57c4073",
   "metadata": {},
   "outputs": [
    {
     "data": {
      "image/png": "[encoded data removed]",
      "text/plain": [
       "<Figure size 640x480 with 1 Axes>"
      ]
     },
     "metadata": {},
     "output_type": "display_data"
    }
   ],
   "source": [
    "start = envf.reset()\n",
    "plt.imshow(start[3])\n",
    "plt.show()"
   ]
  },
  {
   "cell_type": "markdown",
   "id": "1e81aa43-e31f-4e44-919f-07e5b75d5d18",
   "metadata": {},
   "source": [
    "### DQN"
   ]
  },
  {
   "cell_type": "code",
   "execution_count": 124,
   "id": "e4238987-bb22-4dee-945b-ad609eb4fa0b",
   "metadata": {},
   "outputs": [],
   "source": [
    "class DQN(nn.Module):\n",
    "    \"\"\"\n",
    "    Red Profunda de Aprendizaje Q (Deep Q Network).\n",
    "    \"\"\"\n",
    "    def __init__(self, input_shape, n_actions):\n",
    "        super(DQN, self).__init__()\n",
    "        \n",
    "        self.conv = nn.Sequential(\n",
    "            nn.Conv2d(input_shape[0], 32, kernel_size=8, stride=4),\n",
    "            nn.ReLU(),\n",
    "            nn.Conv2d(32, 64, kernel_size=4, stride=2),\n",
    "            nn.ReLU(),\n",
    "            nn.Conv2d(64, 64, kernel_size=3, stride=1),\n",
    "            nn.ReLU()\n",
    "        )\n",
    "        \n",
    "        conv_out_size = self._get_conv_out(input_shape)\n",
    "        self.fc = nn.Sequential(\n",
    "            nn.Linear(conv_out_size, 512),\n",
    "            nn.ReLU(),\n",
    "            nn.Linear(512, n_actions)\n",
    "        )\n",
    "        \n",
    "    def _get_conv_out(self, shape):\n",
    "        o = self.conv(torch.zeros(1,*shape))\n",
    "        return int(np.prod(o.size()))\n",
    "    \n",
    "    def forward(self, x):\n",
    "        conv_out = self.conv(x).view(x.size()[0], -1)\n",
    "        return self.fc(conv_out)      "
   ]
  },
  {
   "cell_type": "markdown",
   "id": "8edda062-f6e5-45dd-b260-d9996ac63aac",
   "metadata": {
    "tags": []
   },
   "source": [
    "### Agent"
   ]
  },
  {
   "cell_type": "markdown",
   "id": "26b8cd2d-80e9-4c00-9e70-ade3bab6eb42",
   "metadata": {},
   "source": [
    "### Experience Replay"
   ]
  },
  {
   "cell_type": "code",
   "execution_count": 24,
   "id": "4663546d-b698-40fb-80c9-ea49a268b4bd",
   "metadata": {},
   "outputs": [
    {
     "data": {
      "text/plain": [
       "22528"
      ]
     },
     "execution_count": 24,
     "metadata": {},
     "output_type": "execute_result"
    }
   ],
   "source": []
  },
  {
   "cell_type": "code",
   "execution_count": null,
   "id": "2ecea839-968c-4fee-b84b-e3d2099e51f3",
   "metadata": {},
   "outputs": [],
   "source": []
  }
 ],
 "metadata": {
  "kernelspec": {
   "display_name": "Python 3 (ipykernel)",
   "language": "python",
   "name": "python3"
  },
  "language_info": {
   "codemirror_mode": {
    "name": "ipython",
    "version": 3
   },
   "file_extension": ".py",
   "mimetype": "text/x-python",
   "name": "python",
   "nbconvert_exporter": "python",
   "pygments_lexer": "ipython3",
   "version": "3.10.6"
  }
 },
 "nbformat": 4,
 "nbformat_minor": 5
}
