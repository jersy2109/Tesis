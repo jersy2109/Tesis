{
 "cells": [
  {
   "cell_type": "markdown",
   "id": "478e353e-4f18-4413-9baa-9db9ff11f0d5",
   "metadata": {},
   "source": [
    "### Imports"
   ]
  },
  {
   "cell_type": "code",
   "execution_count": 1,
   "id": "59ec3ece-a29f-4731-882b-77ba78953117",
   "metadata": {},
   "outputs": [],
   "source": [
    "from pathlib import Path\n",
    "import gym\n",
    "import gym.spaces \n",
    "import numpy as np\n",
    "import cv2 as cv\n",
    "import matplotlib.pyplot as plt\n",
    "from collections import deque, namedtuple\n",
    "from tqdm import tqdm\n",
    "import datetime\n",
    "import random\n",
    "  \n",
    "import torch\n",
    "import torch.nn as nn\n",
    "import torch.optim as optim\n",
    "from torch.utils.tensorboard import SummaryWriter\n",
    "%load_ext tensorboard\n",
    "\n",
    "device = 'cuda' if torch.cuda.is_available() else 'cpu'"
   ]
  },
  {
   "cell_type": "code",
   "execution_count": 2,
   "id": "3327993b-d3d0-4d73-a879-4c9749361ae9",
   "metadata": {},
   "outputs": [],
   "source": [
    "def set_seed(seed, env):\n",
    "    env.seed(seed)\n",
    "    torch.manual_seed(seed)\n",
    "    random.seed(seed)\n",
    "    np.random.seed(seed)"
   ]
  },
  {
   "cell_type": "markdown",
   "id": "ffe36eae-4c9c-488f-9f18-eca737cad1bc",
   "metadata": {
    "tags": []
   },
   "source": [
    "### Wrappers"
   ]
  },
  {
   "cell_type": "code",
   "execution_count": 3,
   "id": "0f42e0b9-c15f-4dcc-9ffa-213a2ec276c2",
   "metadata": {},
   "outputs": [],
   "source": [
    "class NoopResetEnv(gym.Wrapper):\n",
    "    \"\"\"\n",
    "    Realiza un número random de \"NOOP\" al invocar reset().\n",
    "    \"\"\"\n",
    "    def __init__(self, env, noop_max=30):\n",
    "        gym.Wrapper.__init__(self, env)\n",
    "        self.noop_max = noop_max\n",
    "        self.noop_action = 0\n",
    "        assert env.unwrapped.get_action_meanings()[0] == 'NOOP'\n",
    "        \n",
    "    def reset(self):\n",
    "        self.env.reset()\n",
    "        noops = self.env.unwrapped.np_random.integers(1, self.noop_max+1)\n",
    "        assert noops > 0\n",
    "        obs = None\n",
    "        for _ in range(noops):\n",
    "            obs, _, done, _, _ = self.env.step(self.noop_action)\n",
    "            if done:\n",
    "                obs = self.env.reset()\n",
    "        return obs"
   ]
  },
  {
   "cell_type": "code",
   "execution_count": 4,
   "id": "de89a3e9-c4fa-469c-9174-86317231886a",
   "metadata": {},
   "outputs": [],
   "source": [
    "class MaxAndSkipEnv(gym.Wrapper):\n",
    "    \"\"\"\n",
    "    Salta un número de frames y regresa el valor promedio de cada pixel.\n",
    "    \"\"\"\n",
    "    def __init__(self, env, skip=4):\n",
    "        gym.Wrapper.__init__(self, env)\n",
    "        self._skip = skip\n",
    "        self._obs_buffer = np.zeros((self._skip,) + env.observation_space.shape, dtype=np.uint8)\n",
    "        \n",
    "    def step(self, action):\n",
    "        total_reward = 0.0\n",
    "        done = None\n",
    "        for i in range(self._skip):\n",
    "            obs, reward, done, _, info = self.env.step(action)\n",
    "            self._obs_buffer[i] = obs\n",
    "            total_reward += reward\n",
    "            if done:\n",
    "                break\n",
    "        max_frame = self._obs_buffer.max(axis=0)\n",
    "        return max_frame, total_reward, done, info\n",
    "    \n",
    "    def reset(self):\n",
    "        obs = self.env.reset()\n",
    "        return obs"
   ]
  },
  {
   "cell_type": "code",
   "execution_count": 5,
   "id": "711908e6-322f-4e6b-ad73-51dc2b377b8d",
   "metadata": {},
   "outputs": [],
   "source": [
    "class TimeLimit(gym.Wrapper):\n",
    "    \"\"\"\n",
    "    Termina el episodio después de un número de pasos.\n",
    "    Evita que los ambientes entren en un loop o sin moverse.\n",
    "    \"\"\"\n",
    "    def __init__(self, env, max_episode_steps=None):\n",
    "        super(TimeLimit, self).__init__(env)\n",
    "        self._max_episode_steps = max_episode_steps\n",
    "        self._elapsed_steps = 0\n",
    "        \n",
    "    def step(self, action):\n",
    "        obs, reward, done, info = self.env.step(action)\n",
    "        self._elapsed_steps += 1\n",
    "        if self._elapsed_steps >= self._max_episode_steps:\n",
    "            done = True\n",
    "            info['TimeLimit.truncated'] = True\n",
    "        return obs, reward, done, info\n",
    "\n",
    "    def reset(self):\n",
    "        self._elapsed_steps = 0\n",
    "        obs = self.env.reset()\n",
    "        return obs\n",
    "        "
   ]
  },
  {
   "cell_type": "code",
   "execution_count": 6,
   "id": "be8bb6b5-9df3-472a-bf81-ec108e9c2633",
   "metadata": {},
   "outputs": [],
   "source": [
    "class FireResetEnv(gym.Wrapper):\n",
    "    \"\"\"\n",
    "    Realiza la acción \"FIRE\" para iniciar los juegos que lo requieran.\n",
    "    \"\"\"\n",
    "    def __init__(self, env):\n",
    "        gym.Wrapper.__init__(self, env)\n",
    "        self.lives = env.ale.lives()\n",
    "        assert env.unwrapped.get_action_meanings()[1] == 'FIRE'\n",
    "        #assert len(env.unwrapped.get_action_meanings()) >= 3\n",
    "    \n",
    "    def reset(self):\n",
    "        self.env.reset()\n",
    "        obs, _, done, _ = self.env.step(1)\n",
    "        if done:\n",
    "            self.env.reset()\n",
    "        obs, _, done, _ = self.env.step(2)\n",
    "        if done:\n",
    "            self.env.reset()\n",
    "        return obs\n",
    "    \n",
    "    def step(self, action):\n",
    "        if self.lives > env.ale.lives():\n",
    "            self.lives = env.ale.lives()\n",
    "            action = 1\n",
    "        obs, reward, done, info = self.env.step(action)\n",
    "        return obs, reward, done, info"
   ]
  },
  {
   "cell_type": "code",
   "execution_count": 7,
   "id": "04e533d3-8571-42d2-836a-1c1cec1b37d2",
   "metadata": {},
   "outputs": [],
   "source": [
    "class ClipReward(gym.RewardWrapper):\n",
    "    def __init__(self, env, min_r=-1, max_r=1):\n",
    "        super().__init__(env)\n",
    "        self.min_r = min_r\n",
    "        self.max_r = max_r\n",
    "        \n",
    "    def reward(self, reward):\n",
    "        if reward < 0:\n",
    "            return -1\n",
    "        elif reward > 0:\n",
    "            return 1\n",
    "        else:\n",
    "            return 0\n",
    "        \n",
    "    def step(self, action):\n",
    "        obs, rew, done, info = self.env.step(action)\n",
    "        return obs, self.reward(rew), done, info"
   ]
  },
  {
   "cell_type": "code",
   "execution_count": 8,
   "id": "32ec89ce-9828-47f9-93ed-8547d7b5f465",
   "metadata": {},
   "outputs": [],
   "source": [
    "class WarpFrame(gym.ObservationWrapper):\n",
    "    \"\"\"\n",
    "    Reescala las imágenes a 84x84 y las pasa de RGB a gris.\n",
    "    \"\"\"\n",
    "    def __init__(self, env, width=84, height=84):\n",
    "        super().__init__(env)\n",
    "        self._width = width\n",
    "        self._height = height\n",
    "        num_colors = 1\n",
    "        \n",
    "        new_space = gym.spaces.Box(\n",
    "            low = 0,\n",
    "            high = 255,\n",
    "            shape = (self._height, self._width, num_colors),\n",
    "            dtype = np.uint8,\n",
    "        )\n",
    "        original_space = self.observation_space\n",
    "        self.observation_space = new_space\n",
    "        assert original_space.dtype == np.uint8 and len(original_space.shape) == 3\n",
    "        \n",
    "    def observation(self, obs):\n",
    "        frame = obs\n",
    "        frame = cv.cvtColor(frame, cv.COLOR_RGB2GRAY)\n",
    "        frame = cv.resize(\n",
    "            frame, (self._width, self._height), interpolation=cv.INTER_AREA\n",
    "        )\n",
    "        obs = frame\n",
    "        return obs\n",
    "    \n",
    "    def step(self, action):\n",
    "        obs, reward, done, info = self.env.step(action)\n",
    "        return self.observation(obs), reward, done, info\n",
    "    \n",
    "    def reset(self):\n",
    "        obs = self.env.reset()\n",
    "        return self.observation(obs)"
   ]
  },
  {
   "cell_type": "code",
   "execution_count": 9,
   "id": "ce847a53-2766-462e-8f79-85de2194a8fd",
   "metadata": {},
   "outputs": [],
   "source": [
    "class ScaledFloatFrame(gym.ObservationWrapper):\n",
    "    \"\"\"\n",
    "    Reescala de 0-255 a 0-1.\n",
    "    \"\"\"\n",
    "    def __init__(self, env):\n",
    "        gym.ObservationWrapper.__init__(self, env)\n",
    "        self.observation_space = gym.spaces.Box(\n",
    "            low = 0,\n",
    "            high = 255,\n",
    "            shape = env.observation_space.shape,\n",
    "            dtype = np.float32,\n",
    "        )\n",
    "    \n",
    "    def observation(self, observation):\n",
    "        return np.array(observation).astype(np.float32) / 255.0\n",
    "        \n",
    "    def step(self, action):\n",
    "        obs, reward, done, info = self.env.step(action)\n",
    "        return self.observation(obs), reward, done, info\n",
    "    \n",
    "    def reset(self):\n",
    "        obs = self.env.reset()\n",
    "        return self.observation(obs)"
   ]
  },
  {
   "cell_type": "code",
   "execution_count": 10,
   "id": "89e9eb3e-984b-4714-b2c6-789d62ef07e2",
   "metadata": {},
   "outputs": [],
   "source": [
    "class FrameStack(gym.Wrapper):\n",
    "    \"\"\"\n",
    "    Apila los últimos k frames.\n",
    "    \"\"\"\n",
    "    def __init__(self, env, k=4):\n",
    "        gym.Wrapper.__init__(self, env)\n",
    "        self.k = k\n",
    "        self.frames = deque([], maxlen=k)\n",
    "        self.observation_space = gym.spaces.Box(\n",
    "            low = 0,\n",
    "            high = 255,\n",
    "            shape = (4,84,84),\n",
    "            dtype = env.observation_space.dtype,\n",
    "        )\n",
    "    \n",
    "    def reset(self):\n",
    "        obs = self.env.reset()\n",
    "        for _ in range(self.k):\n",
    "            self.frames.append(obs)\n",
    "        return self._get_obs()\n",
    "    \n",
    "    def step(self, action):\n",
    "        obs, reward, done, info = self.env.step(action)\n",
    "        self.frames.append(obs)\n",
    "        return self._get_obs(), reward, done, info\n",
    "    \n",
    "    def _get_obs(self):\n",
    "        return self.frames"
   ]
  },
  {
   "cell_type": "markdown",
   "id": "67b33409-b0d0-439f-9bc2-35db801475d8",
   "metadata": {},
   "source": [
    "### Creación del ambiente"
   ]
  },
  {
   "cell_type": "code",
   "execution_count": 11,
   "id": "d70da62c-f3df-4943-8b3b-42b361268712",
   "metadata": {},
   "outputs": [],
   "source": [
    "def make_atari(env_id, frames=4, max_episode_steps=None, noop_max=30, skip=4):\n",
    "    \"\"\"\n",
    "    Crea el ambiente especificado, pasándolo por los Wrappers especificados.\n",
    "    \"\"\"\n",
    "    env = gym.make(env_id, render_mode=None)\n",
    "    assert 'NoFrameskip' in env.spec.id\n",
    "    env = NoopResetEnv(env, noop_max)\n",
    "    env = MaxAndSkipEnv(env, skip)\n",
    "    if max_episode_steps is not None:\n",
    "        env = TimeLimit(env, max_episode_steps=max_episode_steps)\n",
    "    if 'FIRE' in env.unwrapped.get_action_meanings():\n",
    "        env = FireResetEnv(env)\n",
    "    env = ClipReward(env)\n",
    "    env = WarpFrame(env)\n",
    "    env = ScaledFloatFrame(env)\n",
    "    env = FrameStack(env, frames)\n",
    "    return env"
   ]
  },
  {
   "cell_type": "markdown",
   "id": "20c25944-8d3a-4f0e-a183-a0b581b79deb",
   "metadata": {
    "jp-MarkdownHeadingCollapsed": true,
    "tags": []
   },
   "source": [
    "##### TEST"
   ]
  },
  {
   "cell_type": "code",
   "execution_count": 12,
   "id": "f4ef79bb-b348-43c8-9c18-f65a534a0941",
   "metadata": {},
   "outputs": [],
   "source": [
    "GAME = 'MsPacmanNoFrameskip-v4'\n",
    "env = make_atari(GAME)"
   ]
  },
  {
   "cell_type": "code",
   "execution_count": 13,
   "id": "110fe209-0eb1-43e7-bf1c-e98561e428f2",
   "metadata": {},
   "outputs": [],
   "source": [
    "start = env.reset()"
   ]
  },
  {
   "cell_type": "code",
   "execution_count": 14,
   "id": "c81416b8-524d-49e6-b24b-945c1e6b4a3f",
   "metadata": {},
   "outputs": [
    {
     "data": {
      "text/plain": [
       "(84, 84)"
      ]
     },
     "execution_count": 14,
     "metadata": {},
     "output_type": "execute_result"
    }
   ],
   "source": [
    "start[0].shape"
   ]
  },
  {
   "cell_type": "code",
   "execution_count": 15,
   "id": "897b590c-3c46-4971-b501-f8a9c57c4073",
   "metadata": {},
   "outputs": [
    {
     "data": {
      "image/png": "[encoded data removed]",
      "text/plain": [
       "<Figure size 640x480 with 1 Axes>"
      ]
     },
     "metadata": {},
     "output_type": "display_data"
    }
   ],
   "source": [
    "plt.imshow(start[0])\n",
    "plt.show()"
   ]
  },
  {
   "cell_type": "code",
   "execution_count": 16,
   "id": "a4597254-a756-4f91-9a66-62db9e36e46b",
   "metadata": {},
   "outputs": [],
   "source": [
    "state, _, _, _ = env.step(0)"
   ]
  },
  {
   "cell_type": "code",
   "execution_count": 17,
   "id": "4b2e3149-125f-42e6-9378-a4a5258c7635",
   "metadata": {},
   "outputs": [
    {
     "data": {
      "image/png": "[encoded data removed]",
      "text/plain": [
       "<Figure size 640x480 with 1 Axes>"
      ]
     },
     "metadata": {},
     "output_type": "display_data"
    }
   ],
   "source": [
    "plt.imshow(state[0])\n",
    "plt.show()"
   ]
  },
  {
   "cell_type": "markdown",
   "id": "1e81aa43-e31f-4e44-919f-07e5b75d5d18",
   "metadata": {},
   "source": [
    "### DQN"
   ]
  },
  {
   "cell_type": "code",
   "execution_count": 18,
   "id": "e4238987-bb22-4dee-945b-ad609eb4fa0b",
   "metadata": {},
   "outputs": [],
   "source": [
    "class DQN(nn.Module):\n",
    "    \"\"\"\n",
    "    Red Profunda de Aprendizaje Q (Deep Q Network).\n",
    "    \"\"\"\n",
    "    def __init__(self, input_shape, n_actions):\n",
    "        super(DQN, self).__init__()\n",
    "        \n",
    "        self.conv = nn.Sequential(\n",
    "            nn.Conv2d(input_shape[0], 32, kernel_size=8, stride=4),\n",
    "            nn.ReLU(),\n",
    "            nn.Conv2d(32, 64, kernel_size=4, stride=2),\n",
    "            nn.ReLU(),\n",
    "            nn.Conv2d(64, 64, kernel_size=3, stride=1),\n",
    "            nn.ReLU()\n",
    "        )\n",
    "        \n",
    "        conv_out_size = self._get_conv_out(input_shape)\n",
    "        self.fc = nn.Sequential(\n",
    "            nn.Linear(conv_out_size, 512),\n",
    "            nn.ReLU(),\n",
    "            nn.Linear(512, n_actions)\n",
    "        )\n",
    "        \n",
    "    def _get_conv_out(self, shape):\n",
    "        o = self.conv(torch.zeros(1,*shape))\n",
    "        return int(np.prod(o.size()))\n",
    "    \n",
    "    def forward(self, x):\n",
    "        conv_out = self.conv(x).view(x.size()[0], -1)\n",
    "        return self.fc(conv_out)      "
   ]
  },
  {
   "cell_type": "code",
   "execution_count": 19,
   "id": "e5a89097-1b0c-4e31-8212-a49addd30c23",
   "metadata": {},
   "outputs": [
    {
     "data": {
      "text/plain": [
       "DQN(\n",
       "  (conv): Sequential(\n",
       "    (0): Conv2d(4, 32, kernel_size=(8, 8), stride=(4, 4))\n",
       "    (1): ReLU()\n",
       "    (2): Conv2d(32, 64, kernel_size=(4, 4), stride=(2, 2))\n",
       "    (3): ReLU()\n",
       "    (4): Conv2d(64, 64, kernel_size=(3, 3), stride=(1, 1))\n",
       "    (5): ReLU()\n",
       "  )\n",
       "  (fc): Sequential(\n",
       "    (0): Linear(in_features=3136, out_features=512, bias=True)\n",
       "    (1): ReLU()\n",
       "    (2): Linear(in_features=512, out_features=9, bias=True)\n",
       "  )\n",
       ")"
      ]
     },
     "execution_count": 19,
     "metadata": {},
     "output_type": "execute_result"
    }
   ],
   "source": [
    "net = DQN(env.observation_space.shape, env.action_space.n).to(device)\n",
    "net"
   ]
  },
  {
   "cell_type": "markdown",
   "id": "26b8cd2d-80e9-4c00-9e70-ade3bab6eb42",
   "metadata": {},
   "source": [
    "### Experience Replay"
   ]
  },
  {
   "cell_type": "code",
   "execution_count": 20,
   "id": "4663546d-b698-40fb-80c9-ea49a268b4bd",
   "metadata": {},
   "outputs": [],
   "source": [
    "Experience = namedtuple('Experience', field_names=['state', 'action', 'reward', 'done', 'next_state'])\n",
    "\n",
    "class ExperienceReplay:\n",
    "    \"\"\"\n",
    "    Almacena experiencias pasadas que han sido observadas por el agente.\n",
    "    Las muestras obtenidas sirven para entrenar la red, buscando minimizar el efecto que tiene la correlación entre pasos.\n",
    "    \"\"\"\n",
    "    def __init__(self, capacity):\n",
    "        self.buffer = deque(maxlen=capacity)\n",
    "    \n",
    "    def __len__(self):\n",
    "        return len(self.buffer)\n",
    "    \n",
    "    def append(self, *args):\n",
    "        self.buffer.append(Experience(*args))\n",
    "        \n",
    "    def sample(self, batch_size):\n",
    "        return random.sample(self.buffer, batch_size)"
   ]
  },
  {
   "cell_type": "markdown",
   "id": "8edda062-f6e5-45dd-b260-d9996ac63aac",
   "metadata": {
    "tags": []
   },
   "source": [
    "### Agent"
   ]
  },
  {
   "cell_type": "code",
   "execution_count": 21,
   "id": "726aaf87-6793-4f0f-ad3b-e6ccb73adac7",
   "metadata": {},
   "outputs": [],
   "source": [
    "class Agent:\n",
    "    \"\"\"\n",
    "     \n",
    "    \"\"\"\n",
    "    def __init__(self, env, exp_buffer):\n",
    "        self.env = env\n",
    "        self.exp_buffer = exp_buffer\n",
    "        self._reset()\n",
    "        \n",
    "    def _reset(self):\n",
    "        self.state = self.env.reset()\n",
    "        self.total_reward = 0.0\n",
    "        \n",
    "    def play_step(self, net, epsilon=0.0, device='cuda'):\n",
    "        done_reward = None\n",
    "        \n",
    "        if np.random.random() < epsilon:\n",
    "            action = env.action_space.sample()\n",
    "        else:\n",
    "            state_a = np.array([self.state], copy=False)\n",
    "            state_v = torch.tensor(state_a).to(device)\n",
    "            q_vals_v = net(state_v)\n",
    "            _, act_v = torch.max(q_vals_v, dim=1) # Devuelve el índice de la acción\n",
    "            action = int(act_v.item())\n",
    "        \n",
    "        new_state, reward, done, _ = self.env.step(action)\n",
    "        self.total_reward += reward\n",
    "\n",
    "        self.exp_buffer.append(self.state, action, reward, done, new_state)\n",
    "        self.state = new_state\n",
    "        \n",
    "        if done:\n",
    "            done_reward = self.total_reward\n",
    "            self._reset()\n",
    "        \n",
    "        return done_reward"
   ]
  },
  {
   "cell_type": "markdown",
   "id": "2eccc22b-9709-4ced-9e5e-f897d3d13eb8",
   "metadata": {},
   "source": [
    "### Función de entrenamiento"
   ]
  },
  {
   "cell_type": "code",
   "execution_count": 22,
   "id": "9b4f740f-3408-4391-b210-26373cbec3c2",
   "metadata": {},
   "outputs": [],
   "source": [
    "def training(env_name, replay_memory_size=1_000_000, max_frames=50_000_000, gamma=0.99, batch_size=32,  \\\n",
    "             learning_rate=0.00025, momentum=0.95, min_gradient=0.1, sync_target_frames=10_000, \\\n",
    "             replay_start_size=50_000, eps_start=1, eps_min=0.1, seed=2109, device='cuda', verbose=True):\n",
    "    \"\"\"\n",
    "    Función de entrenamiento.\n",
    "    \"\"\"\n",
    "    path = \"dicts/\" + env_name \n",
    "    Path(path).mkdir(parents=True, exist_ok=True)\n",
    "    \n",
    "    env = make_atari(env_name)\n",
    "    buffer = ExperienceReplay(replay_memory_size)\n",
    "    agent = Agent(env, buffer)\n",
    "    set_seed(seed=seed, env=env)\n",
    "    \n",
    "    net        = DQN(env.observation_space.shape, env.action_space.n).to(device)\n",
    "    target_net = DQN(env.observation_space.shape, env.action_space.n).to(device)\n",
    "    writer = SummaryWriter(comment='-' + env_name)\n",
    "    \n",
    "    epsilon = eps_start\n",
    "    eps_decay = (eps_start - eps_min) / replay_memory_size\n",
    "    \n",
    "    optimizer = optim.RMSprop(net.parameters(), lr=learning_rate, momentum=momentum, eps=min_gradient)\n",
    "    total_rewards = []\n",
    "    \n",
    "    best_mean_reward = None\n",
    "    start_time = datetime.datetime.now()\n",
    "    \n",
    "    for frame in tqdm(range(1, max_frames+1)):\n",
    "        epsilon = max(epsilon-eps_decay, eps_min)\n",
    "        \n",
    "        reward = agent.play_step(net, epsilon, device=device)\n",
    "        if reward is not None:\n",
    "            total_rewards.append(reward)\n",
    "            mean_reward = np.mean(total_rewards[-100:])\n",
    "            \n",
    "            time_passed = datetime.datetime.now() - start_time\n",
    "            \n",
    "            #writer.add_scalar(\"epsilon\", epsilon, frame)\n",
    "            writer.add_scalar(\"reward_100\", mean_reward, frame)\n",
    "            writer.add_scalar(\"reward\", reward, frame)\n",
    "            \n",
    "            if best_mean_reward is None or best_mean_reward < mean_reward:\n",
    "                torch.save(net.state_dict(), path + \"/\" + env_name + \"_best.dat\")\n",
    "                best_mean_reward = mean_reward\n",
    "                \n",
    "        if len(buffer) < replay_start_size:\n",
    "            continue\n",
    "            \n",
    "        sardn = buffer.sample(batch_size)\n",
    "        batch = Experience(*zip(*sardn))\n",
    "        \n",
    "        states_v = torch.tensor(np.array(batch.state)).to(device)\n",
    "        next_states_v = torch.tensor(np.array(batch.next_state)).to(device)\n",
    "        actions_v = torch.tensor(batch.action).to(device)\n",
    "        rewards_v = torch.tensor(batch.reward).to(device)\n",
    "        done_mask = torch.BoolTensor(batch.done).to(device)\n",
    "        \n",
    "        state_action_values = net(states_v).gather(1, actions_v.unsqueeze(-1)).squeeze(-1)\n",
    "        next_state_values = target_net(next_states_v).max(1)[0]\n",
    "        next_state_values[done_mask] = 0.0\n",
    "        next_state_values = next_state_values.detach()\n",
    "        expected_state_action_values = next_state_values*gamma + rewards_v\n",
    "        \n",
    "        loss_t = nn.MSELoss()(state_action_values, expected_state_action_values) # MSELoss()(input,target)\n",
    "        \n",
    "        optimizer.zero_grad()\n",
    "        loss_t.backward()\n",
    "        optimizer.step()\n",
    "        \n",
    "        if (frame + 1) % sync_target_frames == 0:\n",
    "            target_net.load_state_dict(net.state_dict())\n",
    "\n",
    "        if (frame + 1) % (max_frames / 50) == 0:\n",
    "            if verbose:\n",
    "                print(\"{}:  {} games, mean reward {:.3f}, eps {:.2f}, time {}\".format(\n",
    "                    frame + 1, len(total_rewards), mean_reward, epsilon, time_passed))\n",
    "            torch.save(net.state_dict(), path + \"/\" + env_name + \"_\" + str((frame+1)/(max_frames/50)) + \".dat\")\n",
    "\n",
    "    print(\"Training finished\")\n",
    "    print(\"{}:  {} games, mean reward {:.3f}, eps {:.2f}, time {}\".format(\n",
    "            frame + 1, len(total_rewards), mean_reward, epsilon, time_passed))\n",
    "         \n",
    "    writer.close()\n",
    "    \n",
    "    return total_rewards"
   ]
  },
  {
   "cell_type": "markdown",
   "id": "5ceb97e3-be17-430e-b91d-6696bd57ee48",
   "metadata": {},
   "source": [
    "### TRAINING"
   ]
  },
  {
   "cell_type": "code",
   "execution_count": 23,
   "id": "24d99c90-ffb2-4e22-8544-bcae1903bf9d",
   "metadata": {},
   "outputs": [],
   "source": [
    "GAME_NAME = \"MsPacmanNoFrameskip-v4\""
   ]
  },
  {
   "cell_type": "code",
   "execution_count": null,
   "id": "1b159668-05e4-48fc-907e-ea7625ee0b9e",
   "metadata": {},
   "outputs": [
    {
     "name": "stderr",
     "output_type": "stream",
     "text": [
      "  0%|                                                                    | 26621/50000000 [00:26<12:08:49, 1142.79it/s]"
     ]
    }
   ],
   "source": [
    "pacman = training(env_name=GAME_NAME)"
   ]
  },
  {
   "cell_type": "code",
   "execution_count": null,
   "id": "4e4c2ca0-5af1-473b-8aea-7fe96fa71e64",
   "metadata": {},
   "outputs": [],
   "source": [
    "pacman"
   ]
  },
  {
   "cell_type": "code",
   "execution_count": null,
   "id": "340c1c1e-4ee9-4a64-b0d4-532da4042125",
   "metadata": {},
   "outputs": [],
   "source": []
  }
 ],
 "metadata": {
  "kernelspec": {
   "display_name": "Python 3 (ipykernel)",
   "language": "python",
   "name": "python3"
  },
  "language_info": {
   "codemirror_mode": {
    "name": "ipython",
    "version": 3
   },
   "file_extension": ".py",
   "mimetype": "text/x-python",
   "name": "python",
   "nbconvert_exporter": "python",
   "pygments_lexer": "ipython3",
   "version": "3.10.6"
  }
 },
 "nbformat": 4,
 "nbformat_minor": 5
}
