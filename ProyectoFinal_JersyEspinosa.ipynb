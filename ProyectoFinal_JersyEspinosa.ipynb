{
 "cells": [
  {
   "cell_type": "code",
   "execution_count": 1,
   "id": "fb799e74-0714-4dc6-8f73-402cd6e427bd",
   "metadata": {},
   "outputs": [],
   "source": [
    "import os\n",
    "import gym\n",
    "import gym.spaces\n",
    "import cv2 as cv\n",
    "import numpy as np\n",
    "import collections\n",
    "from collections import deque\n",
    "import warnings\n",
    "import time\n",
    "from tqdm import tqdm\n",
    "import matplotlib.pyplot as plt\n",
    "from scipy.stats import ranksums\n",
    "\n",
    "import datetime\n",
    "warnings.filterwarnings('ignore')\n",
    "\n",
    "import torch\n",
    "import torch.nn as nn        \n",
    "import torch.optim as optim  \n",
    "from torch.utils.tensorboard import SummaryWriter\n",
    "%load_ext tensorboard\n",
    "\n",
    "device = 'cuda' if torch.cuda.is_available() else 'cpu'\n",
    "\n",
    "import pyvirtualdisplay\n",
    "from pyvirtualdisplay import Display"
   ]
  },
  {
   "cell_type": "markdown",
   "id": "2028ffc2-223d-4ed9-9d76-468b42ed73ea",
   "metadata": {
    "tags": []
   },
   "source": [
    "from raft.core.raft import RAFT\n",
    "from raft.core.utils import flow_viz\n",
    "from raft.core.utils.utils import InputPadder\n",
    "from raft.config import RAFTConfig\n",
    "\n",
    "config = RAFTConfig(\n",
    "    dropout = 0,\n",
    "    alternate_corr = False,\n",
    "    small = False,\n",
    "    mixed_precision = False\n",
    ")\n",
    "\n",
    "raft_model = RAFT(config)\n",
    "weights_path = 'raft/raft-sintel.pth'\n",
    "ckpt = torch.load(weights_path, map_location = device)\n",
    "raft_model.to(device)\n",
    "raft_model.load_state_dict(ckpt)\n",
    "\n",
    "\n",
    "class OpticalFlowRAFT(gym.ObservationWrapper):\n",
    "    '''\n",
    "    Implementación del cálculo de flujo óptico por medio de RAFT.\n",
    "    '''\n",
    "    def __init__(self, env):\n",
    "        gym.ObservationWrapper.__init__(self, env)\n",
    "        self.observation_space = gym.spaces.Box(\n",
    "            low = 0, high = 255, shape = env.observation_space.shape, dtype = np.float32\n",
    "        )\n",
    "        \n",
    "    def observation(self, observation):\n",
    "        assert np.array(observation).shape == (2, 84, 84, 3)\n",
    "        frames = observation\n",
    "\n",
    "        prev_frame = torch.from_numpy(np.array(frames)[0]).permute(2,0,1).float().to(device)\n",
    "        frame      = torch.from_numpy(np.array(frames)[1]).permute(2,0,1).float().to(device)\n",
    "        \n",
    "        prev_frame = prev_frame[None].to(device)\n",
    "        frame      = frame[None].to(device)\n",
    "        \n",
    "        padder = InputPadder(prev_frame.shape)\n",
    "        prev_frame, frame = padder.pad(prev_frame, frame)\n",
    "        \n",
    "        with torch.no_grad():\n",
    "            _, flow_up = raft_model(prev_frame, frame, iters=50, test_mode=True)\n",
    "        \n",
    "        flow_up = flow_up[0].permute(1,2,0).cpu().numpy()\n",
    "        flow = flow_viz.flow_to_image(flow_up)\n",
    "        \n",
    "        images = deque([], maxlen=2)\n",
    "        images.append(flow)\n",
    "        images.append(np.array(frames)[1])\n",
    "        observation = images\n",
    "        return observation"
   ]
  },
  {
   "cell_type": "markdown",
   "id": "81d0e8db-d562-4644-b101-e4a79d367513",
   "metadata": {
    "tags": []
   },
   "source": [
    "### Funciones"
   ]
  },
  {
   "cell_type": "code",
   "execution_count": 49,
   "id": "e8cf51e8-912c-49e3-b426-94cceb586d82",
   "metadata": {},
   "outputs": [],
   "source": [
    "class NoopResetEnv(gym.Wrapper):\n",
    "    \"\"\"\n",
    "    Realiza un número random de \"NOOP\" al invocar reset().\n",
    "    \"\"\"\n",
    "    def __init__(self, env, noop_max=30):\n",
    "        gym.Wrapper.__init__(self, env)\n",
    "        self.env = env\n",
    "        self.noop_max = noop_max\n",
    "        self.override_num_noops = None\n",
    "        self.noop_action = 0\n",
    "        assert env.unwrapped.get_action_meanings()[0] == 'NOOP'\n",
    "        \n",
    "    def reset(self):\n",
    "        self.env.reset()\n",
    "        if self.override_num_noops is not None:\n",
    "            noops = self.override_num_noops\n",
    "        else:\n",
    "            noops = self.env.unwrapped.np_random.integers(1, self.noop_max + 1)\n",
    "        assert noops > 0\n",
    "        obs = None\n",
    "        for _ in range(noops):\n",
    "            obs, _, done, _, _ = self.env.step(self.noop_action)\n",
    "            if done:\n",
    "                obs, _ = self.env.reset()\n",
    "        return obs\n",
    "    \n",
    "    def step(self, action):\n",
    "        obs, reward, done, _, info = self.env.step(action)\n",
    "        return obs, reward, done, info\n",
    "\n",
    "    \n",
    "class MaxAndSkipEnv(gym.Wrapper):\n",
    "    \"\"\"\n",
    "    Salta un número \"skip\" de frames y regresa el frame con valor máximo.\n",
    "    \"\"\"\n",
    "    def __init__(self, env, skip=4):\n",
    "        gym.Wrapper.__init__(self, env)\n",
    "        self._obs_buffer = np.zeros((2,)+env.observation_space.shape, dtype=np.uint8)\n",
    "        self._skip = skip\n",
    "            \n",
    "    def step(self, action):\n",
    "        total_reward = 0.0\n",
    "        done = None\n",
    "        for i in range(self._skip):\n",
    "            obs, reward, done, _, info = self.env.step(action)\n",
    "            if i == self._skip - 2: self._obs_buffer[0] = obs\n",
    "            if i == self._skip - 1: self._obs_buffer[1] = obs\n",
    "            total_reward += reward\n",
    "            if done:\n",
    "                break\n",
    "        max_frame = self._obs_buffer.max(axis=0)\n",
    "        return max_frame, total_reward, done, info\n",
    "\n",
    "    def reset(self):\n",
    "        obs, _ = self.env.reset()\n",
    "        return obs\n",
    "\n",
    "    \n",
    "class TimeLimit(gym.Wrapper):\n",
    "    '''\n",
    "    Termina el episodio después de un número de pasos. Evita que los ambientes se mantengan en un loop o sin moverse.\n",
    "    '''\n",
    "    def __init__(self, env, max_episode_steps=None):\n",
    "        super(TimeLimit, self).__init__(env)\n",
    "        self._max_episode_steps = max_episode_steps\n",
    "        self._elapsed_steps = 0\n",
    "        \n",
    "    def step(self, action):\n",
    "        obs, reward, done, _, info = self.env.step(action)\n",
    "        self._elapsed_steps += 1\n",
    "        if self._elapsed_steps >= self._max_episode_steps:\n",
    "            done = True\n",
    "            info['TimeLimit.truncated'] = True\n",
    "        return obs, reward, done, info\n",
    "    \n",
    "    def reset(self):\n",
    "        self._elapsed_steps = 0\n",
    "        obs, _ = self.env.reset()\n",
    "        return obs\n",
    "    \n",
    "    \n",
    "class FireResetEnv(gym.Wrapper):\n",
    "    \"\"\"\n",
    "    Realiza la acción \"FIRE\" para iniciar los juegos que lo requieren.\n",
    "    \"\"\"\n",
    "    def __init__(self, env):\n",
    "        gym.Wrapper.__init__(self, env)\n",
    "        self.lives = env.ale.lives()\n",
    "        assert env.unwrapped.get_action_meanings()[1] == 'FIRE'\n",
    "        assert len(env.unwrapped.get_action_meanings()) >= 3\n",
    "        \n",
    "    def reset(self):\n",
    "        self.env.reset()\n",
    "        obs, _, done, _, _ = self.env.step(1)\n",
    "        if done:\n",
    "            self.env.reset()\n",
    "        obs, _, done, _, _ = self.env.step(2)\n",
    "        if done:\n",
    "            self.env.reset()\n",
    "        return obs\n",
    "    \n",
    "    def step(self, action):\n",
    "        if self.lives > env.ale.lives():\n",
    "            self.lives = env.ale.lives()\n",
    "            action = 1\n",
    "        obs, reward, done, _, info = self.env.step(action)\n",
    "        return obs, reward, done, info\n",
    "\n",
    "    \n",
    "class WarpFrame(gym.ObservationWrapper):\n",
    "    '''\n",
    "    Reescala las imágenes a un tamaño de 84x84.\n",
    "    En la literatura se utiliza 84x84, pero RAFT exige que las dimensiones de\n",
    "    las imágenes sean múltiplos de 8. \n",
    "    '''\n",
    "    def __init__(self, env, width=84, height=84):\n",
    "        super().__init__(env)\n",
    "        self._width = width\n",
    "        self._height = height\n",
    "        num_colors = 3\n",
    "        \n",
    "        new_space = gym.spaces.Box(\n",
    "            low = 0,\n",
    "            high = 255,\n",
    "            shape = (self._height, self._width, num_colors),\n",
    "            dtype = np.uint8,\n",
    "        )\n",
    "        original_space = self.observation_space\n",
    "        self.observation_space = new_space\n",
    "        assert original_space.dtype == np.uint8 and len(original_space.shape) == 3\n",
    "        \n",
    "    def observation(self, obs):\n",
    "        frame = obs\n",
    "        frame = cv.resize(\n",
    "            frame, (self._width, self._height), interpolation=cv.INTER_AREA\n",
    "        )\n",
    "        obs = frame\n",
    "        return obs\n",
    "    \n",
    "    \n",
    "class WarpFrameGray(gym.ObservationWrapper):\n",
    "    '''\n",
    "    Reescala las imágenes a un tamaño de 84x84 y las pasa a escala de grises.\n",
    "    '''\n",
    "    def __init__(self, env, width=84, height=84):\n",
    "        super().__init__(env)\n",
    "        self._width = width\n",
    "        self._height = height\n",
    "        num_colors = 1\n",
    "        \n",
    "        new_space = gym.spaces.Box(\n",
    "            low = 0,\n",
    "            high = 255,\n",
    "            shape = (self._height, self._width, num_colors),\n",
    "            dtype = np.uint8,\n",
    "        )\n",
    "        original_space = self.observation_space\n",
    "        self.observation_space = new_space\n",
    "        assert original_space.dtype == np.uint8 and len(original_space.shape) == 3\n",
    "        \n",
    "    def observation(self, obs):\n",
    "        frame = obs\n",
    "        frame = cv.cvtColor(frame, cv.COLOR_RGB2GRAY)\n",
    "        frame = cv.resize(\n",
    "            frame, (self._width, self._height), interpolation=cv.INTER_AREA\n",
    "        )\n",
    "        obs = frame\n",
    "        return obs\n",
    "\n",
    "        \n",
    "class FrameStack(gym.Wrapper):\n",
    "    '''\n",
    "    Apila los últimos k frames.\n",
    "    '''\n",
    "    def __init__(self, env, k=4):\n",
    "        gym.Wrapper.__init__(self, env)\n",
    "        self.k = k\n",
    "        self.frames = deque([], maxlen=k)\n",
    "        obs_shape = env.observation_space.shape\n",
    "        self.observation_space = gym.spaces.Box(\n",
    "            low=0, high=255, shape=(4,84,84), dtype=env.observation_space.dtype\n",
    "        )\n",
    "        \n",
    "    def reset(self):\n",
    "        obs, _ = self.env.reset()\n",
    "        for _ in range(self.k):\n",
    "            self.frames.append(obs)\n",
    "        return self._get_obs()\n",
    "    \n",
    "    def step(self, action):\n",
    "        obs, reward, done, _, info = self.env.step(action)\n",
    "        self.frames.append(obs)\n",
    "        return self._get_obs(), reward, done, info\n",
    "    \n",
    "    def _get_obs(self):\n",
    "        assert len(self.frames) == self.k\n",
    "        return self.frames\n",
    "    \n",
    "    \n",
    "class FrameStackOpt(gym.Wrapper):\n",
    "    '''\n",
    "    Apila los últimos k frames.\n",
    "    '''\n",
    "    def __init__(self, env, k=2):\n",
    "        gym.Wrapper.__init__(self, env)\n",
    "        self.k = k\n",
    "        self.frames = deque([], maxlen=k)\n",
    "        obs_shape = env.observation_space.shape\n",
    "        self.observation_space = gym.spaces.Box(\n",
    "            low=0, high=255, shape=(2,84,84,3), dtype=env.observation_space.dtype\n",
    "        )\n",
    "        \n",
    "    def reset(self):\n",
    "        obs, _ = self.env.reset()\n",
    "        for _ in range(self.k):\n",
    "            self.frames.append(obs)\n",
    "        return self._get_obs()\n",
    "    \n",
    "    def step(self, action):\n",
    "        obs, reward, done, _, info = self.env.step(action)\n",
    "        self.frames.append(obs)\n",
    "        return self._get_obs(), reward, done, info\n",
    "    \n",
    "    def _get_obs(self):\n",
    "        assert len(self.frames) == self.k\n",
    "        return self.frames\n",
    "    \n",
    "\n",
    "class ScaledFloatFrame(gym.ObservationWrapper):\n",
    "    '''\n",
    "    Cambia la escala de valores de 0-255 a 0-1.\n",
    "    '''\n",
    "    def __init__(self, env):\n",
    "        gym.ObservationWrapper.__init__(self, env)\n",
    "        self.observation_space = gym.spaces.Box(\n",
    "            low = 0, high = 255, \n",
    "            shape = env.observation_space.shape, \n",
    "            dtype = np.float32,\n",
    "        )       \n",
    "        \n",
    "    def observation(self, observation):\n",
    "        return np.array(observation).astype(np.float32) / 255.0\n",
    "    \n",
    "    \n",
    "class ScaledFloatFrameOpt(gym.ObservationWrapper):\n",
    "    '''\n",
    "    Cambia la escala de valores de 0-255 a 0-1 para el frame, pero no para el flujo óptico.\n",
    "    '''\n",
    "    def __init__(self, env):\n",
    "        gym.ObservationWrapper.__init__(self, env)\n",
    "        self.observation_space = gym.spaces.Box(\n",
    "            low = 0, high = 255, \n",
    "            shape = (6,84,84), \n",
    "            dtype = np.float32,\n",
    "        )\n",
    "        \n",
    "    def observation(self, observation):\n",
    "        assert np.array(observation).shape == (2, 84, 84, 3)\n",
    "        observation = np.array(observation).astype(np.float32)\n",
    "        observation[1] = observation[1] / 255.0\n",
    "        observation = observation.reshape(6,84,84)\n",
    "        return observation\n",
    "    \n",
    "\n",
    "class OpticalFlowCV(gym.ObservationWrapper):\n",
    "    '''\n",
    "    Implementación del cálculo de flujo óptico por medio del método Farneback de OpenCV.\n",
    "    '''\n",
    "    def __init__(self, env):\n",
    "        gym.ObservationWrapper.__init__(self, env)\n",
    "        self.observation_space = gym.spaces.Box(\n",
    "            low = 0, high = 255, shape = env.observation_space.shape, dtype = np.float32\n",
    "        )\n",
    "\n",
    "    def observation(self, observation):\n",
    "        assert np.array(observation).shape == (2, 84, 84, 3)\n",
    "        frames = observation\n",
    "\n",
    "        first_frame = np.array(frames)[0].astype('uint8')\n",
    "        prev_gray = cv.cvtColor(first_frame, cv.COLOR_RGB2GRAY)\n",
    "        \n",
    "        mask = np.zeros_like(first_frame)\n",
    "        mask[..., 1] = 255\n",
    "\n",
    "        frame = np.array(frames)[1].astype('uint8')\n",
    "        gray = cv.cvtColor(frame, cv.COLOR_RGB2GRAY)\n",
    "        \n",
    "        flow = cv.calcOpticalFlowFarneback(prev_gray, gray,\n",
    "                                        None,\n",
    "                                        0.5, 5, 5, 5, 7, 1.5, 0)\n",
    "\n",
    "        magnitude, angle = cv.cartToPolar(flow[..., 0], flow[..., 1])\n",
    "\n",
    "        mask[..., 0] = angle * 180 / np.pi / 2\n",
    "        mask[..., 2] = cv.normalize(magnitude, None, 0, 255, cv.NORM_MINMAX)\n",
    "\n",
    "        flow = cv.cvtColor(mask, cv.COLOR_HSV2RGB)\n",
    "        \n",
    "        observation[0] = flow\n",
    "        observation[1] = np.array(frames)[1]\n",
    "        assert np.array(observation).shape == (2, 84, 84, 3)\n",
    "        return observation\n",
    "    \n",
    "    \n",
    "class EpisodicLifeEnv(gym.Wrapper):\n",
    "    \"\"\"\n",
    "    Termina el episodio cuando se pierde una vida, pero solo reinicia si\n",
    "    se pierden todas.\n",
    "    \"\"\"\n",
    "    def __init__(self, env):\n",
    "        gym.Wrapper.__init__(self, env)\n",
    "        self.lives = 0\n",
    "        self.is_done = True\n",
    "        \n",
    "    def step(self, action):\n",
    "        obs, reward, done, _, info = self.env.step(action)\n",
    "        self.is_done = done\n",
    "        lives = self.env.unwrapped.ale.lives()\n",
    "        if lives < self.lives and lives > 0:\n",
    "            done = True\n",
    "        self.lives = lives\n",
    "        return obs, reward, done, info\n",
    "    \n",
    "    def reset(self):\n",
    "        if self.is_done:\n",
    "            obs, _ = self.env.reset()\n",
    "        else:\n",
    "            obs, _, _, _, _ = self.env.step(0)\n",
    "        self.lives = self.env.unwrapped.ale.lives()\n",
    "        return obs\n",
    "    \n",
    "    \n",
    "def make_atari(env_id, max_episode_steps=None):\n",
    "    '''\n",
    "    Crea el ambiente y le pasa los Gym.Wrappers.\n",
    "    '''\n",
    "    env = gym.make(env_id)\n",
    "    assert 'NoFrameskip' in env.spec.id\n",
    "    env = NoopResetEnv(env, noop_max=30)\n",
    "    env = MaxAndSkipEnv(env, skip=4)\n",
    "    if max_episode_steps is not None:\n",
    "        env = TimeLimit(env, max_episode_steps=max_episode_steps)\n",
    "    return env\n",
    "\n",
    "def wrap_deepmind(env, optical=False):\n",
    "    '''\n",
    "    Pasa el ambiente ya creado por los Gym.ObservationWrapper.\n",
    "    '''\n",
    "    if 'FIRE' in env.unwrapped.get_action_meanings():\n",
    "        env = FireResetEnv(env)\n",
    "    if optical:\n",
    "        env = WarpFrame(env)\n",
    "        env = FrameStackOpt(env, 2)\n",
    "        env = OpticalFlowCV(env)\n",
    "        env = ScaledFloatFrameOpt(env)\n",
    "    else:\n",
    "        env = WarpFrameGray(env)\n",
    "        env = ScaledFloatFrame(env)\n",
    "        env = FrameStack(env, 4)\n",
    "    return env"
   ]
  },
  {
   "cell_type": "code",
   "execution_count": 50,
   "id": "1935b25c-2b70-499f-8d74-cd1d8b6d0dc1",
   "metadata": {},
   "outputs": [],
   "source": [
    "class DQN(nn.Module):\n",
    "    '''\n",
    "    Red de Deep Q Learning. Aplica primero convoluciones a las imágenes de entrada y posteriormente aplica 2 transformacioes lineales.\n",
    "    La red tiene como tamaño de entrada el número de imágenes que se le pasen y devuelve una acción a realizar.\n",
    "    '''\n",
    "    def __init__(self, input_shape, n_actions):\n",
    "        super(DQN, self).__init__()\n",
    "\n",
    "        self.conv = nn.Sequential(\n",
    "            nn.Conv2d(input_shape[0], 32, kernel_size=8, stride=4),\n",
    "            nn.ReLU(),\n",
    "            nn.Conv2d(32, 64, kernel_size=4, stride=2),\n",
    "            nn.ReLU(),\n",
    "            nn.Conv2d(64, 64, kernel_size=3, stride=1),\n",
    "            nn.ReLU()\n",
    "        )\n",
    "\n",
    "        conv_out_size = self._get_conv_out(input_shape)\n",
    "        self.fc = nn.Sequential(\n",
    "            nn.Linear(conv_out_size, 512),\n",
    "            nn.ReLU(),\n",
    "            nn.Linear(512, n_actions)\n",
    "        )\n",
    "\n",
    "    def _get_conv_out(self, shape):\n",
    "        o = self.conv(torch.zeros(1,*shape))\n",
    "        return int(np.prod(o.size()))\n",
    "\n",
    "    def forward(self, x):\n",
    "        conv_out = self.conv(x).view(x.size()[0], -1)\n",
    "        return self.fc(conv_out)"
   ]
  },
  {
   "cell_type": "code",
   "execution_count": 51,
   "id": "7247c4e8-f6e6-40bb-9e0e-16237b84862a",
   "metadata": {},
   "outputs": [],
   "source": [
    "Experience = collections.namedtuple('Experience', field_names=['state', 'action', 'reward', 'done', 'new_state'])\n",
    "\n",
    "class ExperienceReplay:\n",
    "    '''\n",
    "    \n",
    "    '''\n",
    "    def __init__(self, capacity):\n",
    "        self.buffer = collections.deque(maxlen=capacity)\n",
    "\n",
    "    def __len__(self):\n",
    "        return len(self.buffer)\n",
    "\n",
    "    def append(self, experience):\n",
    "        self.buffer.append(experience)\n",
    "\n",
    "    def sample(self, batch_size):\n",
    "        indices = np.random.choice(len(self.buffer), batch_size, replace=False)\n",
    "        states, actions, rewards, dones, next_states = zip(*[self.buffer[idx] for idx in indices])\n",
    "        return np.array(states), np.array(actions), np.array(rewards, dtype=np.float32), \\\n",
    "               np.array(dones, dtype=np.uint8), np.array(next_states)\n"
   ]
  },
  {
   "cell_type": "code",
   "execution_count": 73,
   "id": "b0e18674-b10c-46ce-bd2f-3ac48d8226d5",
   "metadata": {},
   "outputs": [],
   "source": [
    "class Agent:\n",
    "    def __init__(self, env, exp_buffer):\n",
    "        self.env = env\n",
    "        self.exp_buffer = exp_buffer\n",
    "        self._reset()\n",
    "\n",
    "    def _reset(self):\n",
    "        self.state, _ = self.env.reset()\n",
    "        self.total_reward = 0.0\n",
    "\n",
    "    def play_step(self, net, epsilon=0.0, device=\"cuda\"):\n",
    "        done_reward = None\n",
    "        if np.random.random() < epsilon:\n",
    "            action = env.action_space.sample()\n",
    "        else:\n",
    "            state_a = np.array([self.state], copy=False)\n",
    "            state_v = torch.tensor(state_a).to(device)\n",
    "            q_vals_v = net(state_v)\n",
    "            _, act_v = torch.max(q_vals_v, dim=1)\n",
    "            action = int(act_v.item())\n",
    "\n",
    "        new_state, reward, is_done, _, _ = self.env.step(action)\n",
    "        self.total_reward += reward\n",
    "\n",
    "        exp = Experience(self.state, action, reward, is_done, new_state)\n",
    "        self.exp_buffer.append(exp)\n",
    "        self.state = new_state\n",
    "        if is_done:\n",
    "            done_reward = self.total_reward\n",
    "            self._reset()\n",
    "        return done_reward"
   ]
  },
  {
   "cell_type": "code",
   "execution_count": 74,
   "id": "339f055d-3df3-40e5-9cb2-fe9d169ffd44",
   "metadata": {},
   "outputs": [
    {
     "name": "stdout",
     "output_type": "stream",
     "text": [
      "9\n"
     ]
    }
   ],
   "source": [
    "DEFAULT_ENV_NAME = \"MsPacmanNoFrameskip-v4\" \n",
    "test_env = wrap_deepmind(make_atari(DEFAULT_ENV_NAME, 1000), optical=True)\n",
    "print(test_env.action_space.n)"
   ]
  },
  {
   "cell_type": "code",
   "execution_count": 75,
   "id": "998218cb-02c1-45f4-807a-ca9ef89b5fef",
   "metadata": {},
   "outputs": [
    {
     "name": "stdout",
     "output_type": "stream",
     "text": [
      "['NOOP', 'UP', 'RIGHT', 'LEFT', 'DOWN', 'UPRIGHT', 'UPLEFT', 'DOWNRIGHT', 'DOWNLEFT']\n"
     ]
    }
   ],
   "source": [
    "print(test_env.unwrapped.get_action_meanings())"
   ]
  },
  {
   "cell_type": "code",
   "execution_count": 76,
   "id": "98413c27-a240-4ac8-b4a2-7e8df8ea4bcf",
   "metadata": {},
   "outputs": [
    {
     "data": {
      "text/plain": [
       "(6, 84, 84)"
      ]
     },
     "execution_count": 76,
     "metadata": {},
     "output_type": "execute_result"
    }
   ],
   "source": [
    "test_env.observation_space.shape"
   ]
  },
  {
   "cell_type": "code",
   "execution_count": 77,
   "id": "73769404-49c8-497a-b38d-5e00d6fc9cfd",
   "metadata": {},
   "outputs": [
    {
     "name": "stdout",
     "output_type": "stream",
     "text": [
      "DQN(\n",
      "  (conv): Sequential(\n",
      "    (0): Conv2d(6, 32, kernel_size=(8, 8), stride=(4, 4))\n",
      "    (1): ReLU()\n",
      "    (2): Conv2d(32, 64, kernel_size=(4, 4), stride=(2, 2))\n",
      "    (3): ReLU()\n",
      "    (4): Conv2d(64, 64, kernel_size=(3, 3), stride=(1, 1))\n",
      "    (5): ReLU()\n",
      "  )\n",
      "  (fc): Sequential(\n",
      "    (0): Linear(in_features=3136, out_features=512, bias=True)\n",
      "    (1): ReLU()\n",
      "    (2): Linear(in_features=512, out_features=9, bias=True)\n",
      "  )\n",
      ")\n"
     ]
    }
   ],
   "source": [
    "test_env = wrap_deepmind(make_atari(DEFAULT_ENV_NAME, 1000), optical=True)\n",
    "test_net = DQN(test_env.observation_space.shape, test_env.action_space.n).to(device)\n",
    "print(test_net)"
   ]
  },
  {
   "cell_type": "code",
   "execution_count": 78,
   "id": "019e9aef-054b-4907-9508-c3616a106d1b",
   "metadata": {
    "tags": []
   },
   "outputs": [],
   "source": [
    "def train_func(env, env_name, optical, reward_bound, max_frames, gamma, batch_size, replay_size, learning_rate, sync_target_frames, replay_start_size, eps_start, eps_decay, eps_min, device):\n",
    "    '''\n",
    "    Esta función lleva a cabo el entrenamiento de las redes.\n",
    "    Genera una instancia del buffer de Experiencia y del Agente, e inicializa la red. La red se entrena jugando las partidas durante\n",
    "    la cantidad de frames indicados.\n",
    "    Devuelve un arreglo que contiene las recompensas obtenidas en cada frame.\n",
    "    '''\n",
    "    buffer = ExperienceReplay(replay_size)\n",
    "    agent = Agent(env,buffer) \n",
    "    \n",
    "    net = DQN(env.observation_space.shape, env.action_space.n).to(device)\n",
    "    target_net = DQN(env.observation_space.shape, env.action_space.n).to(device)\n",
    "    writer = SummaryWriter(comment=\"-\" + env_name)\n",
    "  \n",
    "    epsilon = eps_start\n",
    "\n",
    "    optimizer = optim.Adam(net.parameters(), lr=learning_rate)\n",
    "    total_rewards = []\n",
    "\n",
    "    best_mean_reward = None\n",
    "    start_time = datetime.datetime.now()\n",
    "    \n",
    "    for frame in tqdm(range(1, max_frames)):\n",
    "        \n",
    "            epsilon = max(epsilon*eps_decay, eps_min)\n",
    "\n",
    "            reward = agent.play_step(net, epsilon, device=device)\n",
    "            if reward is not None:\n",
    "                total_rewards.append(reward)\n",
    "\n",
    "                mean_reward = np.mean(total_rewards[-100:])\n",
    "\n",
    "                time_passed = datetime.datetime.now()-start_time\n",
    "\n",
    "                writer.add_scalar(\"epsilon\", epsilon, frame)\n",
    "                writer.add_scalar(\"reward_100\", mean_reward, frame)\n",
    "                writer.add_scalar(\"reward\", reward, frame)\n",
    "\n",
    "                if best_mean_reward is None or best_mean_reward < mean_reward:\n",
    "                    if optical:\n",
    "                        torch.save(net.state_dict(), env_name + \"Opt-best.dat\")\n",
    "                    else: \n",
    "                        torch.save(net.state_dict(), env_name + \"-best.dat\")\n",
    "\n",
    "                    best_mean_reward = mean_reward\n",
    "\n",
    "                if mean_reward > reward_bound:\n",
    "                    print(\"Solved in %d frames!\" % frame)\n",
    "                    break\n",
    "\n",
    "            if len(buffer) < replay_start_size:\n",
    "                continue\n",
    "\n",
    "            batch = buffer.sample(batch_size)\n",
    "            states, actions, rewards, dones, next_states = batch\n",
    "\n",
    "            states_v = torch.tensor(states).to(device)\n",
    "            next_states_v = torch.tensor(next_states).to(device)\n",
    "            actions_v = torch.tensor(actions).type(torch.int64).to(device)\n",
    "            rewards_v = torch.tensor(rewards).to(device)\n",
    "            done_mask = torch.ByteTensor(dones).to(device)\n",
    "\n",
    "            state_action_values = net(states_v).gather(1, actions_v.unsqueeze(-1)).squeeze(-1)\n",
    "\n",
    "            next_state_values = target_net(next_states_v).max(1)[0]\n",
    "\n",
    "            next_state_values[done_mask] = 0.0\n",
    "\n",
    "            next_state_values = next_state_values.detach()\n",
    "\n",
    "            expected_state_action_values = next_state_values * gamma + rewards_v\n",
    "\n",
    "            loss_t = nn.MSELoss()(state_action_values, expected_state_action_values)\n",
    "\n",
    "            optimizer.zero_grad()\n",
    "            loss_t.backward()\n",
    "            optimizer.step()\n",
    "            \n",
    "            if frame % sync_target_frames == 0:\n",
    "                target_net.load_state_dict(net.state_dict())\n",
    "                \n",
    "            if frame % (max_frames / 20) == 0:\n",
    "                print(\"%d:  %d games, mean reward %.3f, (eps %.2f), time %s\" % (\n",
    "                            frame, len(total_rewards), mean_reward, epsilon, time_passed))\n",
    "\n",
    "    \n",
    "    print('Traning finished')\n",
    "    print(\"%d:  %d games, mean reward %.3f, (eps %.2f), time %s\" % (frame, len(total_rewards), mean_reward, epsilon, time_passed))\n",
    "    \n",
    "    writer.close()\n",
    "    \n",
    "    return total_rewards"
   ]
  },
  {
   "cell_type": "code",
   "execution_count": 79,
   "id": "32d17a05-8f5a-48dd-b068-ccb52b892d77",
   "metadata": {},
   "outputs": [],
   "source": [
    "def make_video(env_name, opt):\n",
    "    '''\n",
    "    Esta función genera un video de una corrida generada por la red entrenada.\n",
    "    '''\n",
    "    if opt:\n",
    "        model = env_name + 'Opt-best.dat'\n",
    "        record_folder = \"videoOpt_\" + env_name\n",
    "    else:\n",
    "        model = env_name + '-best.dat'\n",
    "        record_folder = \"video_\" + env_name\n",
    "\n",
    "    env = wrap_deepmind(make_atari(DEFAULT_ENV_NAME, 1000), optical=opt)\n",
    "    if record_folder:\n",
    "            env = gym.wrappers.Monitor(env, record_folder, force=True)\n",
    "    net = DQN(env.observation_space.shape, env.action_space.n)\n",
    "    net.load_state_dict(torch.load(model, map_location=lambda storage, loc: storage))\n",
    "\n",
    "    state, _ = env.reset()\n",
    "    total_reward = 0.0\n",
    "    frame = 1\n",
    "    \n",
    "    while True:\n",
    "        \n",
    "        state_v = torch.tensor(np.array([state], copy=False))\n",
    "        q_vals = net(state_v).data.numpy()[0]\n",
    "        action = np.argmax(q_vals)\n",
    "\n",
    "        state, reward, done, _, _ = env.step(action)\n",
    "        total_reward += reward\n",
    "        if reward > 0:\n",
    "            print('{}, reward {}'.format(frame, reward))\n",
    "            \n",
    "        if done:\n",
    "            break\n",
    "            \n",
    "        frame += 1\n",
    "        \n",
    "    print(\"Total reward: %.2f\" % total_reward)\n",
    "\n",
    "    if record_folder:\n",
    "        env.close()"
   ]
  },
  {
   "cell_type": "code",
   "execution_count": 80,
   "id": "3334be80-3109-48f1-9d52-ca87ecbc8bfd",
   "metadata": {},
   "outputs": [],
   "source": [
    "def sample(env_name, n_samples=20, opt=False):\n",
    "    '''\n",
    "    Obtiene 'n_samples' muestras de la red entrenada.\n",
    "    '''\n",
    "    if opt:\n",
    "        model = env_name + 'Opt-best.dat'\n",
    "    else:\n",
    "        model = env_name + '-best.dat'\n",
    "\n",
    "    env = wrap_deepmind(make_atari(DEFAULT_ENV_NAME, 1000), optical=opt)\n",
    "    net = DQN(env.observation_space.shape, env.action_space.n)\n",
    "    net.load_state_dict(torch.load(model, map_location=lambda storage, loc: storage))\n",
    "    \n",
    "    rewards = np.zeros(20)\n",
    "\n",
    "    for i in range(n_samples):\n",
    "    \n",
    "        state, _ = env.reset()\n",
    "        total_reward = 0.0\n",
    "        \n",
    "        while True:\n",
    "            \n",
    "            state_v = torch.tensor(np.array([state], copy=False))\n",
    "            q_vals = net(state_v).data.numpy()[0]\n",
    "            action = np.argmax(q_vals)\n",
    "\n",
    "            state, reward, done, _, _ = env.step(action)\n",
    "            total_reward += reward\n",
    "\n",
    "            if done:\n",
    "                break\n",
    "\n",
    "        rewards[i] = total_reward\n",
    "        \n",
    "    return rewards"
   ]
  },
  {
   "cell_type": "markdown",
   "id": "f739d17b-08df-48ca-ab75-b3c2b21f0b26",
   "metadata": {
    "jp-MarkdownHeadingCollapsed": true,
    "tags": []
   },
   "source": [
    "### PACMAN"
   ]
  },
  {
   "cell_type": "markdown",
   "id": "d0147526-ee99-4cbf-83d1-91ca92f77865",
   "metadata": {},
   "source": [
    "#### 50 mil"
   ]
  },
  {
   "cell_type": "code",
   "execution_count": 81,
   "id": "042bea64-1178-43e2-a244-25eb45bd56ac",
   "metadata": {},
   "outputs": [],
   "source": [
    "DEFAULT_ENV_NAME = \"MsPacmanNoFrameskip-v4\" \n",
    "MEAN_REWARD_BOUND = 1000.0        \n",
    "MAX_FRAMES = 50_000\n",
    "\n",
    "gamma = 0.99                   \n",
    "batch_size = 32                \n",
    "replay_size = 10_000            \n",
    "learning_rate = 1e-4      \n",
    "sync_target_frames = 1_000      \n",
    "replay_start_size = 10_000      \n",
    "\n",
    "eps_start=1.0\n",
    "eps_decay=.9999975\n",
    "eps_min=0.02\n",
    "\n",
    "env = wrap_deepmind(make_atari(DEFAULT_ENV_NAME, 1000), optical=False)\n",
    "\n",
    "np.random.seed(2109);\n",
    "env.seed(2109);"
   ]
  },
  {
   "cell_type": "code",
   "execution_count": 82,
   "id": "ccfbbbfe-15c9-4d37-a382-3cb84bad6c59",
   "metadata": {
    "tags": []
   },
   "outputs": [
    {
     "ename": "ValueError",
     "evalue": "too many values to unpack (expected 2)",
     "output_type": "error",
     "traceback": [
      "\u001b[1;31m---------------------------------------------------------------------------\u001b[0m",
      "\u001b[1;31mValueError\u001b[0m                                Traceback (most recent call last)",
      "Cell \u001b[1;32mIn [82], line 1\u001b[0m\n\u001b[1;32m----> 1\u001b[0m rewards2_pacman \u001b[38;5;241m=\u001b[39m \u001b[43mtrain_func\u001b[49m\u001b[43m(\u001b[49m\u001b[43menv\u001b[49m\u001b[43m,\u001b[49m\u001b[43m \u001b[49m\u001b[43mDEFAULT_ENV_NAME\u001b[49m\u001b[43m,\u001b[49m\u001b[43m \u001b[49m\u001b[38;5;28;43;01mFalse\u001b[39;49;00m\u001b[43m,\u001b[49m\u001b[43m \u001b[49m\u001b[43mMEAN_REWARD_BOUND\u001b[49m\u001b[43m,\u001b[49m\u001b[43m \u001b[49m\u001b[43mMAX_FRAMES\u001b[49m\u001b[43m,\u001b[49m\u001b[43m \u001b[49m\u001b[43mgamma\u001b[49m\u001b[43m,\u001b[49m\u001b[43m \u001b[49m\u001b[43mbatch_size\u001b[49m\u001b[43m,\u001b[49m\u001b[43m \u001b[49m\u001b[43mreplay_size\u001b[49m\u001b[43m,\u001b[49m\u001b[43m \u001b[49m\u001b[43mlearning_rate\u001b[49m\u001b[43m,\u001b[49m\u001b[43m \u001b[49m\u001b[43msync_target_frames\u001b[49m\u001b[43m,\u001b[49m\u001b[43m \u001b[49m\u001b[43mreplay_start_size\u001b[49m\u001b[43m,\u001b[49m\u001b[43m \u001b[49m\u001b[43meps_start\u001b[49m\u001b[43m,\u001b[49m\u001b[43m \u001b[49m\u001b[43meps_decay\u001b[49m\u001b[43m,\u001b[49m\u001b[43m \u001b[49m\u001b[43meps_min\u001b[49m\u001b[43m,\u001b[49m\u001b[43m \u001b[49m\u001b[43mdevice\u001b[49m\u001b[43m)\u001b[49m\n",
      "Cell \u001b[1;32mIn [78], line 9\u001b[0m, in \u001b[0;36mtrain_func\u001b[1;34m(env, env_name, optical, reward_bound, max_frames, gamma, batch_size, replay_size, learning_rate, sync_target_frames, replay_start_size, eps_start, eps_decay, eps_min, device)\u001b[0m\n\u001b[0;32m      2\u001b[0m \u001b[38;5;124;03m'''\u001b[39;00m\n\u001b[0;32m      3\u001b[0m \u001b[38;5;124;03mEsta función lleva a cabo el entrenamiento de las redes.\u001b[39;00m\n\u001b[0;32m      4\u001b[0m \u001b[38;5;124;03mGenera una instancia del buffer de Experiencia y del Agente, e inicializa la red. La red se entrena jugando las partidas durante\u001b[39;00m\n\u001b[0;32m      5\u001b[0m \u001b[38;5;124;03mla cantidad de frames indicados.\u001b[39;00m\n\u001b[0;32m      6\u001b[0m \u001b[38;5;124;03mDevuelve un arreglo que contiene las recompensas obtenidas en cada frame.\u001b[39;00m\n\u001b[0;32m      7\u001b[0m \u001b[38;5;124;03m'''\u001b[39;00m\n\u001b[0;32m      8\u001b[0m buffer \u001b[38;5;241m=\u001b[39m ExperienceReplay(replay_size)\n\u001b[1;32m----> 9\u001b[0m agent \u001b[38;5;241m=\u001b[39m \u001b[43mAgent\u001b[49m\u001b[43m(\u001b[49m\u001b[43menv\u001b[49m\u001b[43m,\u001b[49m\u001b[43mbuffer\u001b[49m\u001b[43m)\u001b[49m \n\u001b[0;32m     11\u001b[0m net \u001b[38;5;241m=\u001b[39m DQN(env\u001b[38;5;241m.\u001b[39mobservation_space\u001b[38;5;241m.\u001b[39mshape, env\u001b[38;5;241m.\u001b[39maction_space\u001b[38;5;241m.\u001b[39mn)\u001b[38;5;241m.\u001b[39mto(device)\n\u001b[0;32m     12\u001b[0m target_net \u001b[38;5;241m=\u001b[39m DQN(env\u001b[38;5;241m.\u001b[39mobservation_space\u001b[38;5;241m.\u001b[39mshape, env\u001b[38;5;241m.\u001b[39maction_space\u001b[38;5;241m.\u001b[39mn)\u001b[38;5;241m.\u001b[39mto(device)\n",
      "Cell \u001b[1;32mIn [73], line 5\u001b[0m, in \u001b[0;36mAgent.__init__\u001b[1;34m(self, env, exp_buffer)\u001b[0m\n\u001b[0;32m      3\u001b[0m \u001b[38;5;28mself\u001b[39m\u001b[38;5;241m.\u001b[39menv \u001b[38;5;241m=\u001b[39m env\n\u001b[0;32m      4\u001b[0m \u001b[38;5;28mself\u001b[39m\u001b[38;5;241m.\u001b[39mexp_buffer \u001b[38;5;241m=\u001b[39m exp_buffer\n\u001b[1;32m----> 5\u001b[0m \u001b[38;5;28;43mself\u001b[39;49m\u001b[38;5;241;43m.\u001b[39;49m\u001b[43m_reset\u001b[49m\u001b[43m(\u001b[49m\u001b[43m)\u001b[49m\n",
      "Cell \u001b[1;32mIn [73], line 8\u001b[0m, in \u001b[0;36mAgent._reset\u001b[1;34m(self)\u001b[0m\n\u001b[0;32m      7\u001b[0m \u001b[38;5;28;01mdef\u001b[39;00m \u001b[38;5;21m_reset\u001b[39m(\u001b[38;5;28mself\u001b[39m):\n\u001b[1;32m----> 8\u001b[0m     \u001b[38;5;28mself\u001b[39m\u001b[38;5;241m.\u001b[39mstate, _ \u001b[38;5;241m=\u001b[39m \u001b[38;5;28;43mself\u001b[39;49m\u001b[38;5;241;43m.\u001b[39;49m\u001b[43menv\u001b[49m\u001b[38;5;241;43m.\u001b[39;49m\u001b[43mreset\u001b[49m\u001b[43m(\u001b[49m\u001b[43m)\u001b[49m\n\u001b[0;32m      9\u001b[0m     \u001b[38;5;28mself\u001b[39m\u001b[38;5;241m.\u001b[39mtotal_reward \u001b[38;5;241m=\u001b[39m \u001b[38;5;241m0.0\u001b[39m\n",
      "Cell \u001b[1;32mIn [49], line 184\u001b[0m, in \u001b[0;36mFrameStack.reset\u001b[1;34m(self)\u001b[0m\n\u001b[0;32m    183\u001b[0m \u001b[38;5;28;01mdef\u001b[39;00m \u001b[38;5;21mreset\u001b[39m(\u001b[38;5;28mself\u001b[39m):\n\u001b[1;32m--> 184\u001b[0m     obs, _ \u001b[38;5;241m=\u001b[39m \u001b[38;5;28;43mself\u001b[39;49m\u001b[38;5;241;43m.\u001b[39;49m\u001b[43menv\u001b[49m\u001b[38;5;241;43m.\u001b[39;49m\u001b[43mreset\u001b[49m\u001b[43m(\u001b[49m\u001b[43m)\u001b[49m\n\u001b[0;32m    185\u001b[0m     \u001b[38;5;28;01mfor\u001b[39;00m _ \u001b[38;5;129;01min\u001b[39;00m \u001b[38;5;28mrange\u001b[39m(\u001b[38;5;28mself\u001b[39m\u001b[38;5;241m.\u001b[39mk):\n\u001b[0;32m    186\u001b[0m         \u001b[38;5;28mself\u001b[39m\u001b[38;5;241m.\u001b[39mframes\u001b[38;5;241m.\u001b[39mappend(obs)\n",
      "File \u001b[1;32m~\\miniconda3\\envs\\Tesis\\lib\\site-packages\\gym\\core.py:379\u001b[0m, in \u001b[0;36mObservationWrapper.reset\u001b[1;34m(self, **kwargs)\u001b[0m\n\u001b[0;32m    377\u001b[0m \u001b[38;5;28;01mdef\u001b[39;00m \u001b[38;5;21mreset\u001b[39m(\u001b[38;5;28mself\u001b[39m, \u001b[38;5;241m*\u001b[39m\u001b[38;5;241m*\u001b[39mkwargs):\n\u001b[0;32m    378\u001b[0m     \u001b[38;5;124;03m\"\"\"Resets the environment, returning a modified observation using :meth:`self.observation`.\"\"\"\u001b[39;00m\n\u001b[1;32m--> 379\u001b[0m     obs, info \u001b[38;5;241m=\u001b[39m \u001b[38;5;28mself\u001b[39m\u001b[38;5;241m.\u001b[39menv\u001b[38;5;241m.\u001b[39mreset(\u001b[38;5;241m*\u001b[39m\u001b[38;5;241m*\u001b[39mkwargs)\n\u001b[0;32m    380\u001b[0m     \u001b[38;5;28;01mreturn\u001b[39;00m \u001b[38;5;28mself\u001b[39m\u001b[38;5;241m.\u001b[39mobservation(obs), info\n",
      "File \u001b[1;32m~\\miniconda3\\envs\\Tesis\\lib\\site-packages\\gym\\core.py:379\u001b[0m, in \u001b[0;36mObservationWrapper.reset\u001b[1;34m(self, **kwargs)\u001b[0m\n\u001b[0;32m    377\u001b[0m \u001b[38;5;28;01mdef\u001b[39;00m \u001b[38;5;21mreset\u001b[39m(\u001b[38;5;28mself\u001b[39m, \u001b[38;5;241m*\u001b[39m\u001b[38;5;241m*\u001b[39mkwargs):\n\u001b[0;32m    378\u001b[0m     \u001b[38;5;124;03m\"\"\"Resets the environment, returning a modified observation using :meth:`self.observation`.\"\"\"\u001b[39;00m\n\u001b[1;32m--> 379\u001b[0m     obs, info \u001b[38;5;241m=\u001b[39m \u001b[38;5;28mself\u001b[39m\u001b[38;5;241m.\u001b[39menv\u001b[38;5;241m.\u001b[39mreset(\u001b[38;5;241m*\u001b[39m\u001b[38;5;241m*\u001b[39mkwargs)\n\u001b[0;32m    380\u001b[0m     \u001b[38;5;28;01mreturn\u001b[39;00m \u001b[38;5;28mself\u001b[39m\u001b[38;5;241m.\u001b[39mobservation(obs), info\n",
      "Cell \u001b[1;32mIn [49], line 77\u001b[0m, in \u001b[0;36mTimeLimit.reset\u001b[1;34m(self)\u001b[0m\n\u001b[0;32m     75\u001b[0m \u001b[38;5;28;01mdef\u001b[39;00m \u001b[38;5;21mreset\u001b[39m(\u001b[38;5;28mself\u001b[39m):\n\u001b[0;32m     76\u001b[0m     \u001b[38;5;28mself\u001b[39m\u001b[38;5;241m.\u001b[39m_elapsed_steps \u001b[38;5;241m=\u001b[39m \u001b[38;5;241m0\u001b[39m\n\u001b[1;32m---> 77\u001b[0m     obs, _ \u001b[38;5;241m=\u001b[39m \u001b[38;5;28;43mself\u001b[39;49m\u001b[38;5;241;43m.\u001b[39;49m\u001b[43menv\u001b[49m\u001b[38;5;241;43m.\u001b[39;49m\u001b[43mreset\u001b[49m\u001b[43m(\u001b[49m\u001b[43m)\u001b[49m\n\u001b[0;32m     78\u001b[0m     \u001b[38;5;28;01mreturn\u001b[39;00m obs\n",
      "Cell \u001b[1;32mIn [49], line 54\u001b[0m, in \u001b[0;36mMaxAndSkipEnv.reset\u001b[1;34m(self)\u001b[0m\n\u001b[0;32m     53\u001b[0m \u001b[38;5;28;01mdef\u001b[39;00m \u001b[38;5;21mreset\u001b[39m(\u001b[38;5;28mself\u001b[39m):\n\u001b[1;32m---> 54\u001b[0m     obs, _ \u001b[38;5;241m=\u001b[39m \u001b[38;5;28mself\u001b[39m\u001b[38;5;241m.\u001b[39menv\u001b[38;5;241m.\u001b[39mreset()\n\u001b[0;32m     55\u001b[0m     \u001b[38;5;28;01mreturn\u001b[39;00m obs\n",
      "\u001b[1;31mValueError\u001b[0m: too many values to unpack (expected 2)"
     ]
    }
   ],
   "source": [
    "rewards2_pacman = train_func(env, DEFAULT_ENV_NAME, False, MEAN_REWARD_BOUND, MAX_FRAMES, gamma, batch_size, replay_size, learning_rate, sync_target_frames, replay_start_size, eps_start, eps_decay, eps_min, device)"
   ]
  },
  {
   "cell_type": "code",
   "execution_count": 62,
   "id": "461684a1-0be6-4f0e-bdcc-3fc89564726b",
   "metadata": {},
   "outputs": [
    {
     "ename": "AttributeError",
     "evalue": "module 'gym.wrappers' has no attribute 'Monitor'",
     "output_type": "error",
     "traceback": [
      "\u001b[1;31m---------------------------------------------------------------------------\u001b[0m",
      "\u001b[1;31mAttributeError\u001b[0m                            Traceback (most recent call last)",
      "Cell \u001b[1;32mIn [62], line 4\u001b[0m\n\u001b[0;32m      2\u001b[0m np\u001b[38;5;241m.\u001b[39mrandom\u001b[38;5;241m.\u001b[39mseed(\u001b[38;5;241m2109\u001b[39m)\n\u001b[0;32m      3\u001b[0m env\u001b[38;5;241m.\u001b[39mseed(\u001b[38;5;241m2109\u001b[39m)\n\u001b[1;32m----> 4\u001b[0m \u001b[43mmake_video\u001b[49m\u001b[43m(\u001b[49m\u001b[43mDEFAULT_ENV_NAME\u001b[49m\u001b[43m,\u001b[49m\u001b[43m \u001b[49m\u001b[38;5;28;43;01mFalse\u001b[39;49;00m\u001b[43m)\u001b[49m\n",
      "Cell \u001b[1;32mIn [58], line 14\u001b[0m, in \u001b[0;36mmake_video\u001b[1;34m(env_name, opt)\u001b[0m\n\u001b[0;32m     12\u001b[0m env \u001b[38;5;241m=\u001b[39m wrap_deepmind(make_atari(DEFAULT_ENV_NAME, \u001b[38;5;241m1000\u001b[39m), optical\u001b[38;5;241m=\u001b[39mopt)\n\u001b[0;32m     13\u001b[0m \u001b[38;5;28;01mif\u001b[39;00m record_folder:\n\u001b[1;32m---> 14\u001b[0m         env \u001b[38;5;241m=\u001b[39m \u001b[43mgym\u001b[49m\u001b[38;5;241;43m.\u001b[39;49m\u001b[43mwrappers\u001b[49m\u001b[38;5;241;43m.\u001b[39;49m\u001b[43mMonitor\u001b[49m(env, record_folder, force\u001b[38;5;241m=\u001b[39m\u001b[38;5;28;01mTrue\u001b[39;00m)\n\u001b[0;32m     15\u001b[0m net \u001b[38;5;241m=\u001b[39m DQN(env\u001b[38;5;241m.\u001b[39mobservation_space\u001b[38;5;241m.\u001b[39mshape, env\u001b[38;5;241m.\u001b[39maction_space\u001b[38;5;241m.\u001b[39mn)\n\u001b[0;32m     16\u001b[0m net\u001b[38;5;241m.\u001b[39mload_state_dict(torch\u001b[38;5;241m.\u001b[39mload(model, map_location\u001b[38;5;241m=\u001b[39m\u001b[38;5;28;01mlambda\u001b[39;00m storage, loc: storage))\n",
      "\u001b[1;31mAttributeError\u001b[0m: module 'gym.wrappers' has no attribute 'Monitor'"
     ]
    }
   ],
   "source": [
    "# Video de una corrida de MsPacman.\n",
    "np.random.seed(2109)\n",
    "env.seed(2109)\n",
    "make_video(DEFAULT_ENV_NAME, False)"
   ]
  },
  {
   "cell_type": "code",
   "execution_count": 197,
   "id": "8be161ea-eacf-4d1c-8a4d-baa516f6eb8b",
   "metadata": {},
   "outputs": [
    {
     "data": {
      "text/plain": [
       "array([60., 60., 60., 60., 60., 60., 60., 60., 60., 60., 60., 60., 60.,\n",
       "       60., 60., 60., 60., 60., 60., 60.])"
      ]
     },
     "execution_count": 197,
     "metadata": {},
     "output_type": "execute_result"
    }
   ],
   "source": [
    "# Obtiene una muestra de partidas con la red entrenada.\n",
    "np.random.seed(2109)\n",
    "env.seed(2109)\n",
    "sample2_Pacman = sample(DEFAULT_ENV_NAME, 20, False)\n",
    "sample2_Pacman"
   ]
  },
  {
   "cell_type": "code",
   "execution_count": 198,
   "id": "a43d9119-5baa-41cc-9829-f9e4416c4e5a",
   "metadata": {},
   "outputs": [],
   "source": [
    "DEFAULT_ENV_NAME = \"MsPacmanNoFrameskip-v4\" \n",
    "MEAN_REWARD_BOUND = 1000.0        \n",
    "MAX_FRAMES = 50_000\n",
    "\n",
    "gamma = 0.99                   \n",
    "batch_size = 32                \n",
    "replay_size = 10_000            \n",
    "learning_rate = 1e-4      \n",
    "sync_target_frames = 1_000      \n",
    "replay_start_size = 10_000      \n",
    "\n",
    "eps_start=1.0\n",
    "eps_decay=.9999975\n",
    "eps_min=0.02\n",
    "\n",
    "env = wrap_deepmind(make_atari(DEFAULT_ENV_NAME, 1000), optical=True)\n",
    "\n",
    "np.random.seed(2109);\n",
    "env.seed(2109);"
   ]
  },
  {
   "cell_type": "code",
   "execution_count": 199,
   "id": "f7098ff9-d28a-48ac-bde8-776b1183e8ab",
   "metadata": {},
   "outputs": [
    {
     "name": "stderr",
     "output_type": "stream",
     "text": [
      " 20%|███████████████▏                                                            | 9991/49999 [00:34<02:30, 265.03it/s]"
     ]
    },
    {
     "name": "stdout",
     "output_type": "stream",
     "text": [
      "10000:  20 games, mean reward 247.000, (eps 0.98), time 0:00:33.621617\n"
     ]
    },
    {
     "name": "stderr",
     "output_type": "stream",
     "text": [
      " 25%|███████████████████                                                         | 12508/49999 [01:17<10:55, 57.18it/s]"
     ]
    },
    {
     "name": "stdout",
     "output_type": "stream",
     "text": [
      "12500:  26 games, mean reward 238.846, (eps 0.97), time 0:01:17.137138\n"
     ]
    },
    {
     "name": "stderr",
     "output_type": "stream",
     "text": [
      " 30%|██████████████████████▊                                                     | 15008/49999 [01:59<10:05, 57.82it/s]"
     ]
    },
    {
     "name": "stdout",
     "output_type": "stream",
     "text": [
      "15000:  31 games, mean reward 240.323, (eps 0.96), time 0:01:55.950798\n"
     ]
    },
    {
     "name": "stderr",
     "output_type": "stream",
     "text": [
      " 35%|██████████████████████████▌                                                 | 17510/49999 [02:42<09:08, 59.20it/s]"
     ]
    },
    {
     "name": "stdout",
     "output_type": "stream",
     "text": [
      "17500:  36 games, mean reward 239.167, (eps 0.96), time 0:02:33.913270\n"
     ]
    },
    {
     "name": "stderr",
     "output_type": "stream",
     "text": [
      " 40%|██████████████████████████████▍                                             | 20006/49999 [03:24<08:48, 56.71it/s]"
     ]
    },
    {
     "name": "stdout",
     "output_type": "stream",
     "text": [
      "20000:  41 games, mean reward 238.780, (eps 0.95), time 0:03:16.774168\n"
     ]
    },
    {
     "name": "stderr",
     "output_type": "stream",
     "text": [
      " 45%|██████████████████████████████████▏                                         | 22510/49999 [04:07<07:54, 57.98it/s]"
     ]
    },
    {
     "name": "stdout",
     "output_type": "stream",
     "text": [
      "22500:  46 games, mean reward 241.957, (eps 0.95), time 0:04:02.946888\n"
     ]
    },
    {
     "name": "stderr",
     "output_type": "stream",
     "text": [
      " 50%|██████████████████████████████████████                                      | 25007/49999 [04:50<07:02, 59.16it/s]"
     ]
    },
    {
     "name": "stdout",
     "output_type": "stream",
     "text": [
      "25000:  50 games, mean reward 248.800, (eps 0.94), time 0:04:38.743715\n"
     ]
    },
    {
     "name": "stderr",
     "output_type": "stream",
     "text": [
      " 55%|█████████████████████████████████████████▊                                  | 27509/49999 [05:33<06:24, 58.51it/s]"
     ]
    },
    {
     "name": "stdout",
     "output_type": "stream",
     "text": [
      "27500:  56 games, mean reward 253.036, (eps 0.93), time 0:05:26.853061\n"
     ]
    },
    {
     "name": "stderr",
     "output_type": "stream",
     "text": [
      " 60%|█████████████████████████████████████████████▌                              | 30009/49999 [06:15<05:44, 58.04it/s]"
     ]
    },
    {
     "name": "stdout",
     "output_type": "stream",
     "text": [
      "30000:  62 games, mean reward 250.000, (eps 0.93), time 0:06:13.732723\n"
     ]
    },
    {
     "name": "stderr",
     "output_type": "stream",
     "text": [
      " 65%|█████████████████████████████████████████████████▍                          | 32509/49999 [06:58<05:30, 52.93it/s]"
     ]
    },
    {
     "name": "stdout",
     "output_type": "stream",
     "text": [
      "32500:  66 games, mean reward 250.455, (eps 0.92), time 0:06:49.945344\n"
     ]
    },
    {
     "name": "stderr",
     "output_type": "stream",
     "text": [
      " 70%|█████████████████████████████████████████████████████▏                      | 35005/49999 [07:41<04:12, 59.36it/s]"
     ]
    },
    {
     "name": "stdout",
     "output_type": "stream",
     "text": [
      "35000:  71 games, mean reward 253.803, (eps 0.92), time 0:07:35.733316\n"
     ]
    },
    {
     "name": "stderr",
     "output_type": "stream",
     "text": [
      " 75%|█████████████████████████████████████████████████████████                   | 37508/49999 [08:24<03:44, 55.69it/s]"
     ]
    },
    {
     "name": "stdout",
     "output_type": "stream",
     "text": [
      "37500:  77 games, mean reward 251.688, (eps 0.91), time 0:08:24.024774\n"
     ]
    },
    {
     "name": "stderr",
     "output_type": "stream",
     "text": [
      " 80%|████████████████████████████████████████████████████████████▊               | 40008/49999 [09:08<02:54, 57.12it/s]"
     ]
    },
    {
     "name": "stdout",
     "output_type": "stream",
     "text": [
      "40000:  82 games, mean reward 254.634, (eps 0.90), time 0:09:07.109453\n"
     ]
    },
    {
     "name": "stderr",
     "output_type": "stream",
     "text": [
      " 85%|████████████████████████████████████████████████████████████████▌           | 42507/49999 [09:51<02:07, 58.89it/s]"
     ]
    },
    {
     "name": "stdout",
     "output_type": "stream",
     "text": [
      "42500:  87 games, mean reward 254.023, (eps 0.90), time 0:09:46.280625\n"
     ]
    },
    {
     "name": "stderr",
     "output_type": "stream",
     "text": [
      " 90%|████████████████████████████████████████████████████████████████████▍       | 45008/49999 [10:34<01:26, 57.74it/s]"
     ]
    },
    {
     "name": "stdout",
     "output_type": "stream",
     "text": [
      "45000:  92 games, mean reward 254.130, (eps 0.89), time 0:10:26.867904\n"
     ]
    },
    {
     "name": "stderr",
     "output_type": "stream",
     "text": [
      " 95%|████████████████████████████████████████████████████████████████████████▏   | 47508/49999 [11:17<00:42, 58.86it/s]"
     ]
    },
    {
     "name": "stdout",
     "output_type": "stream",
     "text": [
      "47500:  98 games, mean reward 252.449, (eps 0.89), time 0:11:12.623124\n"
     ]
    },
    {
     "name": "stderr",
     "output_type": "stream",
     "text": [
      "100%|████████████████████████████████████████████████████████████████████████████| 49999/49999 [12:00<00:00, 69.42it/s]\n"
     ]
    },
    {
     "name": "stdout",
     "output_type": "stream",
     "text": [
      "Traning finished\n",
      "49999:  104 games, mean reward 252.500, (eps 0.88), time 0:11:59.980064\n"
     ]
    }
   ],
   "source": [
    "rewards2_pacman_opt = train_func(env, DEFAULT_ENV_NAME, True, MEAN_REWARD_BOUND, MAX_FRAMES, gamma, batch_size, replay_size, learning_rate, sync_target_frames, replay_start_size, eps_start, eps_decay, eps_min, device)"
   ]
  },
  {
   "cell_type": "code",
   "execution_count": 209,
   "id": "89deffcc-7bd4-406e-815c-22453081fac9",
   "metadata": {},
   "outputs": [
    {
     "name": "stdout",
     "output_type": "stream",
     "text": [
      "65, reward 10.0\n",
      "69, reward 10.0\n",
      "72, reward 10.0\n",
      "75, reward 10.0\n",
      "79, reward 10.0\n",
      "92, reward 10.0\n",
      "101, reward 10.0\n",
      "105, reward 10.0\n",
      "131, reward 10.0\n",
      "135, reward 10.0\n",
      "138, reward 10.0\n",
      "166, reward 10.0\n",
      "169, reward 10.0\n",
      "172, reward 10.0\n",
      "179, reward 50.0\n",
      "181, reward 10.0\n",
      "183, reward 200.0\n",
      "190, reward 10.0\n",
      "197, reward 10.0\n",
      "241, reward 400.0\n",
      "277, reward 800.0\n",
      "357, reward 10.0\n",
      "417, reward 10.0\n",
      "421, reward 10.0\n",
      "423, reward 10.0\n",
      "436, reward 10.0\n",
      "439, reward 10.0\n",
      "442, reward 10.0\n",
      "446, reward 10.0\n",
      "450, reward 10.0\n",
      "453, reward 10.0\n",
      "459, reward 10.0\n",
      "462, reward 10.0\n",
      "466, reward 10.0\n",
      "470, reward 10.0\n",
      "473, reward 10.0\n",
      "476, reward 10.0\n",
      "480, reward 10.0\n",
      "483, reward 10.0\n",
      "488, reward 10.0\n",
      "491, reward 10.0\n",
      "494, reward 10.0\n",
      "554, reward 10.0\n",
      "558, reward 10.0\n",
      "561, reward 10.0\n",
      "565, reward 10.0\n",
      "568, reward 10.0\n",
      "576, reward 10.0\n",
      "605, reward 10.0\n",
      "609, reward 10.0\n",
      "612, reward 10.0\n",
      "722, reward 10.0\n",
      "727, reward 10.0\n",
      "730, reward 10.0\n",
      "742, reward 10.0\n",
      "746, reward 10.0\n",
      "748, reward 10.0\n",
      "752, reward 10.0\n",
      "756, reward 10.0\n",
      "760, reward 10.0\n",
      "783, reward 10.0\n",
      "786, reward 10.0\n",
      "Total reward: 2030.00\n"
     ]
    }
   ],
   "source": [
    "# Video MsPacman\n",
    "make_video(DEFAULT_ENV_NAME, True)"
   ]
  },
  {
   "cell_type": "code",
   "execution_count": 201,
   "id": "2f274afe-4f69-42fe-b974-7ab8dca13335",
   "metadata": {},
   "outputs": [
    {
     "data": {
      "text/plain": [
       "array([ 480.,  490.,  480.,  490.,  640., 2030., 2030.,  480., 2030.,\n",
       "        640.,  490., 2030.,  480.,  480.,  640.,  640.,  480.,  640.,\n",
       "        490.,  480.])"
      ]
     },
     "execution_count": 201,
     "metadata": {},
     "output_type": "execute_result"
    }
   ],
   "source": [
    "# Obtiene una muestra de partidas con la red entrenada.\n",
    "np.random.seed(2109)\n",
    "env.seed(2109)\n",
    "sample2_Pacman_Opt = sample(DEFAULT_ENV_NAME, 20, True)\n",
    "sample2_Pacman_Opt"
   ]
  },
  {
   "cell_type": "code",
   "execution_count": 241,
   "id": "d4b4dfc5-780b-41d4-81fc-7f7ac442abca",
   "metadata": {},
   "outputs": [
    {
     "data": {
      "text/plain": [
       "832.0"
      ]
     },
     "execution_count": 241,
     "metadata": {},
     "output_type": "execute_result"
    }
   ],
   "source": [
    "np.mean(sample2_Pacman_Opt)"
   ]
  },
  {
   "cell_type": "code",
   "execution_count": 202,
   "id": "d531d3b1-1cdf-4a73-ba9f-ce35852dadb2",
   "metadata": {},
   "outputs": [
    {
     "data": {
      "text/plain": [
       "RanksumsResult(statistic=-5.410017808004594, pvalue=6.301848221392269e-08)"
      ]
     },
     "execution_count": 202,
     "metadata": {},
     "output_type": "execute_result"
    }
   ],
   "source": [
    "ranksums(sample_Pacman, sample_Pacman_Opt)"
   ]
  },
  {
   "cell_type": "code",
   "execution_count": 226,
   "id": "038a31a0-8735-4e36-88f1-27d455c96122",
   "metadata": {},
   "outputs": [],
   "source": [
    "cumsum_opt = np.cumsum(np.insert(rewards2_pacman_opt, 0, 0)) \n",
    "opt_vec = (cumsum_opt[100:] - cumsum_opt[:-100]) / 100"
   ]
  },
  {
   "cell_type": "code",
   "execution_count": 227,
   "id": "f1a4a6d5-bdc5-4244-a676-a5043addc584",
   "metadata": {},
   "outputs": [],
   "source": [
    "cumsum = np.cumsum(np.insert(rewards2_pacman, 0, 0)) \n",
    "vec = (cumsum[100:] - cumsum[:-100]) / 100"
   ]
  },
  {
   "cell_type": "code",
   "execution_count": 230,
   "id": "876d9c5b-35e8-498e-a138-6f4bd6ab9858",
   "metadata": {},
   "outputs": [
    {
     "data": {
      "image/png": "[encoded data removed]",
      "text/plain": [
       "<Figure size 640x480 with 1 Axes>"
      ]
     },
     "metadata": {},
     "output_type": "display_data"
    }
   ],
   "source": [
    "plt.plot(rewards2_pacman_opt)\n",
    "plt.plot(rewards2_pacman)\n",
    "plt.title('50,000 frames MsPacman')\n",
    "plt.xlabel('Games played')\n",
    "plt.ylabel('Average reward in the last 100 games')\n",
    "plt.legend([\"Optical\", \"DQN\"], loc =\"lower right\")\n",
    "plt.show()"
   ]
  },
  {
   "cell_type": "markdown",
   "id": "dde70e65-6058-47fb-b40a-28893b2cd44e",
   "metadata": {},
   "source": [
    "#### 2 millones"
   ]
  },
  {
   "cell_type": "code",
   "execution_count": 12,
   "id": "f809c19c-83e9-40d4-9eb5-0937ecfc62e3",
   "metadata": {},
   "outputs": [],
   "source": [
    "DEFAULT_ENV_NAME = \"MsPacmanNoFrameskip-v4\" \n",
    "MEAN_REWARD_BOUND = 1000.0        \n",
    "MAX_FRAMES = 2_000_000\n",
    "\n",
    "gamma = 0.99                   \n",
    "batch_size = 32                \n",
    "replay_size = 10_000            \n",
    "learning_rate = 1e-4      \n",
    "sync_target_frames = 1_000      \n",
    "replay_start_size = 10_000      \n",
    "\n",
    "eps_start=1.0\n",
    "eps_decay=.9999975\n",
    "eps_min=0.02\n",
    "\n",
    "env = wrap_deepmind(make_atari(DEFAULT_ENV_NAME, 1000), optical=False)\n",
    "\n",
    "np.random.seed(2109);\n",
    "env.seed(2109);"
   ]
  },
  {
   "cell_type": "code",
   "execution_count": 13,
   "id": "e0e81e10-adb9-48ba-a571-e9342e1fa26e",
   "metadata": {
    "tags": []
   },
   "outputs": [
    {
     "name": "stderr",
     "output_type": "stream",
     "text": [
      "  5%|███▌                                                                   | 100008/1999999 [16:00<6:25:52, 82.07it/s]"
     ]
    },
    {
     "name": "stdout",
     "output_type": "stream",
     "text": [
      "100000:  199 games, mean reward 257.800, (eps 0.78), time 0:15:59.301825\n"
     ]
    },
    {
     "name": "stderr",
     "output_type": "stream",
     "text": [
      " 10%|███████                                                                | 200013/1999999 [34:17<5:19:03, 94.03it/s]"
     ]
    },
    {
     "name": "stdout",
     "output_type": "stream",
     "text": [
      "200000:  386 games, mean reward 373.200, (eps 0.61), time 0:34:16.059871\n"
     ]
    },
    {
     "name": "stderr",
     "output_type": "stream",
     "text": [
      " 15%|██████████▋                                                            | 300013/1999999 [53:22<5:23:30, 87.58it/s]"
     ]
    },
    {
     "name": "stdout",
     "output_type": "stream",
     "text": [
      "300000:  576 games, mean reward 452.400, (eps 0.47), time 0:53:18.640298\n"
     ]
    },
    {
     "name": "stderr",
     "output_type": "stream",
     "text": [
      " 20%|█████████████▊                                                       | 400016/1999999 [1:12:49<4:53:40, 90.80it/s]"
     ]
    },
    {
     "name": "stdout",
     "output_type": "stream",
     "text": [
      "400000:  758 games, mean reward 516.400, (eps 0.37), time 1:12:46.300310\n"
     ]
    },
    {
     "name": "stderr",
     "output_type": "stream",
     "text": [
      " 25%|█████████████████▎                                                   | 500016/1999999 [1:31:47<4:36:37, 90.37it/s]"
     ]
    },
    {
     "name": "stdout",
     "output_type": "stream",
     "text": [
      "500000:  940 games, mean reward 543.400, (eps 0.29), time 1:31:46.547198\n"
     ]
    },
    {
     "name": "stderr",
     "output_type": "stream",
     "text": [
      " 30%|████████████████████▋                                                | 600014/1999999 [1:50:32<4:18:01, 90.43it/s]"
     ]
    },
    {
     "name": "stdout",
     "output_type": "stream",
     "text": [
      "600000:  1103 games, mean reward 639.300, (eps 0.22), time 1:50:29.066373\n"
     ]
    },
    {
     "name": "stderr",
     "output_type": "stream",
     "text": [
      " 35%|████████████████████████▏                                            | 700008/1999999 [2:09:17<4:00:33, 90.07it/s]"
     ]
    },
    {
     "name": "stdout",
     "output_type": "stream",
     "text": [
      "700000:  1275 games, mean reward 671.300, (eps 0.17), time 2:09:16.306846\n"
     ]
    },
    {
     "name": "stderr",
     "output_type": "stream",
     "text": [
      " 40%|███████████████████████████▌                                         | 800015/1999999 [2:28:06<3:46:08, 88.44it/s]"
     ]
    },
    {
     "name": "stdout",
     "output_type": "stream",
     "text": [
      "800000:  1442 games, mean reward 714.000, (eps 0.14), time 2:28:02.992211\n"
     ]
    },
    {
     "name": "stderr",
     "output_type": "stream",
     "text": [
      " 45%|███████████████████████████████                                      | 900009/1999999 [2:47:04<3:30:27, 87.11it/s]"
     ]
    },
    {
     "name": "stdout",
     "output_type": "stream",
     "text": [
      "900000:  1621 games, mean reward 613.100, (eps 0.11), time 2:47:01.553081\n"
     ]
    },
    {
     "name": "stderr",
     "output_type": "stream",
     "text": [
      " 50%|██████████████████████████████████                                  | 1000013/1999999 [3:06:06<3:08:50, 88.25it/s]"
     ]
    },
    {
     "name": "stdout",
     "output_type": "stream",
     "text": [
      "1000000:  1798 games, mean reward 621.700, (eps 0.08), time 3:06:05.376739\n"
     ]
    },
    {
     "name": "stderr",
     "output_type": "stream",
     "text": [
      " 55%|█████████████████████████████████████▍                              | 1100014/1999999 [3:25:13<2:49:16, 88.61it/s]"
     ]
    },
    {
     "name": "stdout",
     "output_type": "stream",
     "text": [
      "1100000:  1967 games, mean reward 679.500, (eps 0.06), time 3:25:13.102043\n"
     ]
    },
    {
     "name": "stderr",
     "output_type": "stream",
     "text": [
      " 60%|████████████████████████████████████████▊                           | 1200018/1999999 [3:44:19<2:30:34, 88.55it/s]"
     ]
    },
    {
     "name": "stdout",
     "output_type": "stream",
     "text": [
      "1200000:  2138 games, mean reward 654.000, (eps 0.05), time 3:44:15.950993\n"
     ]
    },
    {
     "name": "stderr",
     "output_type": "stream",
     "text": [
      " 65%|████████████████████████████████████████████▏                       | 1300016/1999999 [4:03:22<2:21:01, 82.72it/s]"
     ]
    },
    {
     "name": "stdout",
     "output_type": "stream",
     "text": [
      "1300000:  2312 games, mean reward 609.200, (eps 0.04), time 4:03:18.453381\n"
     ]
    },
    {
     "name": "stderr",
     "output_type": "stream",
     "text": [
      " 70%|███████████████████████████████████████████████▌                    | 1400010/1999999 [4:22:22<1:55:09, 86.83it/s]"
     ]
    },
    {
     "name": "stdout",
     "output_type": "stream",
     "text": [
      "1400000:  2484 games, mean reward 616.600, (eps 0.03), time 4:22:20.622086\n"
     ]
    },
    {
     "name": "stderr",
     "output_type": "stream",
     "text": [
      " 75%|███████████████████████████████████████████████████                 | 1500016/1999999 [4:41:25<1:34:34, 88.11it/s]"
     ]
    },
    {
     "name": "stdout",
     "output_type": "stream",
     "text": [
      "1500000:  2663 games, mean reward 530.200, (eps 0.02), time 4:41:21.956549\n"
     ]
    },
    {
     "name": "stderr",
     "output_type": "stream",
     "text": [
      " 80%|██████████████████████████████████████████████████████▍             | 1600010/1999999 [5:00:24<1:16:14, 87.44it/s]"
     ]
    },
    {
     "name": "stdout",
     "output_type": "stream",
     "text": [
      "1600000:  2839 games, mean reward 606.000, (eps 0.02), time 5:00:23.425314\n"
     ]
    },
    {
     "name": "stderr",
     "output_type": "stream",
     "text": [
      " 85%|███████████████████████████████████████████████████████████▌          | 1700014/1999999 [5:19:19<58:14, 85.85it/s]"
     ]
    },
    {
     "name": "stdout",
     "output_type": "stream",
     "text": [
      "1700000:  3009 games, mean reward 611.700, (eps 0.02), time 5:19:13.183766\n"
     ]
    },
    {
     "name": "stderr",
     "output_type": "stream",
     "text": [
      " 90%|███████████████████████████████████████████████████████████████       | 1800006/1999999 [5:38:12<37:55, 87.87it/s]"
     ]
    },
    {
     "name": "stdout",
     "output_type": "stream",
     "text": [
      "1800000:  3184 games, mean reward 665.900, (eps 0.02), time 5:38:09.467316\n"
     ]
    },
    {
     "name": "stderr",
     "output_type": "stream",
     "text": [
      " 95%|██████████████████████████████████████████████████████████████████▌   | 1900016/1999999 [5:57:15<18:55, 88.09it/s]"
     ]
    },
    {
     "name": "stdout",
     "output_type": "stream",
     "text": [
      "1900000:  3367 games, mean reward 519.200, (eps 0.02), time 5:57:15.033511\n"
     ]
    },
    {
     "name": "stderr",
     "output_type": "stream",
     "text": [
      "100%|██████████████████████████████████████████████████████████████████████| 1999999/1999999 [6:16:03<00:00, 88.64it/s]"
     ]
    },
    {
     "name": "stdout",
     "output_type": "stream",
     "text": [
      "Traning finished\n",
      "1999999:  3542 games, mean reward 518.900, (eps 0.02), time 6:16:02.086013\n"
     ]
    },
    {
     "name": "stderr",
     "output_type": "stream",
     "text": [
      "\n"
     ]
    }
   ],
   "source": [
    "rewards1_pacman = train_func(env, DEFAULT_ENV_NAME, False, MEAN_REWARD_BOUND, MAX_FRAMES, gamma, batch_size, replay_size, learning_rate, sync_target_frames, replay_start_size, eps_start, eps_decay, eps_min, device)"
   ]
  },
  {
   "cell_type": "code",
   "execution_count": 53,
   "id": "1b2c815d-4e55-4d5b-94c4-d8a5bf4053ea",
   "metadata": {
    "tags": []
   },
   "outputs": [
    {
     "name": "stdout",
     "output_type": "stream",
     "text": [
      "61, reward 10.0\n",
      "64, reward 10.0\n",
      "68, reward 10.0\n",
      "71, reward 10.0\n",
      "75, reward 10.0\n",
      "78, reward 10.0\n",
      "81, reward 10.0\n",
      "Total reward: 70.00\n"
     ]
    }
   ],
   "source": [
    "# Video de una corrida de MsPacman.\n",
    "np.random.seed(2109)\n",
    "env.seed(2109)\n",
    "make_video(DEFAULT_ENV_NAME, False)"
   ]
  },
  {
   "cell_type": "code",
   "execution_count": 54,
   "id": "861721a2-f2f0-4668-88e8-2e8784423c36",
   "metadata": {},
   "outputs": [
    {
     "data": {
      "text/plain": [
       "array([70., 70., 70., 70., 70., 70., 70., 70., 70., 70., 70., 70., 70.,\n",
       "       70., 70., 70., 70., 70., 70., 70.])"
      ]
     },
     "execution_count": 54,
     "metadata": {},
     "output_type": "execute_result"
    }
   ],
   "source": [
    "# Obtiene una muestra de partidas con la red entrenada.\n",
    "np.random.seed(2109)\n",
    "env.seed(2109)\n",
    "sample_Pacman = sample(DEFAULT_ENV_NAME, 20, False)\n",
    "sample_Pacman"
   ]
  },
  {
   "cell_type": "markdown",
   "id": "e3ba7934-759d-4287-8a49-c9ed3a43699e",
   "metadata": {},
   "source": [
    "#### Optical Flow"
   ]
  },
  {
   "cell_type": "code",
   "execution_count": 22,
   "id": "39d493b0-8b73-433f-93ef-3b70d814caa7",
   "metadata": {},
   "outputs": [],
   "source": [
    "DEFAULT_ENV_NAME = \"MsPacmanNoFrameskip-v4\" \n",
    "MEAN_REWARD_BOUND = 1000.0        \n",
    "MAX_FRAMES = 2_000_000\n",
    "\n",
    "gamma = 0.99                   \n",
    "batch_size = 32                \n",
    "replay_size = 10_000            \n",
    "learning_rate = 1e-4      \n",
    "sync_target_frames = 1_000      \n",
    "replay_start_size = 10_000      \n",
    "\n",
    "eps_start=1.0\n",
    "eps_decay=.9999975\n",
    "eps_min=0.02\n",
    "\n",
    "env = wrap_deepmind(make_atari(DEFAULT_ENV_NAME, 1000), optical=True)\n",
    "\n",
    "np.random.seed(2109);\n",
    "env.seed(2109);"
   ]
  },
  {
   "cell_type": "code",
   "execution_count": 23,
   "id": "bb47d3d7-7abc-4f75-a2f7-335233fd6773",
   "metadata": {},
   "outputs": [
    {
     "name": "stderr",
     "output_type": "stream",
     "text": [
      "  5%|███▌                                                                  | 100008/1999999 [22:22<10:04:27, 52.39it/s]"
     ]
    },
    {
     "name": "stdout",
     "output_type": "stream",
     "text": [
      "100000:  200 games, mean reward 287.400, (eps 0.78), time 0:22:18.731928\n"
     ]
    },
    {
     "name": "stderr",
     "output_type": "stream",
     "text": [
      " 10%|███████                                                                | 200012/1999999 [47:39<7:18:31, 68.41it/s]"
     ]
    },
    {
     "name": "stdout",
     "output_type": "stream",
     "text": [
      "200000:  405 games, mean reward 285.800, (eps 0.61), time 0:47:32.866177\n"
     ]
    },
    {
     "name": "stderr",
     "output_type": "stream",
     "text": [
      " 15%|██████████▎                                                          | 300008/1999999 [1:14:23<7:20:12, 64.36it/s]"
     ]
    },
    {
     "name": "stdout",
     "output_type": "stream",
     "text": [
      "300000:  616 games, mean reward 262.800, (eps 0.47), time 1:14:12.337063\n"
     ]
    },
    {
     "name": "stderr",
     "output_type": "stream",
     "text": [
      " 20%|█████████████▊                                                       | 400007/1999999 [1:41:30<6:53:42, 64.46it/s]"
     ]
    },
    {
     "name": "stdout",
     "output_type": "stream",
     "text": [
      "400000:  827 games, mean reward 270.200, (eps 0.37), time 1:41:19.917668\n"
     ]
    },
    {
     "name": "stderr",
     "output_type": "stream",
     "text": [
      " 25%|█████████████████▎                                                   | 500010/1999999 [2:08:30<6:42:07, 62.17it/s]"
     ]
    },
    {
     "name": "stdout",
     "output_type": "stream",
     "text": [
      "500000:  1038 games, mean reward 356.100, (eps 0.29), time 2:08:25.829965\n"
     ]
    },
    {
     "name": "stderr",
     "output_type": "stream",
     "text": [
      " 30%|████████████████████▋                                                | 600008/1999999 [2:35:06<6:22:12, 61.05it/s]"
     ]
    },
    {
     "name": "stdout",
     "output_type": "stream",
     "text": [
      "600000:  1240 games, mean reward 354.900, (eps 0.22), time 2:35:00.401395\n"
     ]
    },
    {
     "name": "stderr",
     "output_type": "stream",
     "text": [
      " 35%|████████████████████████▏                                            | 700012/1999999 [3:02:14<5:48:34, 62.16it/s]"
     ]
    },
    {
     "name": "stdout",
     "output_type": "stream",
     "text": [
      "700000:  1438 games, mean reward 351.800, (eps 0.17), time 3:02:13.203109\n"
     ]
    },
    {
     "name": "stderr",
     "output_type": "stream",
     "text": [
      " 40%|███████████████████████████▌                                         | 800008/1999999 [3:30:36<5:34:44, 59.75it/s]"
     ]
    },
    {
     "name": "stdout",
     "output_type": "stream",
     "text": [
      "800000:  1633 games, mean reward 325.800, (eps 0.14), time 3:30:32.060151\n"
     ]
    },
    {
     "name": "stderr",
     "output_type": "stream",
     "text": [
      " 45%|██████████████████████████████▌                                     | 900002/1999999 [4:05:54<29:40:49, 10.29it/s]"
     ]
    },
    {
     "name": "stdout",
     "output_type": "stream",
     "text": [
      "900000:  1822 games, mean reward 348.300, (eps 0.11), time 4:05:34.416074\n"
     ]
    },
    {
     "name": "stderr",
     "output_type": "stream",
     "text": [
      " 50%|██████████████████████████████████                                  | 1000006/1999999 [4:36:22<4:53:23, 56.81it/s]"
     ]
    },
    {
     "name": "stdout",
     "output_type": "stream",
     "text": [
      "1000000:  2012 games, mean reward 305.100, (eps 0.08), time 4:36:22.481307\n"
     ]
    },
    {
     "name": "stderr",
     "output_type": "stream",
     "text": [
      " 55%|█████████████████████████████████████▍                              | 1100011/1999999 [5:04:52<4:15:09, 58.78it/s]"
     ]
    },
    {
     "name": "stdout",
     "output_type": "stream",
     "text": [
      "1100000:  2190 games, mean reward 361.800, (eps 0.06), time 5:04:44.157322\n"
     ]
    },
    {
     "name": "stderr",
     "output_type": "stream",
     "text": [
      " 60%|████████████████████████████████████████▊                           | 1200012/1999999 [5:33:21<3:48:39, 58.31it/s]"
     ]
    },
    {
     "name": "stdout",
     "output_type": "stream",
     "text": [
      "1200000:  2364 games, mean reward 453.800, (eps 0.05), time 5:33:18.683671\n"
     ]
    },
    {
     "name": "stderr",
     "output_type": "stream",
     "text": [
      " 65%|████████████████████████████████████████████▏                       | 1300010/1999999 [6:01:57<3:22:54, 57.49it/s]"
     ]
    },
    {
     "name": "stdout",
     "output_type": "stream",
     "text": [
      "1300000:  2537 games, mean reward 473.200, (eps 0.04), time 6:01:53.940411\n"
     ]
    },
    {
     "name": "stderr",
     "output_type": "stream",
     "text": [
      " 70%|███████████████████████████████████████████████▌                    | 1400011/1999999 [6:30:36<2:50:08, 58.77it/s]"
     ]
    },
    {
     "name": "stdout",
     "output_type": "stream",
     "text": [
      "1400000:  2704 games, mean reward 560.300, (eps 0.03), time 6:30:25.185342\n"
     ]
    },
    {
     "name": "stderr",
     "output_type": "stream",
     "text": [
      " 75%|███████████████████████████████████████████████████                 | 1500007/1999999 [6:59:28<2:28:30, 56.11it/s]"
     ]
    },
    {
     "name": "stdout",
     "output_type": "stream",
     "text": [
      "1500000:  2874 games, mean reward 539.900, (eps 0.02), time 6:59:20.838997\n"
     ]
    },
    {
     "name": "stderr",
     "output_type": "stream",
     "text": [
      " 80%|██████████████████████████████████████████████████████▍             | 1600007/1999999 [7:28:22<1:54:23, 58.28it/s]"
     ]
    },
    {
     "name": "stdout",
     "output_type": "stream",
     "text": [
      "1600000:  3035 games, mean reward 655.600, (eps 0.02), time 7:28:15.949624\n"
     ]
    },
    {
     "name": "stderr",
     "output_type": "stream",
     "text": [
      " 85%|█████████████████████████████████████████████████████████▊          | 1700005/1999999 [7:57:21<1:24:33, 59.13it/s]"
     ]
    },
    {
     "name": "stdout",
     "output_type": "stream",
     "text": [
      "1700000:  3185 games, mean reward 721.200, (eps 0.02), time 7:57:15.027035\n"
     ]
    },
    {
     "name": "stderr",
     "output_type": "stream",
     "text": [
      " 90%|███████████████████████████████████████████████████████████████       | 1800008/1999999 [8:26:24<57:32, 57.93it/s]"
     ]
    },
    {
     "name": "stdout",
     "output_type": "stream",
     "text": [
      "1800000:  3347 games, mean reward 587.800, (eps 0.02), time 8:26:23.083194\n"
     ]
    },
    {
     "name": "stderr",
     "output_type": "stream",
     "text": [
      " 95%|██████████████████████████████████████████████████████████████████▌   | 1900011/1999999 [8:55:32<30:02, 55.49it/s]"
     ]
    },
    {
     "name": "stdout",
     "output_type": "stream",
     "text": [
      "1900000:  3512 games, mean reward 576.000, (eps 0.02), time 8:55:26.158253\n"
     ]
    },
    {
     "name": "stderr",
     "output_type": "stream",
     "text": [
      "100%|██████████████████████████████████████████████████████████████████████| 1999999/1999999 [9:24:49<00:00, 59.02it/s]\n"
     ]
    },
    {
     "name": "stdout",
     "output_type": "stream",
     "text": [
      "Traning finished\n",
      "1999999:  3670 games, mean reward 601.400, (eps 0.02), time 9:24:48.012695\n"
     ]
    }
   ],
   "source": [
    "rewards1_pacman_opt = train_func(env, DEFAULT_ENV_NAME, True, MEAN_REWARD_BOUND, MAX_FRAMES, gamma, batch_size, replay_size, learning_rate, sync_target_frames, replay_start_size, eps_start, eps_decay, eps_min, device)"
   ]
  },
  {
   "cell_type": "code",
   "execution_count": 37,
   "id": "4b2e9d7a-25b6-4035-8293-c5185fca798a",
   "metadata": {},
   "outputs": [
    {
     "name": "stdout",
     "output_type": "stream",
     "text": [
      "63, reward 10.0\n",
      "69, reward 10.0\n",
      "72, reward 10.0\n",
      "76, reward 10.0\n",
      "79, reward 10.0\n",
      "90, reward 10.0\n",
      "94, reward 10.0\n",
      "97, reward 10.0\n",
      "106, reward 10.0\n",
      "114, reward 10.0\n",
      "117, reward 10.0\n",
      "124, reward 10.0\n",
      "128, reward 10.0\n",
      "131, reward 10.0\n",
      "134, reward 10.0\n",
      "139, reward 10.0\n",
      "142, reward 10.0\n",
      "151, reward 10.0\n",
      "155, reward 10.0\n",
      "158, reward 10.0\n",
      "163, reward 50.0\n",
      "165, reward 10.0\n",
      "186, reward 200.0\n",
      "193, reward 10.0\n",
      "253, reward 400.0\n",
      "258, reward 10.0\n",
      "264, reward 10.0\n",
      "269, reward 10.0\n",
      "272, reward 10.0\n",
      "281, reward 10.0\n",
      "285, reward 10.0\n",
      "288, reward 10.0\n",
      "292, reward 10.0\n",
      "298, reward 10.0\n",
      "302, reward 10.0\n",
      "305, reward 50.0\n",
      "332, reward 10.0\n",
      "335, reward 10.0\n",
      "339, reward 10.0\n",
      "350, reward 10.0\n",
      "354, reward 10.0\n",
      "357, reward 10.0\n",
      "360, reward 10.0\n",
      "374, reward 10.0\n",
      "381, reward 10.0\n",
      "384, reward 10.0\n",
      "425, reward 10.0\n",
      "447, reward 10.0\n",
      "453, reward 10.0\n",
      "455, reward 10.0\n",
      "458, reward 10.0\n",
      "463, reward 10.0\n",
      "472, reward 10.0\n",
      "476, reward 10.0\n",
      "481, reward 10.0\n",
      "539, reward 10.0\n",
      "542, reward 10.0\n",
      "554, reward 10.0\n",
      "557, reward 10.0\n",
      "561, reward 10.0\n",
      "570, reward 10.0\n",
      "628, reward 10.0\n",
      "Total reward: 1280.00\n"
     ]
    }
   ],
   "source": [
    "# Video MsPacman\n",
    "make_video(DEFAULT_ENV_NAME, True)"
   ]
  },
  {
   "cell_type": "code",
   "execution_count": 32,
   "id": "137c9110-c581-4ed6-b6f4-a997364ca2b3",
   "metadata": {},
   "outputs": [
    {
     "data": {
      "text/plain": [
       "array([1280.,  270., 1280.,  470.,  470., 1280.,  270.,  270., 1280.,\n",
       "        470., 1280., 1280.,  520.,  270.,  270., 1280.,  520.,  520.,\n",
       "       1280., 1280.])"
      ]
     },
     "execution_count": 32,
     "metadata": {},
     "output_type": "execute_result"
    }
   ],
   "source": [
    "np.random.seed(2109)\n",
    "env.seed(2109)\n",
    "sample_Pacman_Opt = sample(DEFAULT_ENV_NAME, 20, True)\n",
    "sample_Pacman_Opt"
   ]
  },
  {
   "cell_type": "code",
   "execution_count": 242,
   "id": "00c61997-fe91-46f4-be99-ea182ac67684",
   "metadata": {},
   "outputs": [
    {
     "data": {
      "text/plain": [
       "792.0"
      ]
     },
     "execution_count": 242,
     "metadata": {},
     "output_type": "execute_result"
    }
   ],
   "source": [
    "np.mean(sample_Pacman_Opt)"
   ]
  },
  {
   "cell_type": "code",
   "execution_count": 35,
   "id": "a21fa438-a2ce-4501-9fbb-b7ab43a45f8b",
   "metadata": {},
   "outputs": [
    {
     "data": {
      "text/plain": [
       "RanksumsResult(statistic=-5.410017808004594, pvalue=6.301848221392269e-08)"
      ]
     },
     "execution_count": 35,
     "metadata": {},
     "output_type": "execute_result"
    }
   ],
   "source": [
    "ranksums(sample_Pacman, sample_Pacman_Opt)"
   ]
  },
  {
   "cell_type": "markdown",
   "id": "d64cbdad-ee1b-4c0f-80cc-51a2b7224e9a",
   "metadata": {},
   "source": [
    "Vemos que el p-value es menor a 0.5, por lo que se rechaza la H0: Los datos vienen de la misma distribución. Se acepta H1: Las distribuciones son distintas.\n",
    "\n",
    "En este caso el promedio de DQN es 70 y el método con flujo óptico es de 792."
   ]
  },
  {
   "cell_type": "code",
   "execution_count": 231,
   "id": "2c8455de-5695-47e4-a29d-b679dc71fc03",
   "metadata": {},
   "outputs": [],
   "source": [
    "cumsum_opt = np.cumsum(np.insert(rewards1_pacman_opt, 0, 0)) \n",
    "opt_vec = (cumsum_opt[100:] - cumsum_opt[:-100]) / 100"
   ]
  },
  {
   "cell_type": "code",
   "execution_count": 232,
   "id": "417b0eff-8a60-4cba-a3ab-fe941c1193b4",
   "metadata": {},
   "outputs": [],
   "source": [
    "cumsum = np.cumsum(np.insert(rewards1_pacman, 0, 0)) \n",
    "vec = (cumsum[100:] - cumsum[:-100]) / 100"
   ]
  },
  {
   "cell_type": "code",
   "execution_count": 233,
   "id": "9daac093-1fbf-4d47-aa75-56689f4e7f46",
   "metadata": {},
   "outputs": [
    {
     "data": {
      "image/png": "[encoded data removed]",
      "text/plain": [
       "<Figure size 640x480 with 1 Axes>"
      ]
     },
     "metadata": {},
     "output_type": "display_data"
    }
   ],
   "source": [
    "plt.plot(opt_vec)\n",
    "plt.plot(vec)\n",
    "plt.title('2,000,000 frames MsPacman')\n",
    "plt.xlabel('Games played')\n",
    "plt.ylabel('Average reward in the last 100 games')\n",
    "plt.legend([\"Optical\", \"DQN\"], loc =\"lower right\")\n",
    "plt.show()"
   ]
  },
  {
   "cell_type": "markdown",
   "id": "25da73b3-76c5-4016-8e14-5c06e208b7de",
   "metadata": {
    "jp-MarkdownHeadingCollapsed": true,
    "tags": []
   },
   "source": [
    "### BREAKOUT"
   ]
  },
  {
   "cell_type": "code",
   "execution_count": 173,
   "id": "da8af6b3-7c15-4db6-ad51-260371258013",
   "metadata": {
    "tags": []
   },
   "outputs": [],
   "source": [
    "DEFAULT_ENV_NAME = \"BreakoutNoFrameskip-v4\" \n",
    "MEAN_REWARD_BOUND = 100.0        \n",
    "MAX_FRAMES = 1_500_000\n",
    "\n",
    "gamma = 0.99                   \n",
    "batch_size = 32                \n",
    "replay_size = 10_000            \n",
    "learning_rate = 1e-4       \n",
    "sync_target_frames = 1_000      \n",
    "replay_start_size = 10_000      \n",
    "\n",
    "eps_start=1.0\n",
    "eps_decay=.9999975\n",
    "eps_min=0.1\n",
    "\n",
    "env = wrap_deepmind(make_atari(DEFAULT_ENV_NAME, 1000), optical=False)\n",
    "\n",
    "np.random.seed(2109);\n",
    "env.seed(2109);"
   ]
  },
  {
   "cell_type": "code",
   "execution_count": 174,
   "id": "07c27a65-0d4a-4b0d-9672-1783c41ba870",
   "metadata": {
    "tags": []
   },
   "outputs": [
    {
     "name": "stderr",
     "output_type": "stream",
     "text": [
      "  5%|███▌                                                                    | 75014/1499999 [11:34<4:27:03, 88.93it/s]"
     ]
    },
    {
     "name": "stdout",
     "output_type": "stream",
     "text": [
      "75000:  403 games, mean reward 1.320, (eps 0.83), time 0:11:30.870437\n"
     ]
    },
    {
     "name": "stderr",
     "output_type": "stream",
     "text": [
      " 10%|███████                                                                | 150011/1499999 [25:36<4:03:24, 92.44it/s]"
     ]
    },
    {
     "name": "stdout",
     "output_type": "stream",
     "text": [
      "150000:  813 games, mean reward 1.040, (eps 0.69), time 0:25:35.448142\n"
     ]
    },
    {
     "name": "stderr",
     "output_type": "stream",
     "text": [
      " 15%|██████████▋                                                            | 225010/1499999 [39:13<4:30:13, 78.64it/s]"
     ]
    },
    {
     "name": "stdout",
     "output_type": "stream",
     "text": [
      "225000:  1221 games, mean reward 1.450, (eps 0.57), time 0:39:12.893072\n"
     ]
    },
    {
     "name": "stderr",
     "output_type": "stream",
     "text": [
      " 20%|██████████████▏                                                        | 300020/1499999 [52:36<3:24:16, 97.91it/s]"
     ]
    },
    {
     "name": "stdout",
     "output_type": "stream",
     "text": [
      "300000:  1629 games, mean reward 1.160, (eps 0.47), time 0:52:35.454975\n"
     ]
    },
    {
     "name": "stderr",
     "output_type": "stream",
     "text": [
      " 25%|█████████████████▎                                                   | 375020/1499999 [1:05:54<3:18:03, 94.66it/s]"
     ]
    },
    {
     "name": "stdout",
     "output_type": "stream",
     "text": [
      "375000:  2026 games, mean reward 1.150, (eps 0.39), time 1:05:54.305835\n"
     ]
    },
    {
     "name": "stderr",
     "output_type": "stream",
     "text": [
      " 30%|████████████████████▋                                                | 450010/1499999 [1:20:06<3:20:11, 87.41it/s]"
     ]
    },
    {
     "name": "stdout",
     "output_type": "stream",
     "text": [
      "450000:  2395 games, mean reward 1.600, (eps 0.32), time 1:20:04.809478\n"
     ]
    },
    {
     "name": "stderr",
     "output_type": "stream",
     "text": [
      " 35%|████████████████████████▏                                            | 525017/1499999 [1:34:31<3:00:31, 90.01it/s]"
     ]
    },
    {
     "name": "stdout",
     "output_type": "stream",
     "text": [
      "525000:  2764 games, mean reward 1.510, (eps 0.27), time 1:34:30.423756\n"
     ]
    },
    {
     "name": "stderr",
     "output_type": "stream",
     "text": [
      " 40%|███████████████████████████▌                                         | 600012/1499999 [1:49:14<3:02:26, 82.22it/s]"
     ]
    },
    {
     "name": "stdout",
     "output_type": "stream",
     "text": [
      "600000:  3123 games, mean reward 1.230, (eps 0.22), time 1:49:14.659833\n"
     ]
    },
    {
     "name": "stderr",
     "output_type": "stream",
     "text": [
      " 45%|███████████████████████████████                                      | 675017/1499999 [2:03:41<2:29:49, 91.77it/s]"
     ]
    },
    {
     "name": "stdout",
     "output_type": "stream",
     "text": [
      "675000:  3468 games, mean reward 1.240, (eps 0.18), time 2:03:41.038009\n"
     ]
    },
    {
     "name": "stderr",
     "output_type": "stream",
     "text": [
      " 50%|██████████████████████████████████▌                                  | 750017/1499999 [2:18:12<2:18:17, 90.39it/s]"
     ]
    },
    {
     "name": "stdout",
     "output_type": "stream",
     "text": [
      "750000:  3825 games, mean reward 1.540, (eps 0.15), time 2:18:10.224532\n"
     ]
    },
    {
     "name": "stderr",
     "output_type": "stream",
     "text": [
      " 55%|█████████████████████████████████████▉                               | 825018/1499999 [2:32:31<2:14:24, 83.70it/s]"
     ]
    },
    {
     "name": "stdout",
     "output_type": "stream",
     "text": [
      "825000:  4129 games, mean reward 1.450, (eps 0.13), time 2:32:30.423527\n"
     ]
    },
    {
     "name": "stderr",
     "output_type": "stream",
     "text": [
      " 60%|█████████████████████████████████████████▍                           | 900017/1499999 [2:46:45<1:52:31, 88.87it/s]"
     ]
    },
    {
     "name": "stdout",
     "output_type": "stream",
     "text": [
      "900000:  4451 games, mean reward 1.570, (eps 0.11), time 2:46:44.227086\n"
     ]
    },
    {
     "name": "stderr",
     "output_type": "stream",
     "text": [
      " 65%|████████████████████████████████████████████▊                        | 975014/1499999 [3:00:54<1:38:51, 88.51it/s]"
     ]
    },
    {
     "name": "stdout",
     "output_type": "stream",
     "text": [
      "975000:  4771 games, mean reward 1.410, (eps 0.10), time 3:00:53.612860\n"
     ]
    },
    {
     "name": "stderr",
     "output_type": "stream",
     "text": [
      " 70%|███████████████████████████████████████████████▌                    | 1050011/1499999 [3:15:00<1:24:17, 88.97it/s]"
     ]
    },
    {
     "name": "stdout",
     "output_type": "stream",
     "text": [
      "1050000:  5087 games, mean reward 1.190, (eps 0.10), time 3:14:59.739079\n"
     ]
    },
    {
     "name": "stderr",
     "output_type": "stream",
     "text": [
      " 75%|███████████████████████████████████████████████████                 | 1125017/1499999 [3:29:06<1:10:13, 89.00it/s]"
     ]
    },
    {
     "name": "stdout",
     "output_type": "stream",
     "text": [
      "1125000:  5405 games, mean reward 1.560, (eps 0.10), time 3:29:05.565307\n"
     ]
    },
    {
     "name": "stderr",
     "output_type": "stream",
     "text": [
      " 80%|████████████████████████████████████████████████████████              | 1200014/1499999 [3:43:08<56:33, 88.41it/s]"
     ]
    },
    {
     "name": "stdout",
     "output_type": "stream",
     "text": [
      "1200000:  5699 games, mean reward 1.410, (eps 0.10), time 3:43:07.682746\n"
     ]
    },
    {
     "name": "stderr",
     "output_type": "stream",
     "text": [
      " 85%|███████████████████████████████████████████████████████████▌          | 1275014/1499999 [3:57:12<41:47, 89.71it/s]"
     ]
    },
    {
     "name": "stdout",
     "output_type": "stream",
     "text": [
      "1275000:  6015 games, mean reward 1.440, (eps 0.10), time 3:57:10.324094\n"
     ]
    },
    {
     "name": "stderr",
     "output_type": "stream",
     "text": [
      " 90%|███████████████████████████████████████████████████████████████       | 1350010/1499999 [4:11:17<27:17, 91.59it/s]"
     ]
    },
    {
     "name": "stdout",
     "output_type": "stream",
     "text": [
      "1350000:  6301 games, mean reward 1.480, (eps 0.10), time 4:11:16.587377\n"
     ]
    },
    {
     "name": "stderr",
     "output_type": "stream",
     "text": [
      " 95%|██████████████████████████████████████████████████████████████████▌   | 1425013/1499999 [4:25:19<13:21, 93.62it/s]"
     ]
    },
    {
     "name": "stdout",
     "output_type": "stream",
     "text": [
      "1425000:  6593 games, mean reward 1.820, (eps 0.10), time 4:25:18.186165\n"
     ]
    },
    {
     "name": "stderr",
     "output_type": "stream",
     "text": [
      "100%|██████████████████████████████████████████████████████████████████████| 1499999/1499999 [4:39:19<00:00, 89.50it/s]"
     ]
    },
    {
     "name": "stdout",
     "output_type": "stream",
     "text": [
      "Traning finished\n",
      "1499999:  6881 games, mean reward 1.610, (eps 0.10), time 4:39:18.332338\n"
     ]
    },
    {
     "name": "stderr",
     "output_type": "stream",
     "text": [
      "\n"
     ]
    }
   ],
   "source": [
    "rewards1_breakout = train_func(env, DEFAULT_ENV_NAME, False, MEAN_REWARD_BOUND, MAX_FRAMES, gamma, batch_size, replay_size, learning_rate, sync_target_frames, replay_start_size, eps_start, eps_decay, eps_min, device)"
   ]
  },
  {
   "cell_type": "code",
   "execution_count": 179,
   "id": "ef1c7243-ccf0-490c-9513-88dd8777c0b8",
   "metadata": {},
   "outputs": [
    {
     "name": "stdout",
     "output_type": "stream",
     "text": [
      "Total reward: 0.00\n"
     ]
    }
   ],
   "source": [
    "# Video Breakout\n",
    "make_video(DEFAULT_ENV_NAME, False)"
   ]
  },
  {
   "cell_type": "code",
   "execution_count": 183,
   "id": "e5e6b770-1fd6-46e8-8863-c28421c86c3d",
   "metadata": {},
   "outputs": [
    {
     "data": {
      "text/plain": [
       "array([0., 0., 0., 0., 0., 0., 0., 0., 0., 0., 0., 0., 0., 0., 0., 0., 0.,\n",
       "       0., 0., 0.])"
      ]
     },
     "execution_count": 183,
     "metadata": {},
     "output_type": "execute_result"
    }
   ],
   "source": [
    "np.random.seed(2109)\n",
    "env.seed(2109)\n",
    "sample_breakout = sample(DEFAULT_ENV_NAME, 20, False)\n",
    "sample_breakout"
   ]
  },
  {
   "cell_type": "markdown",
   "id": "d70a667b-ce80-4f4e-b18e-70c3e3736c61",
   "metadata": {},
   "source": [
    "#### Optical Flow"
   ]
  },
  {
   "cell_type": "code",
   "execution_count": 184,
   "id": "24287b0b-13e5-4af0-986b-ad7a8b5fa337",
   "metadata": {},
   "outputs": [],
   "source": [
    "DEFAULT_ENV_NAME = \"BreakoutNoFrameskip-v4\" \n",
    "MEAN_REWARD_BOUND = 100.0        \n",
    "MAX_FRAMES = 1_500_000\n",
    "\n",
    "gamma = 0.99                   \n",
    "batch_size = 32                \n",
    "replay_size = 10_000            \n",
    "learning_rate = 1e-4       \n",
    "sync_target_frames = 1_000      \n",
    "replay_start_size = 10_000      \n",
    "\n",
    "eps_start=1.0\n",
    "eps_decay=.9999975\n",
    "eps_min=0.1\n",
    "\n",
    "env = wrap_deepmind(make_atari(DEFAULT_ENV_NAME, 1000), optical=True)\n",
    "\n",
    "np.random.seed(2109);\n",
    "env.seed(2109);"
   ]
  },
  {
   "cell_type": "code",
   "execution_count": 185,
   "id": "9b982ec6-f226-43ff-9502-7a51ab582382",
   "metadata": {},
   "outputs": [
    {
     "name": "stderr",
     "output_type": "stream",
     "text": [
      "  5%|███▌                                                                    | 75014/1499999 [16:50<6:05:39, 64.95it/s]"
     ]
    },
    {
     "name": "stdout",
     "output_type": "stream",
     "text": [
      "75000:  409 games, mean reward 1.150, (eps 0.83), time 0:16:48.804932\n"
     ]
    },
    {
     "name": "stderr",
     "output_type": "stream",
     "text": [
      " 10%|███████                                                                | 150009/1499999 [36:28<5:46:12, 64.99it/s]"
     ]
    },
    {
     "name": "stdout",
     "output_type": "stream",
     "text": [
      "150000:  821 games, mean reward 1.270, (eps 0.69), time 0:36:26.185082\n"
     ]
    },
    {
     "name": "stderr",
     "output_type": "stream",
     "text": [
      " 15%|██████████▋                                                            | 225006/1499999 [56:23<5:42:08, 62.11it/s]"
     ]
    },
    {
     "name": "stdout",
     "output_type": "stream",
     "text": [
      "225000:  1236 games, mean reward 1.220, (eps 0.57), time 0:56:22.403565\n"
     ]
    },
    {
     "name": "stderr",
     "output_type": "stream",
     "text": [
      " 20%|█████████████▊                                                       | 300006/1499999 [1:16:43<5:23:44, 61.78it/s]"
     ]
    },
    {
     "name": "stdout",
     "output_type": "stream",
     "text": [
      "300000:  1644 games, mean reward 1.020, (eps 0.47), time 1:16:41.960786\n"
     ]
    },
    {
     "name": "stderr",
     "output_type": "stream",
     "text": [
      " 25%|█████████████████▎                                                   | 375009/1499999 [1:37:24<5:18:04, 58.95it/s]"
     ]
    },
    {
     "name": "stdout",
     "output_type": "stream",
     "text": [
      "375000:  2048 games, mean reward 0.740, (eps 0.39), time 1:37:23.642974\n"
     ]
    },
    {
     "name": "stderr",
     "output_type": "stream",
     "text": [
      " 30%|████████████████████▋                                                | 450008/1499999 [1:58:26<4:59:15, 58.48it/s]"
     ]
    },
    {
     "name": "stdout",
     "output_type": "stream",
     "text": [
      "450000:  2450 games, mean reward 0.970, (eps 0.32), time 1:58:25.310966\n"
     ]
    },
    {
     "name": "stderr",
     "output_type": "stream",
     "text": [
      " 35%|████████████████████████▏                                            | 525006/1499999 [2:19:43<4:33:52, 59.33it/s]"
     ]
    },
    {
     "name": "stdout",
     "output_type": "stream",
     "text": [
      "525000:  2821 games, mean reward 1.030, (eps 0.27), time 2:19:43.097588\n"
     ]
    },
    {
     "name": "stderr",
     "output_type": "stream",
     "text": [
      " 40%|███████████████████████████▌                                         | 600009/1499999 [2:41:17<4:30:32, 55.44it/s]"
     ]
    },
    {
     "name": "stdout",
     "output_type": "stream",
     "text": [
      "600000:  3180 games, mean reward 1.190, (eps 0.22), time 2:41:16.404434\n"
     ]
    },
    {
     "name": "stderr",
     "output_type": "stream",
     "text": [
      " 45%|███████████████████████████████                                      | 675011/1499999 [3:03:02<3:50:17, 59.71it/s]"
     ]
    },
    {
     "name": "stdout",
     "output_type": "stream",
     "text": [
      "675000:  3512 games, mean reward 1.330, (eps 0.18), time 3:02:59.586809\n"
     ]
    },
    {
     "name": "stderr",
     "output_type": "stream",
     "text": [
      " 50%|██████████████████████████████████▌                                  | 750012/1499999 [3:24:51<3:31:14, 59.17it/s]"
     ]
    },
    {
     "name": "stdout",
     "output_type": "stream",
     "text": [
      "750000:  3832 games, mean reward 1.400, (eps 0.15), time 3:24:50.689469\n"
     ]
    },
    {
     "name": "stderr",
     "output_type": "stream",
     "text": [
      " 55%|█████████████████████████████████████▉                               | 825006/1499999 [3:46:51<3:15:20, 57.59it/s]"
     ]
    },
    {
     "name": "stdout",
     "output_type": "stream",
     "text": [
      "825000:  4148 games, mean reward 1.380, (eps 0.13), time 3:46:49.056415\n"
     ]
    },
    {
     "name": "stderr",
     "output_type": "stream",
     "text": [
      " 60%|█████████████████████████████████████████▍                           | 900012/1499999 [4:08:47<2:56:48, 56.56it/s]"
     ]
    },
    {
     "name": "stdout",
     "output_type": "stream",
     "text": [
      "900000:  4434 games, mean reward 1.710, (eps 0.11), time 4:08:42.358749\n"
     ]
    },
    {
     "name": "stderr",
     "output_type": "stream",
     "text": [
      " 65%|████████████████████████████████████████████▊                        | 975007/1499999 [4:31:45<2:43:11, 53.61it/s]"
     ]
    },
    {
     "name": "stdout",
     "output_type": "stream",
     "text": [
      "975000:  4698 games, mean reward 1.700, (eps 0.10), time 4:31:37.966415\n"
     ]
    },
    {
     "name": "stderr",
     "output_type": "stream",
     "text": [
      " 70%|███████████████████████████████████████████████▌                    | 1050004/1499999 [4:54:57<2:23:43, 52.18it/s]"
     ]
    },
    {
     "name": "stdout",
     "output_type": "stream",
     "text": [
      "1050000:  4960 games, mean reward 1.550, (eps 0.10), time 4:54:54.943935\n"
     ]
    },
    {
     "name": "stderr",
     "output_type": "stream",
     "text": [
      " 75%|███████████████████████████████████████████████████                 | 1125011/1499999 [5:18:21<1:54:46, 54.46it/s]"
     ]
    },
    {
     "name": "stdout",
     "output_type": "stream",
     "text": [
      "1125000:  5242 games, mean reward 1.660, (eps 0.10), time 5:18:14.995640\n"
     ]
    },
    {
     "name": "stderr",
     "output_type": "stream",
     "text": [
      " 80%|██████████████████████████████████████████████████████▍             | 1200006/1499999 [5:42:09<1:32:12, 54.23it/s]"
     ]
    },
    {
     "name": "stdout",
     "output_type": "stream",
     "text": [
      "1200000:  5497 games, mean reward 2.110, (eps 0.10), time 5:42:05.925808\n"
     ]
    },
    {
     "name": "stderr",
     "output_type": "stream",
     "text": [
      " 85%|█████████████████████████████████████████████████████████▊          | 1275007/1499999 [6:05:03<1:08:22, 54.85it/s]"
     ]
    },
    {
     "name": "stdout",
     "output_type": "stream",
     "text": [
      "1275000:  5761 games, mean reward 1.530, (eps 0.10), time 6:04:57.562735\n"
     ]
    },
    {
     "name": "stderr",
     "output_type": "stream",
     "text": [
      " 90%|███████████████████████████████████████████████████████████████       | 1350009/1499999 [6:27:45<43:36, 57.32it/s]"
     ]
    },
    {
     "name": "stdout",
     "output_type": "stream",
     "text": [
      "1350000:  6029 games, mean reward 1.560, (eps 0.10), time 6:27:43.952228\n"
     ]
    },
    {
     "name": "stderr",
     "output_type": "stream",
     "text": [
      " 95%|██████████████████████████████████████████████████████████████████▌   | 1425009/1499999 [6:51:36<24:18, 51.40it/s]"
     ]
    },
    {
     "name": "stdout",
     "output_type": "stream",
     "text": [
      "1425000:  6330 games, mean reward 1.950, (eps 0.10), time 6:51:34.297069\n"
     ]
    },
    {
     "name": "stderr",
     "output_type": "stream",
     "text": [
      "100%|██████████████████████████████████████████████████████████████████████| 1499999/1499999 [7:17:17<00:00, 57.17it/s]\n"
     ]
    },
    {
     "name": "stdout",
     "output_type": "stream",
     "text": [
      "Traning finished\n",
      "1499999:  6644 games, mean reward 1.920, (eps 0.10), time 7:17:15.938740\n"
     ]
    }
   ],
   "source": [
    "rewards1_breakout_opt = train_func(env, DEFAULT_ENV_NAME, True, MEAN_REWARD_BOUND, MAX_FRAMES, gamma, batch_size, replay_size, learning_rate, sync_target_frames, replay_start_size, eps_start, eps_decay, eps_min, device)"
   ]
  },
  {
   "cell_type": "code",
   "execution_count": 186,
   "id": "7a1df113-0ec2-4eb6-89a4-0e83d29eb1df",
   "metadata": {},
   "outputs": [
    {
     "name": "stdout",
     "output_type": "stream",
     "text": [
      "70, reward 1.0\n",
      "Total reward: 1.00\n"
     ]
    }
   ],
   "source": [
    "# Video Breakout\n",
    "np.random.seed(2109)\n",
    "env.seed(2109)\n",
    "make_video(DEFAULT_ENV_NAME, True)"
   ]
  },
  {
   "cell_type": "code",
   "execution_count": 187,
   "id": "ab64e814-e465-40f7-8f8a-19191ba57689",
   "metadata": {},
   "outputs": [
    {
     "data": {
      "text/plain": [
       "array([5., 0., 1., 0., 5., 0., 1., 0., 1., 1., 0., 1., 1., 0., 0., 1., 5.,\n",
       "       1., 1., 1.])"
      ]
     },
     "execution_count": 187,
     "metadata": {},
     "output_type": "execute_result"
    }
   ],
   "source": [
    "np.random.seed(2109)\n",
    "env.seed(2109)\n",
    "sample_breakout_opt = sample(DEFAULT_ENV_NAME, 20, True)\n",
    "sample_breakout_opt"
   ]
  },
  {
   "cell_type": "code",
   "execution_count": 243,
   "id": "debff6f4-4dab-4697-a7f9-8b14308a2d55",
   "metadata": {},
   "outputs": [
    {
     "data": {
      "text/plain": [
       "1.25"
      ]
     },
     "execution_count": 243,
     "metadata": {},
     "output_type": "execute_result"
    }
   ],
   "source": [
    "np.mean(sample_breakout_opt)"
   ]
  },
  {
   "cell_type": "code",
   "execution_count": 188,
   "id": "2748fe45-8150-4e9d-a6dd-212a073239e6",
   "metadata": {},
   "outputs": [
    {
     "data": {
      "text/plain": [
       "RanksumsResult(statistic=-3.5165115752029856, pvalue=0.0004372575927067331)"
      ]
     },
     "execution_count": 188,
     "metadata": {},
     "output_type": "execute_result"
    }
   ],
   "source": [
    "ranksums(sample_breakout, sample_breakout_opt)"
   ]
  },
  {
   "cell_type": "markdown",
   "id": "d2c7e08b-7d89-4e97-8d3c-374d84516a42",
   "metadata": {},
   "source": [
    "Vemos que el p-value es menor a 0.5, de modo que podemos asumir que las distribuciones diferentes y ya que el modelo con flujo óptico obtiene mejores resultados, también asumimos que es el mejor de ambos."
   ]
  },
  {
   "cell_type": "code",
   "execution_count": 234,
   "id": "ac0ae51d-0182-4c6f-8398-be5672d98cb9",
   "metadata": {},
   "outputs": [],
   "source": [
    "cumsum_opt = np.cumsum(np.insert(rewards1_breakout_opt, 0, 0)) \n",
    "opt_vec = (cumsum_opt[100:] - cumsum_opt[:-100]) / 100"
   ]
  },
  {
   "cell_type": "code",
   "execution_count": 235,
   "id": "110b0676-b77f-4aaf-84f9-1ecb3f30c0b6",
   "metadata": {},
   "outputs": [],
   "source": [
    "cumsum = np.cumsum(np.insert(rewards1_breakout, 0, 0)) \n",
    "vec = (cumsum[100:] - cumsum[:-100]) / 100"
   ]
  },
  {
   "cell_type": "code",
   "execution_count": 236,
   "id": "8829c2a9-7070-431e-ace6-f1ec882a17ca",
   "metadata": {},
   "outputs": [
    {
     "data": {
      "image/png": "[encoded data removed]",
      "text/plain": [
       "<Figure size 640x480 with 1 Axes>"
      ]
     },
     "metadata": {},
     "output_type": "display_data"
    }
   ],
   "source": [
    "plt.plot(opt_vec)\n",
    "plt.plot(vec)\n",
    "plt.title('1,500,000 frames Breakout')\n",
    "plt.xlabel('Games played')\n",
    "plt.ylabel('Average reward in the last 100 games')\n",
    "plt.legend([\"Optical\", \"DQN\"], loc =\"lower right\")\n",
    "plt.show()"
   ]
  },
  {
   "cell_type": "markdown",
   "id": "0a231149-4e9c-4b53-86a3-f69c309d20c9",
   "metadata": {
    "jp-MarkdownHeadingCollapsed": true,
    "tags": []
   },
   "source": [
    "### SPACE INVADERS"
   ]
  },
  {
   "cell_type": "code",
   "execution_count": 164,
   "id": "90de5b7d-4ef3-44e2-8478-b5338800c409",
   "metadata": {},
   "outputs": [],
   "source": [
    "DEFAULT_ENV_NAME = \"SpaceInvadersNoFrameskip-v4\" \n",
    "MEAN_REWARD_BOUND = 2000.0        \n",
    "MAX_FRAMES = 2_000_000\n",
    "\n",
    "gamma = 0.99                   \n",
    "batch_size = 32                \n",
    "replay_size = 10_000            \n",
    "learning_rate = 1e-4       \n",
    "sync_target_frames = 1_000      \n",
    "replay_start_size = 10_000      \n",
    "\n",
    "eps_start=1.0\n",
    "eps_decay=.9999975\n",
    "eps_min=0.1\n",
    "\n",
    "env = wrap_deepmind(make_atari(DEFAULT_ENV_NAME, 1000), optical=False)\n",
    "\n",
    "np.random.seed(2109);\n",
    "env.seed(2109);"
   ]
  },
  {
   "cell_type": "code",
   "execution_count": 161,
   "id": "4dc7d9d3-4006-4e5d-befb-b3f40c1901e5",
   "metadata": {
    "tags": []
   },
   "outputs": [
    {
     "name": "stderr",
     "output_type": "stream",
     "text": [
      "  5%|███▌                                                                  | 100014/1999999 [15:28<5:12:21, 101.38it/s]"
     ]
    },
    {
     "name": "stdout",
     "output_type": "stream",
     "text": [
      "100000:  201 games, mean reward 142.150, (eps 0.78), time 0:15:23.819900\n"
     ]
    },
    {
     "name": "stderr",
     "output_type": "stream",
     "text": [
      " 10%|███████                                                                | 200016/1999999 [33:07<5:03:32, 98.83it/s]"
     ]
    },
    {
     "name": "stdout",
     "output_type": "stream",
     "text": [
      "200000:  396 games, mean reward 147.450, (eps 0.61), time 0:33:03.185206\n"
     ]
    },
    {
     "name": "stderr",
     "output_type": "stream",
     "text": [
      " 15%|██████████▋                                                            | 300017/1999999 [50:24<5:02:53, 93.54it/s]"
     ]
    },
    {
     "name": "stdout",
     "output_type": "stream",
     "text": [
      "300000:  584 games, mean reward 176.200, (eps 0.47), time 0:50:21.196834\n"
     ]
    },
    {
     "name": "stderr",
     "output_type": "stream",
     "text": [
      " 20%|█████████████▊                                                       | 400012/1999999 [1:08:03<4:38:47, 95.65it/s]"
     ]
    },
    {
     "name": "stdout",
     "output_type": "stream",
     "text": [
      "400000:  762 games, mean reward 169.400, (eps 0.37), time 1:08:02.122952\n"
     ]
    },
    {
     "name": "stderr",
     "output_type": "stream",
     "text": [
      " 25%|█████████████████▎                                                   | 500012/1999999 [1:26:01<4:28:04, 93.25it/s]"
     ]
    },
    {
     "name": "stdout",
     "output_type": "stream",
     "text": [
      "500000:  930 games, mean reward 191.950, (eps 0.29), time 1:25:59.983299\n"
     ]
    },
    {
     "name": "stderr",
     "output_type": "stream",
     "text": [
      " 30%|████████████████████▋                                                | 600016/1999999 [1:44:13<4:13:30, 92.04it/s]"
     ]
    },
    {
     "name": "stdout",
     "output_type": "stream",
     "text": [
      "600000:  1103 games, mean reward 178.000, (eps 0.22), time 1:44:12.703207\n"
     ]
    },
    {
     "name": "stderr",
     "output_type": "stream",
     "text": [
      " 35%|████████████████████████▏                                            | 700010/1999999 [2:02:38<3:56:40, 91.55it/s]"
     ]
    },
    {
     "name": "stdout",
     "output_type": "stream",
     "text": [
      "700000:  1271 games, mean reward 171.250, (eps 0.17), time 2:02:38.158585\n"
     ]
    },
    {
     "name": "stderr",
     "output_type": "stream",
     "text": [
      " 40%|███████████████████████████▌                                         | 800016/1999999 [2:21:13<3:39:20, 91.18it/s]"
     ]
    },
    {
     "name": "stdout",
     "output_type": "stream",
     "text": [
      "800000:  1432 games, mean reward 196.850, (eps 0.14), time 2:21:07.047669\n"
     ]
    },
    {
     "name": "stderr",
     "output_type": "stream",
     "text": [
      " 45%|███████████████████████████████                                      | 900016/1999999 [2:39:57<3:20:33, 91.41it/s]"
     ]
    },
    {
     "name": "stdout",
     "output_type": "stream",
     "text": [
      "900000:  1594 games, mean reward 202.950, (eps 0.11), time 2:39:54.083398\n"
     ]
    },
    {
     "name": "stderr",
     "output_type": "stream",
     "text": [
      " 50%|██████████████████████████████████                                  | 1000006/1999999 [2:59:31<3:00:40, 92.25it/s]"
     ]
    },
    {
     "name": "stdout",
     "output_type": "stream",
     "text": [
      "1000000:  1747 games, mean reward 220.400, (eps 0.10), time 2:59:26.900205\n"
     ]
    },
    {
     "name": "stderr",
     "output_type": "stream",
     "text": [
      " 55%|█████████████████████████████████████▍                              | 1100017/1999999 [3:18:03<2:44:51, 90.98it/s]"
     ]
    },
    {
     "name": "stdout",
     "output_type": "stream",
     "text": [
      "1100000:  1909 games, mean reward 205.650, (eps 0.10), time 3:17:59.062099\n"
     ]
    },
    {
     "name": "stderr",
     "output_type": "stream",
     "text": [
      " 60%|████████████████████████████████████████▊                           | 1200006/1999999 [3:36:29<2:26:58, 90.72it/s]"
     ]
    },
    {
     "name": "stdout",
     "output_type": "stream",
     "text": [
      "1200000:  2078 games, mean reward 185.300, (eps 0.10), time 3:36:28.143920\n"
     ]
    },
    {
     "name": "stderr",
     "output_type": "stream",
     "text": [
      " 65%|████████████████████████████████████████████▏                       | 1300012/1999999 [3:54:58<2:11:30, 88.72it/s]"
     ]
    },
    {
     "name": "stdout",
     "output_type": "stream",
     "text": [
      "1300000:  2238 games, mean reward 206.400, (eps 0.10), time 3:54:49.044749\n"
     ]
    },
    {
     "name": "stderr",
     "output_type": "stream",
     "text": [
      " 70%|███████████████████████████████████████████████▌                    | 1400009/1999999 [4:13:26<1:53:15, 88.29it/s]"
     ]
    },
    {
     "name": "stdout",
     "output_type": "stream",
     "text": [
      "1400000:  2393 games, mean reward 231.950, (eps 0.10), time 4:13:25.763219\n"
     ]
    },
    {
     "name": "stderr",
     "output_type": "stream",
     "text": [
      " 75%|███████████████████████████████████████████████████                 | 1500008/1999999 [4:31:53<1:33:55, 88.72it/s]"
     ]
    },
    {
     "name": "stdout",
     "output_type": "stream",
     "text": [
      "1500000:  2550 games, mean reward 222.050, (eps 0.10), time 4:31:52.354623\n"
     ]
    },
    {
     "name": "stderr",
     "output_type": "stream",
     "text": [
      " 80%|██████████████████████████████████████████████████████▍             | 1600008/1999999 [4:50:30<1:14:49, 89.10it/s]"
     ]
    },
    {
     "name": "stdout",
     "output_type": "stream",
     "text": [
      "1600000:  2702 games, mean reward 210.750, (eps 0.10), time 4:50:23.918163\n"
     ]
    },
    {
     "name": "stderr",
     "output_type": "stream",
     "text": [
      " 85%|███████████████████████████████████████████████████████████▌          | 1700018/1999999 [5:09:11<53:45, 92.99it/s]"
     ]
    },
    {
     "name": "stdout",
     "output_type": "stream",
     "text": [
      "1700000:  2866 games, mean reward 178.200, (eps 0.10), time 5:09:10.794276\n"
     ]
    },
    {
     "name": "stderr",
     "output_type": "stream",
     "text": [
      " 90%|███████████████████████████████████████████████████████████████       | 1800019/1999999 [5:27:59<37:31, 88.82it/s]"
     ]
    },
    {
     "name": "stdout",
     "output_type": "stream",
     "text": [
      "1800000:  3019 games, mean reward 207.050, (eps 0.10), time 5:27:58.016017\n"
     ]
    },
    {
     "name": "stderr",
     "output_type": "stream",
     "text": [
      " 95%|██████████████████████████████████████████████████████████████████▌   | 1900014/1999999 [5:46:18<19:06, 87.24it/s]"
     ]
    },
    {
     "name": "stdout",
     "output_type": "stream",
     "text": [
      "1900000:  3173 games, mean reward 235.550, (eps 0.10), time 5:46:16.567943\n"
     ]
    },
    {
     "name": "stderr",
     "output_type": "stream",
     "text": [
      "100%|██████████████████████████████████████████████████████████████████████| 1999999/1999999 [6:05:02<00:00, 91.31it/s]"
     ]
    },
    {
     "name": "stdout",
     "output_type": "stream",
     "text": [
      "Traning finished\n",
      "1999999:  3324 games, mean reward 217.950, (eps 0.10), time 6:04:58.882216\n"
     ]
    },
    {
     "name": "stderr",
     "output_type": "stream",
     "text": [
      "\n"
     ]
    }
   ],
   "source": [
    "rewards1_invaders = train_func(env, DEFAULT_ENV_NAME, False, MEAN_REWARD_BOUND, MAX_FRAMES, gamma, batch_size, replay_size, learning_rate, sync_target_frames, replay_start_size, eps_start, eps_decay, eps_min, device)"
   ]
  },
  {
   "cell_type": "code",
   "execution_count": 165,
   "id": "baefccc9-0559-47ce-b827-a5821ae12ad3",
   "metadata": {},
   "outputs": [
    {
     "name": "stdout",
     "output_type": "stream",
     "text": [
      "93, reward 5.0\n",
      "101, reward 10.0\n",
      "113, reward 15.0\n",
      "126, reward 20.0\n",
      "142, reward 25.0\n",
      "159, reward 30.0\n",
      "494, reward 5.0\n",
      "502, reward 10.0\n",
      "512, reward 15.0\n",
      "524, reward 20.0\n",
      "538, reward 25.0\n",
      "555, reward 30.0\n",
      "660, reward 15.0\n",
      "665, reward 5.0\n",
      "672, reward 10.0\n",
      "684, reward 20.0\n",
      "698, reward 25.0\n",
      "Total reward: 285.00\n"
     ]
    }
   ],
   "source": [
    "# Video Space Invaders\n",
    "make_video(DEFAULT_ENV_NAME, False)"
   ]
  },
  {
   "cell_type": "code",
   "execution_count": 166,
   "id": "0bc67988-813b-4736-88bc-defeab149871",
   "metadata": {},
   "outputs": [
    {
     "data": {
      "text/plain": [
       "array([285., 285., 285., 285., 285., 285., 285., 285., 285., 285., 285.,\n",
       "       285., 285., 285., 285., 285., 285., 285., 285., 285.])"
      ]
     },
     "execution_count": 166,
     "metadata": {},
     "output_type": "execute_result"
    }
   ],
   "source": [
    "np.random.seed(2109)\n",
    "env.seed(2109)\n",
    "sample_invaders = sample(DEFAULT_ENV_NAME, 20, False)\n",
    "sample_invaders"
   ]
  },
  {
   "cell_type": "markdown",
   "id": "94cc3842-5168-4e94-83fe-f1f93a99155b",
   "metadata": {},
   "source": [
    "#### Optical Flow"
   ]
  },
  {
   "cell_type": "code",
   "execution_count": 115,
   "id": "2eabbae5-31d7-48fe-adfe-21d18cc6deec",
   "metadata": {},
   "outputs": [],
   "source": [
    "DEFAULT_ENV_NAME = \"SpaceInvadersNoFrameskip-v4\" \n",
    "MEAN_REWARD_BOUND = 2_000.0        \n",
    "MAX_FRAMES = 2_000_000\n",
    "\n",
    "gamma = 0.99                   \n",
    "batch_size = 32                \n",
    "replay_size = 10_000            \n",
    "learning_rate = 1e-4  \n",
    "sync_target_frames = 1_000      \n",
    "replay_start_size = 10_000      \n",
    "\n",
    "eps_start = 1.0\n",
    "eps_decay = 0.9999975\n",
    "eps_min = 0.02\n",
    "\n",
    "env = wrap_deepmind(make_atari(DEFAULT_ENV_NAME, 1000), optical=True)\n",
    "\n",
    "np.random.seed(2109);\n",
    "env.seed(2109);"
   ]
  },
  {
   "cell_type": "code",
   "execution_count": 116,
   "id": "4cf58627-f13d-4cbe-8bdf-9786b92a5e7d",
   "metadata": {},
   "outputs": [
    {
     "name": "stderr",
     "output_type": "stream",
     "text": [
      "  5%|███▌                                                                   | 100008/1999999 [23:12<8:07:49, 64.91it/s]"
     ]
    },
    {
     "name": "stdout",
     "output_type": "stream",
     "text": [
      "100000:  191 games, mean reward 154.450, (eps 0.78), time 0:23:01.252446\n"
     ]
    },
    {
     "name": "stderr",
     "output_type": "stream",
     "text": [
      " 10%|███████                                                                | 200007/1999999 [50:01<7:59:41, 62.54it/s]"
     ]
    },
    {
     "name": "stdout",
     "output_type": "stream",
     "text": [
      "200000:  389 games, mean reward 132.600, (eps 0.61), time 0:49:46.877463\n"
     ]
    },
    {
     "name": "stderr",
     "output_type": "stream",
     "text": [
      " 15%|██████████▎                                                          | 300011/1999999 [1:17:31<8:07:06, 58.17it/s]"
     ]
    },
    {
     "name": "stdout",
     "output_type": "stream",
     "text": [
      "300000:  586 games, mean reward 168.200, (eps 0.47), time 1:17:19.935033\n"
     ]
    },
    {
     "name": "stderr",
     "output_type": "stream",
     "text": [
      " 20%|█████████████▊                                                       | 400006/1999999 [1:45:05<7:21:36, 60.38it/s]"
     ]
    },
    {
     "name": "stdout",
     "output_type": "stream",
     "text": [
      "400000:  783 games, mean reward 155.400, (eps 0.37), time 1:45:04.286527\n"
     ]
    },
    {
     "name": "stderr",
     "output_type": "stream",
     "text": [
      " 25%|█████████████████▎                                                   | 500006/1999999 [2:12:22<6:52:56, 60.54it/s]"
     ]
    },
    {
     "name": "stdout",
     "output_type": "stream",
     "text": [
      "500000:  973 games, mean reward 153.150, (eps 0.29), time 2:12:17.640237\n"
     ]
    },
    {
     "name": "stderr",
     "output_type": "stream",
     "text": [
      " 30%|████████████████████▋                                                | 600010/1999999 [2:40:14<6:38:17, 58.58it/s]"
     ]
    },
    {
     "name": "stdout",
     "output_type": "stream",
     "text": [
      "600000:  1169 games, mean reward 149.100, (eps 0.22), time 2:40:12.646466\n"
     ]
    },
    {
     "name": "stderr",
     "output_type": "stream",
     "text": [
      " 35%|████████████████████████▏                                            | 700007/1999999 [3:08:30<6:09:07, 58.70it/s]"
     ]
    },
    {
     "name": "stdout",
     "output_type": "stream",
     "text": [
      "700000:  1360 games, mean reward 157.600, (eps 0.17), time 3:08:22.574400\n"
     ]
    },
    {
     "name": "stderr",
     "output_type": "stream",
     "text": [
      " 40%|███████████████████████████▌                                         | 800010/1999999 [3:37:07<5:49:26, 57.23it/s]"
     ]
    },
    {
     "name": "stdout",
     "output_type": "stream",
     "text": [
      "800000:  1554 games, mean reward 162.800, (eps 0.14), time 3:37:07.355290\n"
     ]
    },
    {
     "name": "stderr",
     "output_type": "stream",
     "text": [
      " 45%|███████████████████████████████                                      | 900007/1999999 [4:06:04<5:32:56, 55.06it/s]"
     ]
    },
    {
     "name": "stdout",
     "output_type": "stream",
     "text": [
      "900000:  1746 games, mean reward 156.900, (eps 0.11), time 4:06:00.676691\n"
     ]
    },
    {
     "name": "stderr",
     "output_type": "stream",
     "text": [
      " 50%|██████████████████████████████████                                  | 1000007/1999999 [4:35:07<4:51:03, 57.26it/s]"
     ]
    },
    {
     "name": "stdout",
     "output_type": "stream",
     "text": [
      "1000000:  1940 games, mean reward 157.300, (eps 0.08), time 4:34:58.378983\n"
     ]
    },
    {
     "name": "stderr",
     "output_type": "stream",
     "text": [
      " 55%|█████████████████████████████████████▍                              | 1100006/1999999 [5:04:06<4:25:23, 56.52it/s]"
     ]
    },
    {
     "name": "stdout",
     "output_type": "stream",
     "text": [
      "1100000:  2133 games, mean reward 182.200, (eps 0.06), time 5:04:02.954540\n"
     ]
    },
    {
     "name": "stderr",
     "output_type": "stream",
     "text": [
      " 60%|████████████████████████████████████████▊                           | 1200008/1999999 [5:33:40<3:52:02, 57.46it/s]"
     ]
    },
    {
     "name": "stdout",
     "output_type": "stream",
     "text": [
      "1200000:  2315 games, mean reward 180.500, (eps 0.05), time 5:33:39.985131\n"
     ]
    },
    {
     "name": "stderr",
     "output_type": "stream",
     "text": [
      " 65%|████████████████████████████████████████████▏                       | 1300008/1999999 [6:03:36<3:25:42, 56.71it/s]"
     ]
    },
    {
     "name": "stdout",
     "output_type": "stream",
     "text": [
      "1300000:  2506 games, mean reward 156.950, (eps 0.04), time 6:03:30.880067\n"
     ]
    },
    {
     "name": "stderr",
     "output_type": "stream",
     "text": [
      " 70%|███████████████████████████████████████████████▌                    | 1400007/1999999 [6:32:41<2:58:08, 56.13it/s]"
     ]
    },
    {
     "name": "stdout",
     "output_type": "stream",
     "text": [
      "1400000:  2689 games, mean reward 153.700, (eps 0.03), time 6:32:33.615784\n"
     ]
    },
    {
     "name": "stderr",
     "output_type": "stream",
     "text": [
      " 75%|███████████████████████████████████████████████████                 | 1500008/1999999 [7:01:48<2:26:13, 56.99it/s]"
     ]
    },
    {
     "name": "stdout",
     "output_type": "stream",
     "text": [
      "1500000:  2877 games, mean reward 177.650, (eps 0.02), time 7:01:44.604945\n"
     ]
    },
    {
     "name": "stderr",
     "output_type": "stream",
     "text": [
      " 80%|██████████████████████████████████████████████████████▍             | 1600010/1999999 [7:30:53<1:57:13, 56.87it/s]"
     ]
    },
    {
     "name": "stdout",
     "output_type": "stream",
     "text": [
      "1600000:  3072 games, mean reward 177.350, (eps 0.02), time 7:30:50.204407\n"
     ]
    },
    {
     "name": "stderr",
     "output_type": "stream",
     "text": [
      " 85%|█████████████████████████████████████████████████████████▊          | 1700007/1999999 [7:59:58<1:29:17, 56.00it/s]"
     ]
    },
    {
     "name": "stdout",
     "output_type": "stream",
     "text": [
      "1700000:  3263 games, mean reward 174.400, (eps 0.02), time 7:59:52.899171\n"
     ]
    },
    {
     "name": "stderr",
     "output_type": "stream",
     "text": [
      " 90%|███████████████████████████████████████████████████████████████       | 1800009/1999999 [8:29:03<58:50, 56.65it/s]"
     ]
    },
    {
     "name": "stdout",
     "output_type": "stream",
     "text": [
      "1800000:  3462 games, mean reward 127.850, (eps 0.02), time 8:29:01.891817\n"
     ]
    },
    {
     "name": "stderr",
     "output_type": "stream",
     "text": [
      " 95%|██████████████████████████████████████████████████████████████████▌   | 1900009/1999999 [8:58:07<29:51, 55.83it/s]"
     ]
    },
    {
     "name": "stdout",
     "output_type": "stream",
     "text": [
      "1900000:  3656 games, mean reward 193.950, (eps 0.02), time 8:58:03.760378\n"
     ]
    },
    {
     "name": "stderr",
     "output_type": "stream",
     "text": [
      "100%|██████████████████████████████████████████████████████████████████████| 1999999/1999999 [9:27:17<00:00, 58.76it/s]\n"
     ]
    },
    {
     "name": "stdout",
     "output_type": "stream",
     "text": [
      "Traning finished\n",
      "1999999:  3848 games, mean reward 161.900, (eps 0.02), time 9:27:11.112592\n"
     ]
    }
   ],
   "source": [
    "rewards1_invaders_Opt = train_func(env, DEFAULT_ENV_NAME, True, MEAN_REWARD_BOUND, MAX_FRAMES, gamma, batch_size, replay_size, learning_rate, sync_target_frames, replay_start_size, eps_start, eps_decay, eps_min, device)"
   ]
  },
  {
   "cell_type": "code",
   "execution_count": 117,
   "id": "3e970b6b-0962-4fed-87f4-f795505eb297",
   "metadata": {},
   "outputs": [
    {
     "name": "stdout",
     "output_type": "stream",
     "text": [
      "70, reward 25.0\n",
      "80, reward 5.0\n",
      "102, reward 10.0\n",
      "120, reward 30.0\n",
      "148, reward 5.0\n",
      "222, reward 5.0\n",
      "231, reward 10.0\n",
      "256, reward 15.0\n",
      "285, reward 10.0\n",
      "324, reward 20.0\n",
      "368, reward 5.0\n",
      "380, reward 10.0\n",
      "495, reward 5.0\n",
      "502, reward 10.0\n",
      "536, reward 5.0\n",
      "543, reward 10.0\n",
      "552, reward 15.0\n",
      "581, reward 15.0\n",
      "655, reward 15.0\n",
      "705, reward 15.0\n",
      "740, reward 20.0\n",
      "860, reward 25.0\n",
      "877, reward 20.0\n",
      "927, reward 25.0\n",
      "937, reward 30.0\n",
      "966, reward 20.0\n",
      "Total reward: 380.00\n"
     ]
    }
   ],
   "source": [
    "# Video Space Invaders\n",
    "make_video(DEFAULT_ENV_NAME, True)"
   ]
  },
  {
   "cell_type": "code",
   "execution_count": 168,
   "id": "88a98ce2-6413-430b-ab18-f9d6badcc95f",
   "metadata": {},
   "outputs": [
    {
     "data": {
      "text/plain": [
       "array([165., 165., 120., 165., 120., 165., 380., 165., 165., 380., 120.,\n",
       "       380., 380., 380., 380., 165., 120., 380., 165., 380.])"
      ]
     },
     "execution_count": 168,
     "metadata": {},
     "output_type": "execute_result"
    }
   ],
   "source": [
    "np.random.seed(2109)\n",
    "env.seed(2109)\n",
    "sample_invaders_Opt = sample(DEFAULT_ENV_NAME, 20, True)\n",
    "sample_invaders_Opt"
   ]
  },
  {
   "cell_type": "code",
   "execution_count": 240,
   "id": "6fcb1e7d-d457-45a5-a8cb-bcc49d14dd50",
   "metadata": {},
   "outputs": [
    {
     "data": {
      "text/plain": [
       "242.0"
      ]
     },
     "execution_count": 240,
     "metadata": {},
     "output_type": "execute_result"
    }
   ],
   "source": [
    "np.mean(sample_invaders_Opt)"
   ]
  },
  {
   "cell_type": "code",
   "execution_count": 169,
   "id": "77ac8446-b750-4bd7-b98a-f477723ce8c6",
   "metadata": {},
   "outputs": [
    {
     "data": {
      "text/plain": [
       "RanksumsResult(statistic=1.0820035616009187, pvalue=0.27925094536873785)"
      ]
     },
     "execution_count": 169,
     "metadata": {},
     "output_type": "execute_result"
    }
   ],
   "source": [
    "ranksums(sample_invaders, sample_invaders_Opt)"
   ]
  },
  {
   "cell_type": "markdown",
   "id": "e8499793-70d8-4412-a3f3-63ed73a91956",
   "metadata": {},
   "source": [
    "Vemos que el p-value bi es menor a 0.5, así que no podemos asumir que las distribuciones son diferentes."
   ]
  },
  {
   "cell_type": "code",
   "execution_count": 237,
   "id": "66e382a8-a7df-4f48-a4b6-f8c46c61cc0a",
   "metadata": {},
   "outputs": [],
   "source": [
    "cumsum_opt = np.cumsum(np.insert(rewards1_invaders_Opt, 0, 0)) \n",
    "opt_vec = (cumsum_opt[100:] - cumsum_opt[:-100]) / 100"
   ]
  },
  {
   "cell_type": "code",
   "execution_count": 238,
   "id": "ca2b9a6d-27d7-4e43-b9a5-bc5a7f4bb6f9",
   "metadata": {},
   "outputs": [],
   "source": [
    "cumsum = np.cumsum(np.insert(rewards1_invaders, 0, 0)) \n",
    "vec = (cumsum[100:] - cumsum[:-100]) / 100"
   ]
  },
  {
   "cell_type": "code",
   "execution_count": 239,
   "id": "c4f72e9a-9d69-4a56-9ea5-9c9e4e6e9122",
   "metadata": {},
   "outputs": [
    {
     "data": {
      "image/png": "[encoded data removed]",
      "text/plain": [
       "<Figure size 640x480 with 1 Axes>"
      ]
     },
     "metadata": {},
     "output_type": "display_data"
    }
   ],
   "source": [
    "plt.plot(opt_vec)\n",
    "plt.plot(vec)\n",
    "plt.title('2,000,000 frames Space Invaders')\n",
    "plt.xlabel('Games played')\n",
    "plt.ylabel('Average reward in the last 100 games')\n",
    "plt.legend([\"Optical\", \"DQN\"], loc =\"lower right\")\n",
    "plt.show()"
   ]
  },
  {
   "cell_type": "markdown",
   "id": "80f98086-31c0-42cf-9d13-66105bf73305",
   "metadata": {},
   "source": [
    "Vemos que a la hora de entrenar, en promedio, las recompensas eran mayores para DQN, pero a la hora de probar el modelo entrenado el modelo con flujo óptico obtiene el valor máximo de entre los 2, aunque también obtiene los valores mínimos."
   ]
  },
  {
   "cell_type": "code",
   "execution_count": null,
   "id": "a7a90391-6115-41f3-bed8-dadef971885e",
   "metadata": {},
   "outputs": [],
   "source": []
  }
 ],
 "metadata": {
  "kernelspec": {
   "display_name": "Python 3 (ipykernel)",
   "language": "python",
   "name": "python3"
  },
  "language_info": {
   "codemirror_mode": {
    "name": "ipython",
    "version": 3
   },
   "file_extension": ".py",
   "mimetype": "text/x-python",
   "name": "python",
   "nbconvert_exporter": "python",
   "pygments_lexer": "ipython3",
   "version": "3.10.6"
  }
 },
 "nbformat": 4,
 "nbformat_minor": 5
}
